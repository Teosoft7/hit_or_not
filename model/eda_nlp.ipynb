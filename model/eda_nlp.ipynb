{
 "cells": [
  {
   "cell_type": "markdown",
   "metadata": {},
   "source": [
    "## EDA with NLP method"
   ]
  },
  {
   "cell_type": "code",
   "execution_count": 1,
   "metadata": {},
   "outputs": [],
   "source": [
    "import pandas as pd\n",
    "import numpy as np\n",
    "\n",
    "from matplotlib import pyplot as plt\n",
    "from pymongo import MongoClient "
   ]
  },
  {
   "cell_type": "markdown",
   "metadata": {},
   "source": [
    "### Make a dataframe from mongodb\n",
    "\n",
    "**Collections**\n",
    "* video_detail : contains title, url, published date, video_id of video\n",
    "* view_count : contains # of views, comments, likes\n",
    "* comments : contatins comments for video\n"
   ]
  },
  {
   "cell_type": "code",
   "execution_count": 2,
   "metadata": {},
   "outputs": [],
   "source": [
    "# connect mongodb through ssh tunnel\n",
    "connection = MongoClient(port=47017)\n",
    "db = connection['youtube_scrap']"
   ]
  },
  {
   "cell_type": "markdown",
   "metadata": {},
   "source": [
    "### Load video detail to dataframe"
   ]
  },
  {
   "cell_type": "code",
   "execution_count": 3,
   "metadata": {},
   "outputs": [],
   "source": [
    "# load from mongodb\n",
    "video_coll = db['video_detail']\n",
    "video_cur = video_coll.find({})\n",
    "videos = [video for video in video_cur]"
   ]
  },
  {
   "cell_type": "code",
   "execution_count": 4,
   "metadata": {},
   "outputs": [
    {
     "data": {
      "text/html": [
       "<div>\n",
       "<style scoped>\n",
       "    .dataframe tbody tr th:only-of-type {\n",
       "        vertical-align: middle;\n",
       "    }\n",
       "\n",
       "    .dataframe tbody tr th {\n",
       "        vertical-align: top;\n",
       "    }\n",
       "\n",
       "    .dataframe thead th {\n",
       "        text-align: right;\n",
       "    }\n",
       "</style>\n",
       "<table border=\"1\" class=\"dataframe\">\n",
       "  <thead>\n",
       "    <tr style=\"text-align: right;\">\n",
       "      <th></th>\n",
       "      <th>_id</th>\n",
       "      <th>pubished</th>\n",
       "      <th>title</th>\n",
       "      <th>url</th>\n",
       "      <th>video_id</th>\n",
       "    </tr>\n",
       "  </thead>\n",
       "  <tbody>\n",
       "    <tr>\n",
       "      <th>0</th>\n",
       "      <td>5d13aed7e70a248460e5833f</td>\n",
       "      <td>Premiered Jun 19, 2019</td>\n",
       "      <td>Red Velvet 레드벨벳 '짐살라빔 (Zimzalabim)' MV</td>\n",
       "      <td>https://www.youtube.com/watch?v=YBnGBb1wg98</td>\n",
       "      <td>YBnGBb1wg98</td>\n",
       "    </tr>\n",
       "    <tr>\n",
       "      <th>1</th>\n",
       "      <td>5d13aedee70a248460e58340</td>\n",
       "      <td>Premiered Apr 4, 2019</td>\n",
       "      <td>BLACKPINK - 'Kill This Love' M/V</td>\n",
       "      <td>https://www.youtube.com/watch?v=2S24-y0Ij3Y</td>\n",
       "      <td>2S24-y0Ij3Y</td>\n",
       "    </tr>\n",
       "    <tr>\n",
       "      <th>2</th>\n",
       "      <td>5d13aee5e70a248460e58341</td>\n",
       "      <td>Published on Apr 12, 2019</td>\n",
       "      <td>BTS (방탄소년단) '작은 것들을 위한 시 (Boy With Luv) feat. ...</td>\n",
       "      <td>https://www.youtube.com/watch?v=XsX3ATc3FbA</td>\n",
       "      <td>XsX3ATc3FbA</td>\n",
       "    </tr>\n",
       "    <tr>\n",
       "      <th>3</th>\n",
       "      <td>5d13aeebe70a248460e58342</td>\n",
       "      <td>Published on Jun 19, 2019</td>\n",
       "      <td>Stray Kids \"부작용(Side Effects)\" M/V</td>\n",
       "      <td>https://www.youtube.com/watch?v=5rPluw_-Eb4</td>\n",
       "      <td>5rPluw_-Eb4</td>\n",
       "    </tr>\n",
       "    <tr>\n",
       "      <th>4</th>\n",
       "      <td>5d13aef1e70a248460e58343</td>\n",
       "      <td>Published on Jun 13, 2019</td>\n",
       "      <td>SOMI (전소미) - 'BIRTHDAY' M/V</td>\n",
       "      <td>https://www.youtube.com/watch?v=oDJ4ct59NC4</td>\n",
       "      <td>oDJ4ct59NC4</td>\n",
       "    </tr>\n",
       "  </tbody>\n",
       "</table>\n",
       "</div>"
      ],
      "text/plain": [
       "                        _id                   pubished  \\\n",
       "0  5d13aed7e70a248460e5833f     Premiered Jun 19, 2019   \n",
       "1  5d13aedee70a248460e58340      Premiered Apr 4, 2019   \n",
       "2  5d13aee5e70a248460e58341  Published on Apr 12, 2019   \n",
       "3  5d13aeebe70a248460e58342  Published on Jun 19, 2019   \n",
       "4  5d13aef1e70a248460e58343  Published on Jun 13, 2019   \n",
       "\n",
       "                                               title  \\\n",
       "0             Red Velvet 레드벨벳 '짐살라빔 (Zimzalabim)' MV   \n",
       "1                   BLACKPINK - 'Kill This Love' M/V   \n",
       "2  BTS (방탄소년단) '작은 것들을 위한 시 (Boy With Luv) feat. ...   \n",
       "3                 Stray Kids \"부작용(Side Effects)\" M/V   \n",
       "4                        SOMI (전소미) - 'BIRTHDAY' M/V   \n",
       "\n",
       "                                           url     video_id  \n",
       "0  https://www.youtube.com/watch?v=YBnGBb1wg98  YBnGBb1wg98  \n",
       "1  https://www.youtube.com/watch?v=2S24-y0Ij3Y  2S24-y0Ij3Y  \n",
       "2  https://www.youtube.com/watch?v=XsX3ATc3FbA  XsX3ATc3FbA  \n",
       "3  https://www.youtube.com/watch?v=5rPluw_-Eb4  5rPluw_-Eb4  \n",
       "4  https://www.youtube.com/watch?v=oDJ4ct59NC4  oDJ4ct59NC4  "
      ]
     },
     "execution_count": 4,
     "metadata": {},
     "output_type": "execute_result"
    }
   ],
   "source": [
    "# make a dataframe\n",
    "video_df = pd.DataFrame(videos)\n",
    "video_df.head()"
   ]
  },
  {
   "cell_type": "markdown",
   "metadata": {},
   "source": [
    "### Load comments to dataframe"
   ]
  },
  {
   "cell_type": "code",
   "execution_count": 5,
   "metadata": {},
   "outputs": [],
   "source": [
    "# load from mongodb\n",
    "comments_coll = db['comments']\n",
    "comments_cur = comments_coll.find({})\n",
    "comments = [comment for comment in comments_cur]"
   ]
  },
  {
   "cell_type": "code",
   "execution_count": 6,
   "metadata": {
    "scrolled": true
   },
   "outputs": [
    {
     "data": {
      "text/html": [
       "<div>\n",
       "<style scoped>\n",
       "    .dataframe tbody tr th:only-of-type {\n",
       "        vertical-align: middle;\n",
       "    }\n",
       "\n",
       "    .dataframe tbody tr th {\n",
       "        vertical-align: top;\n",
       "    }\n",
       "\n",
       "    .dataframe thead th {\n",
       "        text-align: right;\n",
       "    }\n",
       "</style>\n",
       "<table border=\"1\" class=\"dataframe\">\n",
       "  <thead>\n",
       "    <tr style=\"text-align: right;\">\n",
       "      <th></th>\n",
       "      <th>_id</th>\n",
       "      <th>comment</th>\n",
       "      <th>video_id</th>\n",
       "    </tr>\n",
       "  </thead>\n",
       "  <tbody>\n",
       "    <tr>\n",
       "      <th>0</th>\n",
       "      <td>5d13bbade70a248460e583ee</td>\n",
       "      <td>How many international fans are here ?\\n\\n\\n\\n...</td>\n",
       "      <td>YBnGBb1wg98</td>\n",
       "    </tr>\n",
       "    <tr>\n",
       "      <th>1</th>\n",
       "      <td>5d13bbaee70a248460e583ef</td>\n",
       "      <td>When the kpop world is influenzed by western s...</td>\n",
       "      <td>YBnGBb1wg98</td>\n",
       "    </tr>\n",
       "    <tr>\n",
       "      <th>2</th>\n",
       "      <td>5d13bbaee70a248460e583f0</td>\n",
       "      <td>🎢Zimzalabim🎢\\nFull Daily Views (6pm KST)\\n\\nDa...</td>\n",
       "      <td>YBnGBb1wg98</td>\n",
       "    </tr>\n",
       "    <tr>\n",
       "      <th>3</th>\n",
       "      <td>5d13bbaee70a248460e583f1</td>\n",
       "      <td>26M yayyy..!! The only one kpop i STAN RED VEL...</td>\n",
       "      <td>YBnGBb1wg98</td>\n",
       "    </tr>\n",
       "    <tr>\n",
       "      <th>4</th>\n",
       "      <td>5d13bbaee70a248460e583f2</td>\n",
       "      <td>Some k-company: make their artist lipsinc to f...</td>\n",
       "      <td>YBnGBb1wg98</td>\n",
       "    </tr>\n",
       "  </tbody>\n",
       "</table>\n",
       "</div>"
      ],
      "text/plain": [
       "                        _id  \\\n",
       "0  5d13bbade70a248460e583ee   \n",
       "1  5d13bbaee70a248460e583ef   \n",
       "2  5d13bbaee70a248460e583f0   \n",
       "3  5d13bbaee70a248460e583f1   \n",
       "4  5d13bbaee70a248460e583f2   \n",
       "\n",
       "                                             comment     video_id  \n",
       "0  How many international fans are here ?\\n\\n\\n\\n...  YBnGBb1wg98  \n",
       "1  When the kpop world is influenzed by western s...  YBnGBb1wg98  \n",
       "2  🎢Zimzalabim🎢\\nFull Daily Views (6pm KST)\\n\\nDa...  YBnGBb1wg98  \n",
       "3  26M yayyy..!! The only one kpop i STAN RED VEL...  YBnGBb1wg98  \n",
       "4  Some k-company: make their artist lipsinc to f...  YBnGBb1wg98  "
      ]
     },
     "execution_count": 6,
     "metadata": {},
     "output_type": "execute_result"
    }
   ],
   "source": [
    "# make a dataframe\n",
    "comments_df = pd.DataFrame(comments)\n",
    "comments_df.head()"
   ]
  },
  {
   "cell_type": "code",
   "execution_count": 7,
   "metadata": {},
   "outputs": [],
   "source": [
    "temp = pd.merge(video_df, comments_df, on='video_id')"
   ]
  },
  {
   "cell_type": "code",
   "execution_count": 8,
   "metadata": {},
   "outputs": [
    {
     "data": {
      "text/html": [
       "<div>\n",
       "<style scoped>\n",
       "    .dataframe tbody tr th:only-of-type {\n",
       "        vertical-align: middle;\n",
       "    }\n",
       "\n",
       "    .dataframe tbody tr th {\n",
       "        vertical-align: top;\n",
       "    }\n",
       "\n",
       "    .dataframe thead th {\n",
       "        text-align: right;\n",
       "    }\n",
       "</style>\n",
       "<table border=\"1\" class=\"dataframe\">\n",
       "  <thead>\n",
       "    <tr style=\"text-align: right;\">\n",
       "      <th></th>\n",
       "      <th>_id_x</th>\n",
       "      <th>pubished</th>\n",
       "      <th>title</th>\n",
       "      <th>url</th>\n",
       "      <th>video_id</th>\n",
       "      <th>_id_y</th>\n",
       "      <th>comment</th>\n",
       "    </tr>\n",
       "  </thead>\n",
       "  <tbody>\n",
       "    <tr>\n",
       "      <th>0</th>\n",
       "      <td>5d13aed7e70a248460e5833f</td>\n",
       "      <td>Premiered Jun 19, 2019</td>\n",
       "      <td>Red Velvet 레드벨벳 '짐살라빔 (Zimzalabim)' MV</td>\n",
       "      <td>https://www.youtube.com/watch?v=YBnGBb1wg98</td>\n",
       "      <td>YBnGBb1wg98</td>\n",
       "      <td>5d13bbade70a248460e583ee</td>\n",
       "      <td>How many international fans are here ?\\n\\n\\n\\n...</td>\n",
       "    </tr>\n",
       "    <tr>\n",
       "      <th>1</th>\n",
       "      <td>5d13aed7e70a248460e5833f</td>\n",
       "      <td>Premiered Jun 19, 2019</td>\n",
       "      <td>Red Velvet 레드벨벳 '짐살라빔 (Zimzalabim)' MV</td>\n",
       "      <td>https://www.youtube.com/watch?v=YBnGBb1wg98</td>\n",
       "      <td>YBnGBb1wg98</td>\n",
       "      <td>5d13bbaee70a248460e583ef</td>\n",
       "      <td>When the kpop world is influenzed by western s...</td>\n",
       "    </tr>\n",
       "    <tr>\n",
       "      <th>2</th>\n",
       "      <td>5d13aed7e70a248460e5833f</td>\n",
       "      <td>Premiered Jun 19, 2019</td>\n",
       "      <td>Red Velvet 레드벨벳 '짐살라빔 (Zimzalabim)' MV</td>\n",
       "      <td>https://www.youtube.com/watch?v=YBnGBb1wg98</td>\n",
       "      <td>YBnGBb1wg98</td>\n",
       "      <td>5d13bbaee70a248460e583f0</td>\n",
       "      <td>🎢Zimzalabim🎢\\nFull Daily Views (6pm KST)\\n\\nDa...</td>\n",
       "    </tr>\n",
       "    <tr>\n",
       "      <th>3</th>\n",
       "      <td>5d13aed7e70a248460e5833f</td>\n",
       "      <td>Premiered Jun 19, 2019</td>\n",
       "      <td>Red Velvet 레드벨벳 '짐살라빔 (Zimzalabim)' MV</td>\n",
       "      <td>https://www.youtube.com/watch?v=YBnGBb1wg98</td>\n",
       "      <td>YBnGBb1wg98</td>\n",
       "      <td>5d13bbaee70a248460e583f1</td>\n",
       "      <td>26M yayyy..!! The only one kpop i STAN RED VEL...</td>\n",
       "    </tr>\n",
       "    <tr>\n",
       "      <th>4</th>\n",
       "      <td>5d13aed7e70a248460e5833f</td>\n",
       "      <td>Premiered Jun 19, 2019</td>\n",
       "      <td>Red Velvet 레드벨벳 '짐살라빔 (Zimzalabim)' MV</td>\n",
       "      <td>https://www.youtube.com/watch?v=YBnGBb1wg98</td>\n",
       "      <td>YBnGBb1wg98</td>\n",
       "      <td>5d13bbaee70a248460e583f2</td>\n",
       "      <td>Some k-company: make their artist lipsinc to f...</td>\n",
       "    </tr>\n",
       "  </tbody>\n",
       "</table>\n",
       "</div>"
      ],
      "text/plain": [
       "                      _id_x                pubished  \\\n",
       "0  5d13aed7e70a248460e5833f  Premiered Jun 19, 2019   \n",
       "1  5d13aed7e70a248460e5833f  Premiered Jun 19, 2019   \n",
       "2  5d13aed7e70a248460e5833f  Premiered Jun 19, 2019   \n",
       "3  5d13aed7e70a248460e5833f  Premiered Jun 19, 2019   \n",
       "4  5d13aed7e70a248460e5833f  Premiered Jun 19, 2019   \n",
       "\n",
       "                                    title  \\\n",
       "0  Red Velvet 레드벨벳 '짐살라빔 (Zimzalabim)' MV   \n",
       "1  Red Velvet 레드벨벳 '짐살라빔 (Zimzalabim)' MV   \n",
       "2  Red Velvet 레드벨벳 '짐살라빔 (Zimzalabim)' MV   \n",
       "3  Red Velvet 레드벨벳 '짐살라빔 (Zimzalabim)' MV   \n",
       "4  Red Velvet 레드벨벳 '짐살라빔 (Zimzalabim)' MV   \n",
       "\n",
       "                                           url     video_id  \\\n",
       "0  https://www.youtube.com/watch?v=YBnGBb1wg98  YBnGBb1wg98   \n",
       "1  https://www.youtube.com/watch?v=YBnGBb1wg98  YBnGBb1wg98   \n",
       "2  https://www.youtube.com/watch?v=YBnGBb1wg98  YBnGBb1wg98   \n",
       "3  https://www.youtube.com/watch?v=YBnGBb1wg98  YBnGBb1wg98   \n",
       "4  https://www.youtube.com/watch?v=YBnGBb1wg98  YBnGBb1wg98   \n",
       "\n",
       "                      _id_y                                            comment  \n",
       "0  5d13bbade70a248460e583ee  How many international fans are here ?\\n\\n\\n\\n...  \n",
       "1  5d13bbaee70a248460e583ef  When the kpop world is influenzed by western s...  \n",
       "2  5d13bbaee70a248460e583f0  🎢Zimzalabim🎢\\nFull Daily Views (6pm KST)\\n\\nDa...  \n",
       "3  5d13bbaee70a248460e583f1  26M yayyy..!! The only one kpop i STAN RED VEL...  \n",
       "4  5d13bbaee70a248460e583f2  Some k-company: make their artist lipsinc to f...  "
      ]
     },
     "execution_count": 8,
     "metadata": {},
     "output_type": "execute_result"
    }
   ],
   "source": [
    "temp.head()"
   ]
  },
  {
   "cell_type": "markdown",
   "metadata": {},
   "source": [
    "### Load view_count to dataframe"
   ]
  },
  {
   "cell_type": "code",
   "execution_count": 9,
   "metadata": {},
   "outputs": [
    {
     "data": {
      "text/plain": [
       "{'_id': ObjectId('5d13b6a99ec6103a9817d745'),\n",
       " 'title': '모모랜드(MOMOLAND) - 바나나차차(뽀로로 삽입곡) M/V',\n",
       " 'view_count': 502364,\n",
       " 'comment_count': 1530,\n",
       " 'like_count': 25277,\n",
       " 'timestamp': datetime.datetime(2019, 6, 26, 18, 17, 9, 330000)}"
      ]
     },
     "execution_count": 9,
     "metadata": {},
     "output_type": "execute_result"
    }
   ],
   "source": [
    "view_count_coll = db['view_count']\n",
    "view_count_cur = view_count_coll.find({})\n",
    "view_count_cur.next()"
   ]
  },
  {
   "cell_type": "code",
   "execution_count": 10,
   "metadata": {},
   "outputs": [],
   "source": [
    "# single video has a lot of view counts by time\n",
    "# need to get max value by title (need to change to video_id)\n",
    "view_max_count =[row for row in view_count_coll.aggregate([\n",
    "    {\"$group\" : {'_id':\"$title\", 'view_count':{\"$max\":\"$view_count\"}}}\n",
    "])]"
   ]
  },
  {
   "cell_type": "code",
   "execution_count": 11,
   "metadata": {},
   "outputs": [],
   "source": [
    "view_count_df = pd.DataFrame(view_max_count)\n",
    "view_count_df.columns = ['title', 'view_count']"
   ]
  },
  {
   "cell_type": "code",
   "execution_count": 12,
   "metadata": {},
   "outputs": [
    {
     "data": {
      "text/html": [
       "<div>\n",
       "<style scoped>\n",
       "    .dataframe tbody tr th:only-of-type {\n",
       "        vertical-align: middle;\n",
       "    }\n",
       "\n",
       "    .dataframe tbody tr th {\n",
       "        vertical-align: top;\n",
       "    }\n",
       "\n",
       "    .dataframe thead th {\n",
       "        text-align: right;\n",
       "    }\n",
       "</style>\n",
       "<table border=\"1\" class=\"dataframe\">\n",
       "  <thead>\n",
       "    <tr style=\"text-align: right;\">\n",
       "      <th></th>\n",
       "      <th>_id_x</th>\n",
       "      <th>pubished</th>\n",
       "      <th>title</th>\n",
       "      <th>url</th>\n",
       "      <th>video_id</th>\n",
       "      <th>_id_y</th>\n",
       "      <th>comment</th>\n",
       "      <th>view_count</th>\n",
       "    </tr>\n",
       "  </thead>\n",
       "  <tbody>\n",
       "    <tr>\n",
       "      <th>0</th>\n",
       "      <td>5d13aed7e70a248460e5833f</td>\n",
       "      <td>Premiered Jun 19, 2019</td>\n",
       "      <td>Red Velvet 레드벨벳 '짐살라빔 (Zimzalabim)' MV</td>\n",
       "      <td>https://www.youtube.com/watch?v=YBnGBb1wg98</td>\n",
       "      <td>YBnGBb1wg98</td>\n",
       "      <td>5d13bbade70a248460e583ee</td>\n",
       "      <td>How many international fans are here ?\\n\\n\\n\\n...</td>\n",
       "      <td>26850555</td>\n",
       "    </tr>\n",
       "    <tr>\n",
       "      <th>1</th>\n",
       "      <td>5d13aed7e70a248460e5833f</td>\n",
       "      <td>Premiered Jun 19, 2019</td>\n",
       "      <td>Red Velvet 레드벨벳 '짐살라빔 (Zimzalabim)' MV</td>\n",
       "      <td>https://www.youtube.com/watch?v=YBnGBb1wg98</td>\n",
       "      <td>YBnGBb1wg98</td>\n",
       "      <td>5d13bbaee70a248460e583ef</td>\n",
       "      <td>When the kpop world is influenzed by western s...</td>\n",
       "      <td>26850555</td>\n",
       "    </tr>\n",
       "    <tr>\n",
       "      <th>2</th>\n",
       "      <td>5d13aed7e70a248460e5833f</td>\n",
       "      <td>Premiered Jun 19, 2019</td>\n",
       "      <td>Red Velvet 레드벨벳 '짐살라빔 (Zimzalabim)' MV</td>\n",
       "      <td>https://www.youtube.com/watch?v=YBnGBb1wg98</td>\n",
       "      <td>YBnGBb1wg98</td>\n",
       "      <td>5d13bbaee70a248460e583f0</td>\n",
       "      <td>🎢Zimzalabim🎢\\nFull Daily Views (6pm KST)\\n\\nDa...</td>\n",
       "      <td>26850555</td>\n",
       "    </tr>\n",
       "    <tr>\n",
       "      <th>3</th>\n",
       "      <td>5d13aed7e70a248460e5833f</td>\n",
       "      <td>Premiered Jun 19, 2019</td>\n",
       "      <td>Red Velvet 레드벨벳 '짐살라빔 (Zimzalabim)' MV</td>\n",
       "      <td>https://www.youtube.com/watch?v=YBnGBb1wg98</td>\n",
       "      <td>YBnGBb1wg98</td>\n",
       "      <td>5d13bbaee70a248460e583f1</td>\n",
       "      <td>26M yayyy..!! The only one kpop i STAN RED VEL...</td>\n",
       "      <td>26850555</td>\n",
       "    </tr>\n",
       "    <tr>\n",
       "      <th>4</th>\n",
       "      <td>5d13aed7e70a248460e5833f</td>\n",
       "      <td>Premiered Jun 19, 2019</td>\n",
       "      <td>Red Velvet 레드벨벳 '짐살라빔 (Zimzalabim)' MV</td>\n",
       "      <td>https://www.youtube.com/watch?v=YBnGBb1wg98</td>\n",
       "      <td>YBnGBb1wg98</td>\n",
       "      <td>5d13bbaee70a248460e583f2</td>\n",
       "      <td>Some k-company: make their artist lipsinc to f...</td>\n",
       "      <td>26850555</td>\n",
       "    </tr>\n",
       "  </tbody>\n",
       "</table>\n",
       "</div>"
      ],
      "text/plain": [
       "                      _id_x                pubished  \\\n",
       "0  5d13aed7e70a248460e5833f  Premiered Jun 19, 2019   \n",
       "1  5d13aed7e70a248460e5833f  Premiered Jun 19, 2019   \n",
       "2  5d13aed7e70a248460e5833f  Premiered Jun 19, 2019   \n",
       "3  5d13aed7e70a248460e5833f  Premiered Jun 19, 2019   \n",
       "4  5d13aed7e70a248460e5833f  Premiered Jun 19, 2019   \n",
       "\n",
       "                                    title  \\\n",
       "0  Red Velvet 레드벨벳 '짐살라빔 (Zimzalabim)' MV   \n",
       "1  Red Velvet 레드벨벳 '짐살라빔 (Zimzalabim)' MV   \n",
       "2  Red Velvet 레드벨벳 '짐살라빔 (Zimzalabim)' MV   \n",
       "3  Red Velvet 레드벨벳 '짐살라빔 (Zimzalabim)' MV   \n",
       "4  Red Velvet 레드벨벳 '짐살라빔 (Zimzalabim)' MV   \n",
       "\n",
       "                                           url     video_id  \\\n",
       "0  https://www.youtube.com/watch?v=YBnGBb1wg98  YBnGBb1wg98   \n",
       "1  https://www.youtube.com/watch?v=YBnGBb1wg98  YBnGBb1wg98   \n",
       "2  https://www.youtube.com/watch?v=YBnGBb1wg98  YBnGBb1wg98   \n",
       "3  https://www.youtube.com/watch?v=YBnGBb1wg98  YBnGBb1wg98   \n",
       "4  https://www.youtube.com/watch?v=YBnGBb1wg98  YBnGBb1wg98   \n",
       "\n",
       "                      _id_y  \\\n",
       "0  5d13bbade70a248460e583ee   \n",
       "1  5d13bbaee70a248460e583ef   \n",
       "2  5d13bbaee70a248460e583f0   \n",
       "3  5d13bbaee70a248460e583f1   \n",
       "4  5d13bbaee70a248460e583f2   \n",
       "\n",
       "                                             comment  view_count  \n",
       "0  How many international fans are here ?\\n\\n\\n\\n...    26850555  \n",
       "1  When the kpop world is influenzed by western s...    26850555  \n",
       "2  🎢Zimzalabim🎢\\nFull Daily Views (6pm KST)\\n\\nDa...    26850555  \n",
       "3  26M yayyy..!! The only one kpop i STAN RED VEL...    26850555  \n",
       "4  Some k-company: make their artist lipsinc to f...    26850555  "
      ]
     },
     "execution_count": 12,
     "metadata": {},
     "output_type": "execute_result"
    }
   ],
   "source": [
    "# merge with temp dataframe\n",
    "df = pd.merge(temp, view_count_df, on='title')\n",
    "df.head()"
   ]
  },
  {
   "cell_type": "markdown",
   "metadata": {},
   "source": [
    "## First spaghetti model"
   ]
  },
  {
   "cell_type": "markdown",
   "metadata": {},
   "source": [
    "### Make a simple model with basic TFIDF & Linear Regression"
   ]
  },
  {
   "cell_type": "code",
   "execution_count": 13,
   "metadata": {},
   "outputs": [],
   "source": [
    "# import prerequisties\n",
    "from sklearn.feature_extraction.text import TfidfVectorizer\n",
    "from sklearn.feature_extraction import stop_words\n",
    "from sklearn.model_selection import train_test_split\n",
    "from sklearn.linear_model import LinearRegression\n",
    "from sklearn.metrics import r2_score\n",
    "from sklearn.pipeline import Pipeline\n"
   ]
  },
  {
   "cell_type": "code",
   "execution_count": 14,
   "metadata": {},
   "outputs": [],
   "source": [
    "X = df['comment']"
   ]
  },
  {
   "cell_type": "code",
   "execution_count": 15,
   "metadata": {},
   "outputs": [],
   "source": [
    "y = df['view_count']"
   ]
  },
  {
   "cell_type": "code",
   "execution_count": 16,
   "metadata": {},
   "outputs": [],
   "source": [
    "# Parameters for TF-IDF vectorize\n",
    "ngrams_1 = {\n",
    "    'ngram_range': (1, 1),\n",
    "    'stop_words': 'english',\n",
    "    'dtype': 'int32',\n",
    "    'strip_accents': 'unicode',\n",
    "    'decode_error': 'replace',\n",
    "    'analyzer': 'word',\n",
    "    'min_df': 2\n",
    "}"
   ]
  },
  {
   "cell_type": "code",
   "execution_count": 17,
   "metadata": {},
   "outputs": [],
   "source": [
    "# Pipeline TFIDF & LinearRegression\n",
    "pp_first = Pipeline([\n",
    "    ('tfidf', TfidfVectorizer(ngrams_1)),\n",
    "    ('classifier', LinearRegression())\n",
    "])"
   ]
  },
  {
   "cell_type": "code",
   "execution_count": 18,
   "metadata": {},
   "outputs": [],
   "source": [
    "# Split train & test data\n",
    "X_train, X_test, y_train, y_test = train_test_split(X, y, test_size=0.2)"
   ]
  },
  {
   "cell_type": "code",
   "execution_count": 19,
   "metadata": {},
   "outputs": [
    {
     "data": {
      "text/plain": [
       "Pipeline(memory=None,\n",
       "     steps=[('tfidf', TfidfVectorizer(analyzer='word', binary=False, decode_error='strict',\n",
       "        dtype=<class 'numpy.float64'>, encoding='utf-8',\n",
       "        input={'ngram_range': (1, 1), 'stop_words': 'english', 'dtype': 'int32', 'strip_accents': 'unicode', 'decode_error': 'replace', 'analyzer': 'word', ...ssifier', LinearRegression(copy_X=True, fit_intercept=True, n_jobs=None,\n",
       "         normalize=False))])"
      ]
     },
     "execution_count": 19,
     "metadata": {},
     "output_type": "execute_result"
    }
   ],
   "source": [
    "pp_first.fit(X_train, y_train)"
   ]
  },
  {
   "cell_type": "code",
   "execution_count": 20,
   "metadata": {},
   "outputs": [
    {
     "data": {
      "text/plain": [
       "0.8629085093276447"
      ]
     },
     "execution_count": 20,
     "metadata": {},
     "output_type": "execute_result"
    }
   ],
   "source": [
    "pp_first.score(X_train, y_train)"
   ]
  },
  {
   "cell_type": "code",
   "execution_count": 21,
   "metadata": {},
   "outputs": [
    {
     "data": {
      "text/plain": [
       "-141.0434637063376"
      ]
     },
     "execution_count": 21,
     "metadata": {},
     "output_type": "execute_result"
    }
   ],
   "source": [
    "pp_first.score(X_test, y_test)"
   ]
  },
  {
   "cell_type": "markdown",
   "metadata": {},
   "source": [
    "**Too Bad Score, find another way**"
   ]
  },
  {
   "cell_type": "code",
   "execution_count": 31,
   "metadata": {},
   "outputs": [],
   "source": [
    "from textblob import TextBlob\n",
    "from textblob.sentiments import NaiveBayesAnalyzer\n",
    "# opinion = TextBlob(\"EliteDataScience.com is dope!\", analyzer=NaiveBayesAnalyzer())\n",
    "# opinion.sentiment\n",
    "from datetime import datetime"
   ]
  },
  {
   "cell_type": "code",
   "execution_count": 34,
   "metadata": {},
   "outputs": [
    {
     "data": {
      "text/plain": [
       "Sentiment(classification='pos', p_pos=0.7865389082121107, p_neg=0.21346109178788916)"
      ]
     },
     "execution_count": 34,
     "metadata": {},
     "output_type": "execute_result"
    }
   ],
   "source": [
    "sentiment = TextBlob(comments_df.loc[0, 'comment'], analyzer=NaiveBayesAnalyzer()).sentiment\n",
    "sentiment\n",
    "    "
   ]
  },
  {
   "cell_type": "code",
   "execution_count": null,
   "metadata": {},
   "outputs": [],
   "source": []
  }
 ],
 "metadata": {
  "kernelspec": {
   "display_name": "Python 3",
   "language": "python",
   "name": "python3"
  },
  "language_info": {
   "codemirror_mode": {
    "name": "ipython",
    "version": 3
   },
   "file_extension": ".py",
   "mimetype": "text/x-python",
   "name": "python",
   "nbconvert_exporter": "python",
   "pygments_lexer": "ipython3",
   "version": "3.7.3"
  }
 },
 "nbformat": 4,
 "nbformat_minor": 2
}
