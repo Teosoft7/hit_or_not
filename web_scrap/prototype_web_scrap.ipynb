{
 "cells": [
  {
   "cell_type": "markdown",
   "metadata": {},
   "source": [
    "## Collect the data from Youtube\n",
    "\n",
    "### Scrap music video list & number of views\n",
    "\n",
    "With selenium and firefox,\n",
    " * Scrap kpop music videos on youtube\n",
    " * Scrap # of views for certain video"
   ]
  },
  {
   "cell_type": "markdown",
   "metadata": {},
   "source": [
    "#### import prerequisites"
   ]
  },
  {
   "cell_type": "code",
   "execution_count": 6,
   "metadata": {},
   "outputs": [],
   "source": [
    "from selenium.webdriver import Firefox\n",
    "from pymongo import MongoClient \n",
    "from datetime import datetime\n",
    "\n",
    "import random\n",
    "import time\n",
    "import os"
   ]
  },
  {
   "cell_type": "markdown",
   "metadata": {},
   "source": [
    "#### connect to mongodb set up on the cloud\n",
    "\n",
    "with SSH tunnel through 47017 port"
   ]
  },
  {
   "cell_type": "code",
   "execution_count": 11,
   "metadata": {},
   "outputs": [],
   "source": [
    "connection = MongoClient(port=47017)\n",
    "db = connection['youtube_scrap']"
   ]
  },
  {
   "cell_type": "code",
   "execution_count": 3,
   "metadata": {},
   "outputs": [],
   "source": [
    "# Initialize browser\n",
    "browser = Firefox()"
   ]
  },
  {
   "cell_type": "markdown",
   "metadata": {},
   "source": [
    "#### Collect video list"
   ]
  },
  {
   "cell_type": "code",
   "execution_count": 13,
   "metadata": {},
   "outputs": [],
   "source": [
    "def collect_videos(browser, db):    \n",
    "    \"\"\"Collect video list from youtube and save to videos collection\"\"\"\n",
    "    url = 'https://www.youtube.com/results?search_query=kpop+music+video&sp=CAMSBggEEAEYAQ%253D%253D'\n",
    "    browser.get(url)\n",
    "    time.sleep(2)\n",
    "\n",
    "    for _ in range(10):\n",
    "        browser.execute_script(\"window.scrollTo(0, window.scrollY + 200000)\")\n",
    "        time.sleep(3)\n",
    "\n",
    "    # Get video title & URL\n",
    "    videolinks = browser.find_elements_by_id('video-title')\n",
    "    videos = [(link.text, link.get_attribute('href')) for link in videolinks]\n",
    "    \n",
    "    # Store to 'videos' collection\n",
    "    i = 0\n",
    "    coll = db['videos']\n",
    "    for title, url in videos:\n",
    "        i +=1\n",
    "        video_id = url.split('=')[-1]\n",
    "        coll.insert_one({\n",
    "            'video_id': video_id,\n",
    "            'title': title,\n",
    "            'url': url\n",
    "        })\n",
    "\n",
    "    print(f'{i} videos were collected.')\n",
    "    "
   ]
  },
  {
   "cell_type": "code",
   "execution_count": 14,
   "metadata": {},
   "outputs": [
    {
     "name": "stdout",
     "output_type": "stream",
     "text": [
      "217 videos were collected.\n"
     ]
    }
   ],
   "source": [
    "collect_videos(browser, db)"
   ]
  },
  {
   "cell_type": "markdown",
   "metadata": {},
   "source": [
    "#### Get number of views"
   ]
  },
  {
   "cell_type": "code",
   "execution_count": 4,
   "metadata": {},
   "outputs": [],
   "source": [
    "def get_view_count(browser, url):\n",
    "    \"\"\"Return the view_count and timestamp\"\"\"\n",
    "    browser.get(url)\n",
    "    time.sleep(3)\n",
    "    now = datetime.now()\n",
    "    sel = 'span.view-count'\n",
    "    view_count = browser.find_element_by_css_selector(sel).text\n",
    "\n",
    "    return {\n",
    "        'view_count': int(''.join([n for n in view_count if n.isdigit()])),\n",
    "        'timestamp': now }"
   ]
  },
  {
   "cell_type": "code",
   "execution_count": 15,
   "metadata": {},
   "outputs": [],
   "source": [
    "# Get video list from videos collection\n",
    "coll = db['videos']\n",
    "cur = coll.find({})"
   ]
  },
  {
   "cell_type": "code",
   "execution_count": 17,
   "metadata": {},
   "outputs": [],
   "source": [
    "# Store it to list\n",
    "videos = [video for video in cur]"
   ]
  },
  {
   "cell_type": "code",
   "execution_count": 19,
   "metadata": {},
   "outputs": [
    {
     "data": {
      "text/plain": [
       "{'_id': ObjectId('5d1269888771f921313fed50'),\n",
       " 'video_id': 'oDJ4ct59NC4',\n",
       " 'title': \"SOMI (전소미) - 'BIRTHDAY' M/V\",\n",
       " 'url': 'https://www.youtube.com/watch?v=oDJ4ct59NC4'}"
      ]
     },
     "execution_count": 19,
     "metadata": {},
     "output_type": "execute_result"
    }
   ],
   "source": [
    "videos[0]"
   ]
  },
  {
   "cell_type": "code",
   "execution_count": 6,
   "metadata": {},
   "outputs": [
    {
     "name": "stdout",
     "output_type": "stream",
     "text": [
      "Audiofreq - Rewind (Official Video) 7664\n",
      "Ully Moch & Ifan Seventeen - HUN (Official Music Video NAGASWARA) #music 327731\n",
      "OLD TOWN ROAD Kids Dance Music Video 42069\n",
      "Ayu Ting Ting x Keremcem - Apalah Cinta (Official Music Video) 7368888\n",
      "Squeeze by Fille ft Voltage Music (Official Video) 11617\n",
      "DAVIS - Alright (Official Music Video) 775\n",
      "MC Klinton - SHQIPE TRAPKING prod.OGRruga (Official Video HD) 6563\n",
      "Hez Hazmi - Biar Aku Pergi (Official Music Video) 92296\n",
      "VRKINGS - SNAKEBITE FT. HONEY CRUX | BHAGUMIA | OFFICIAL MUSIC VIDEO | LATEST HINDI RAP | 2019 942\n",
      "Hard Driver - Young Birds (Official Video) 52255\n",
      "Julz West - On My Own (Dance Music Video) 253\n",
      "Sule & Baby Shima - Terpisah Jarak Dan Waktu (Official Music Video NAGASWARA) #music 1613066\n",
      "ALBUM SONIYA VE Official || ADITYA SINGH || Music Video Song || 2019 album 2219\n",
      "Agung Pradanta - Kuat Ati ( Official Music Video ) 3752\n",
      "BANNED KPOP Music Videos for Stupid Reasons 503555\n",
      "MOUSTO CAMARA | Syli De Guinée | 🇬🇳Official Video 2019 | By Dj.IKK 301\n",
      "TIRANKE SIDIME | Syli De Guinée | 🇬🇳Official Video 2019 | By Dj IKK 2800\n",
      "GODDYS - AMBROSIA (OFFICIAL MUSIC VIDEO) - 2019 - 4K 1102\n",
      "Remi Moore - Greater Things (Official Music Video) 369\n",
      "#065 - AEPHANEMER - Bloodline (OFFICIAL MUSIC VIDEO) | Reaction 16\n",
      "Audiofreq - Rewind (Official Video) 7668\n",
      "Ully Moch & Ifan Seventeen - HUN (Official Music Video NAGASWARA) #music 327731\n",
      "OLD TOWN ROAD Kids Dance Music Video 42069\n",
      "Ayu Ting Ting x Keremcem - Apalah Cinta (Official Music Video) 7369016\n",
      "Squeeze by Fille ft Voltage Music (Official Video) 11617\n",
      "DAVIS - Alright (Official Music Video) 775\n",
      "MC Klinton - SHQIPE TRAPKING prod.OGRruga (Official Video HD) 6563\n",
      "Hez Hazmi - Biar Aku Pergi (Official Music Video) 92296\n",
      "VRKINGS - SNAKEBITE FT. HONEY CRUX | BHAGUMIA | OFFICIAL MUSIC VIDEO | LATEST HINDI RAP | 2019 942\n",
      "Hard Driver - Young Birds (Official Video) 52281\n",
      "ALBUM SONIYA VE Official || ADITYA SINGH || Music Video Song || 2019 album 2219\n",
      "Julz West - On My Own (Dance Music Video) 253\n",
      "Sule & Baby Shima - Terpisah Jarak Dan Waktu (Official Music Video NAGASWARA) #music 1613066\n",
      "Agung Pradanta - Kuat Ati ( Official Music Video ) 3752\n",
      "BANNED KPOP Music Videos for Stupid Reasons 503555\n",
      "MOUSTO CAMARA | Syli De Guinée | 🇬🇳Official Video 2019 | By Dj.IKK 301\n",
      "TIRANKE SIDIME | Syli De Guinée | 🇬🇳Official Video 2019 | By Dj IKK 2800\n",
      "GODDYS - AMBROSIA (OFFICIAL MUSIC VIDEO) - 2019 - 4K 1102\n",
      "Lil Nas X - Old Town Road (Lyrics) ft. Billy Ray Cyrus 2164049\n",
      "#065 - AEPHANEMER - Bloodline (OFFICIAL MUSIC VIDEO) | Reaction 16\n",
      "YAMA SEGA | Bonbon Sucré | 🇬🇳Official Video 2019 | By Dj IKK 23684\n",
      "Polo G - Lost Files (Music Video) 33\n",
      "SOLEO - Całowałaś Przytulałaś ☆ OFFICIAL VIDEO ☆ 86653\n",
      "Remi Moore - Greater Things (Official Music Video) 369\n",
      "AUGER - When We Are Apart (Official Video) 3064\n",
      "Scotti - Ijs (Official Music Video) 168\n",
      "CAESARIA - Floating Heads [Official Music Video] 1210\n",
      "VIBE | Adnan Sheikh | Official Music Video | 4K 5943\n",
      "Ready or Not (Fortnite Music Video) - 21 Kills 632\n",
      "Syahiba Saufa - Kangen Mantan (Official Music Video) 4914\n",
      "Madonna - God Control (Music Video) Trailer 194\n",
      "Wizkid Ft. Lil Wayne - Level Up (Official Music Video) 3480\n",
      "Celebs share behind-the-scenes photos from Taylor Swift's music video shoot l GMA 18305\n",
      "Hopeless (Niggas) (Official Music Video) 57\n",
      "Wizkid - Joro ft. Koffee (Official Music Video) 17941\n",
      "Reality Is Cold - Music Video ( Production by Mort Shybur ) 16389\n",
      "The Game Episode 7 (Rap Battle) Latest music video 2019 71\n",
      "Shawn Mendes, Camila Cabello - Señorita (Lyrics) Letra 1136225\n",
      "Drake - Omertà [ Music Video] 2019 935\n",
      "MUSIC VIDEO - I LIVE BY MY OWN ( MAKE IT BETTER ) - ORIGINAL SONG By ADRIAN NOVICKÝ 268\n"
     ]
    }
   ],
   "source": [
    "# Collect number of views\n",
    "while True:\n",
    "    coll = db['view_count']\n",
    "    for video in videos:\n",
    "        print(video['title'])\n",
    "        count = get_view_count(browser, video['url'])\n",
    "        coll.insert_one({\n",
    "            'title': video['title'],\n",
    "            'view_count': count['view_count'],\n",
    "            'timestamp': count['timestamp']\n",
    "        })\n",
    "    time.sleep(600)\n"
   ]
  },
  {
   "cell_type": "code",
   "execution_count": null,
   "metadata": {},
   "outputs": [],
   "source": [
    "browser.close()"
   ]
  }
 ],
 "metadata": {
  "kernelspec": {
   "display_name": "Python 3",
   "language": "python",
   "name": "python3"
  },
  "language_info": {
   "codemirror_mode": {
    "name": "ipython",
    "version": 3
   },
   "file_extension": ".py",
   "mimetype": "text/x-python",
   "name": "python",
   "nbconvert_exporter": "python",
   "pygments_lexer": "ipython3",
   "version": "3.7.3"
  }
 },
 "nbformat": 4,
 "nbformat_minor": 2
}
