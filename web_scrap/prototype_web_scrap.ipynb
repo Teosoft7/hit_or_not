{
 "cells": [
  {
   "cell_type": "markdown",
   "metadata": {},
   "source": [
    "## Collect the data from Youtube\n",
    "\n",
    "### Scraping music video list & number of views\n",
    "\n",
    "With selenium and firefox,\n",
    " * Scrap kpop music videos on youtube\n",
    " * Scrap # of views for certain video"
   ]
  },
  {
   "cell_type": "markdown",
   "metadata": {},
   "source": [
    "#### import prerequisites"
   ]
  },
  {
   "cell_type": "code",
   "execution_count": 1,
   "metadata": {},
   "outputs": [],
   "source": [
    "from selenium.webdriver import Firefox\n",
    "from datetime import datetime\n",
    "\n",
    "import pandas as pd\n",
    "import random\n",
    "import time\n",
    "import os"
   ]
  },
  {
   "cell_type": "code",
   "execution_count": 2,
   "metadata": {},
   "outputs": [],
   "source": [
    "# Initialize browser\n",
    "browser = Firefox()"
   ]
  },
  {
   "cell_type": "markdown",
   "metadata": {},
   "source": [
    "#### Collect video list & detail"
   ]
  },
  {
   "cell_type": "code",
   "execution_count": 3,
   "metadata": {},
   "outputs": [],
   "source": [
    "def collect_videos(browser):    \n",
    "    \"\"\"Returns collected video list from youtube\"\"\"\n",
    "    \n",
    "    print(f'collecting start - {datetime.now()}')\n",
    "    url = 'https://www.youtube.com/results?search_query=kpop+music+video&sp=CAMSBggEEAEYAQ%253D%253D'\n",
    "    browser.get(url)\n",
    "    time.sleep(2)\n",
    "\n",
    "    # scroll down several times, to get more videos\n",
    "    \n",
    "    for _ in range(7):\n",
    "        browser.execute_script(\"window.scrollTo(0, window.scrollY + 200000)\")\n",
    "        time.sleep(2)\n",
    "\n",
    "    # Get video title & URL\n",
    "    videolinks = browser.find_elements_by_id('video-title')\n",
    "    videos = [(link.text, link.get_attribute('href')) for link in videolinks]\n",
    "\n",
    "    # Store to 'videos' collection\n",
    "    i = 0\n",
    "    result = []\n",
    "    \n",
    "    for title, url in videos:\n",
    "        i +=1\n",
    "        video_id = url.split('=')[-1]\n",
    "        video = {\n",
    "            'video_id': video_id,\n",
    "            'title': title,\n",
    "            'url': url\n",
    "        }\n",
    "        result.append(video)\n",
    "\n",
    "    print(f'{i} videos were collected. - {datetime.now()}')\n",
    "    return result\n"
   ]
  },
  {
   "cell_type": "code",
   "execution_count": 4,
   "metadata": {},
   "outputs": [
    {
     "name": "stdout",
     "output_type": "stream",
     "text": [
      "collecting start - 2019-07-09 12:15:52.415103\n",
      "156 videos were collected. - 2019-07-09 12:16:13.039244\n"
     ]
    }
   ],
   "source": [
    "videos = collect_videos(browser)"
   ]
  },
  {
   "cell_type": "code",
   "execution_count": 5,
   "metadata": {},
   "outputs": [
    {
     "data": {
      "text/plain": [
       "[{'video_id': 'ZdKYi5ekshM',\n",
       "  'title': 'TWICE「Breakthrough」Music Video',\n",
       "  'url': 'https://www.youtube.com/watch?v=ZdKYi5ekshM'},\n",
       " {'video_id': '3n9rDwpa6QA',\n",
       "  'title': 'TWICE「HAPPY HAPPY」Music Video',\n",
       "  'url': 'https://www.youtube.com/watch?v=3n9rDwpa6QA'},\n",
       " {'video_id': 'uAjn3-c9boc',\n",
       "  'title': 'BANNED KPOP Music Videos for Stupid Reasons',\n",
       "  'url': 'https://www.youtube.com/watch?v=uAjn3-c9boc'}]"
      ]
     },
     "execution_count": 5,
     "metadata": {},
     "output_type": "execute_result"
    }
   ],
   "source": [
    "videos[:3]"
   ]
  },
  {
   "cell_type": "code",
   "execution_count": 6,
   "metadata": {},
   "outputs": [
    {
     "data": {
      "text/plain": [
       "['https://www.youtube.com/watch?v=ZdKYi5ekshM',\n",
       " 'https://www.youtube.com/watch?v=3n9rDwpa6QA',\n",
       " 'https://www.youtube.com/watch?v=uAjn3-c9boc']"
      ]
     },
     "execution_count": 6,
     "metadata": {},
     "output_type": "execute_result"
    }
   ],
   "source": [
    "# Extract just urls and get more detail about it\n",
    "urls = [video['url'] for video in videos]\n",
    "urls[:3]"
   ]
  },
  {
   "cell_type": "code",
   "execution_count": 7,
   "metadata": {},
   "outputs": [],
   "source": [
    "# Or load from text file\n",
    "df = pd.read_csv('./data/new_0709.txt', header=None)\n",
    "df.columns=['URL']"
   ]
  },
  {
   "cell_type": "code",
   "execution_count": 8,
   "metadata": {},
   "outputs": [
    {
     "data": {
      "text/plain": [
       "4"
      ]
     },
     "execution_count": 8,
     "metadata": {},
     "output_type": "execute_result"
    }
   ],
   "source": [
    "urls = df['URL'].unique()\n",
    "len(urls)"
   ]
  },
  {
   "cell_type": "code",
   "execution_count": 9,
   "metadata": {},
   "outputs": [],
   "source": [
    "def collect_video_detail(browser, urls, start_point=0):    \n",
    "    \"\"\"Returns collectd video detail from youtube\"\"\"\n",
    "    i = 0\n",
    "    result = []\n",
    "    print(f'collecting start - {datetime.now()}')\n",
    "\n",
    "    for url in urls:\n",
    "        # if some skip needed\n",
    "        # set start_point in the list\n",
    "        if (i < start_point):\n",
    "            i+=1\n",
    "            continue\n",
    "        \n",
    "        try:            \n",
    "            # open the web page\n",
    "            browser.get(url)\n",
    "            time.sleep(3)\n",
    "\n",
    "            browser.execute_script(\"window.scrollTo(0, window.scrollY + 720)\")\n",
    "            time.sleep(3)\n",
    "\n",
    "            # parsing the values\n",
    "            title = browser.find_element_by_css_selector('h1.title').text\n",
    "            published = browser.find_element_by_css_selector('span.date').text\n",
    "            video_id = url.split('=')[-1]\n",
    "\n",
    "            video_info = {\n",
    "                'video_id': video_id,\n",
    "                'published': published,\n",
    "                'title': title,\n",
    "                'url': url\n",
    "            }\n",
    "\n",
    "            result.append(video_info)\n",
    "            print(f'{datetime.now()} {i} - {title} has been processed.')\n",
    "            i += 1\n",
    "        except:\n",
    "            print(f'some errors happens for {url}')\n",
    "        \n",
    "    return result\n"
   ]
  },
  {
   "cell_type": "code",
   "execution_count": 10,
   "metadata": {},
   "outputs": [
    {
     "name": "stdout",
     "output_type": "stream",
     "text": [
      "collecting start - 2019-07-09 12:16:13.132644\n",
      "2019-07-09 12:16:21.195089 0 - [MV] HA SUNG WOON(하성운) _ BLUE has been processed.\n",
      "2019-07-09 12:16:29.534383 1 - [MV] MeloMance(멜로망스) _ You&I(인사) has been processed.\n",
      "2019-07-09 12:16:37.823031 2 - [MV] WH3N(웬) _ I've Been Thinking About It A Lot(무엇이 그토록 그대를) (Short Film) has been processed.\n",
      "2019-07-09 12:16:45.862612 3 - [MV] Stella Jang(스텔라장) _ YOLO has been processed.\n"
     ]
    }
   ],
   "source": [
    "video_detail = collect_video_detail(browser, urls)"
   ]
  },
  {
   "cell_type": "code",
   "execution_count": 11,
   "metadata": {},
   "outputs": [
    {
     "data": {
      "text/plain": [
       "[{'video_id': 'Wiq0J7_jHI8',\n",
       "  'published': 'Published on Jul 8, 2019',\n",
       "  'title': '[MV] HA SUNG WOON(하성운) _ BLUE',\n",
       "  'url': 'https://www.youtube.com/watch?v=Wiq0J7_jHI8'},\n",
       " {'video_id': '-zVL1JRDYxg',\n",
       "  'published': 'Published on Jul 9, 2019',\n",
       "  'title': '[MV] MeloMance(멜로망스) _ You&I(인사)',\n",
       "  'url': 'https://www.youtube.com/watch?v=-zVL1JRDYxg'},\n",
       " {'video_id': 'dr-L5QLewIk',\n",
       "  'published': 'Published on Jul 7, 2019',\n",
       "  'title': \"[MV] WH3N(웬) _ I've Been Thinking About It A Lot(무엇이 그토록 그대를) (Short Film)\",\n",
       "  'url': 'https://www.youtube.com/watch?v=dr-L5QLewIk'}]"
      ]
     },
     "execution_count": 11,
     "metadata": {},
     "output_type": "execute_result"
    }
   ],
   "source": [
    "video_detail[:3]"
   ]
  },
  {
   "cell_type": "markdown",
   "metadata": {},
   "source": [
    "#### Get detail infomation for video"
   ]
  },
  {
   "cell_type": "code",
   "execution_count": 12,
   "metadata": {},
   "outputs": [],
   "source": [
    "# select a video\n",
    "url = urls[0]\n",
    "\n",
    "#url = 'https://www.youtube.com/watch?v=kZOZ5nJ5lI0'"
   ]
  },
  {
   "cell_type": "code",
   "execution_count": 13,
   "metadata": {},
   "outputs": [],
   "source": [
    "# open YouTube page\n",
    "browser.get(url)\n",
    "time.sleep(1)\n",
    "browser.execute_script(\"window.scrollTo(0, window.scrollY + 320)\")\n",
    "time.sleep(2)"
   ]
  },
  {
   "cell_type": "code",
   "execution_count": 14,
   "metadata": {},
   "outputs": [
    {
     "data": {
      "text/plain": [
       "'Published on Jul 8, 2019'"
      ]
     },
     "execution_count": 14,
     "metadata": {},
     "output_type": "execute_result"
    }
   ],
   "source": [
    "# published date\n",
    "browser.find_element_by_css_selector('span.date').text"
   ]
  },
  {
   "cell_type": "code",
   "execution_count": 15,
   "metadata": {},
   "outputs": [
    {
     "data": {
      "text/plain": [
       "'3,189 Comments'"
      ]
     },
     "execution_count": 15,
     "metadata": {},
     "output_type": "execute_result"
    }
   ],
   "source": [
    "# number of comments\n",
    "browser.find_element_by_class_name('count-text').text"
   ]
  },
  {
   "cell_type": "code",
   "execution_count": 16,
   "metadata": {},
   "outputs": [],
   "source": [
    "# number of likes\n",
    "selector = 'ytd-toggle-button-renderer.style-text[is-icon-button]'\n",
    "selector += ' #text.ytd-toggle-button-renderer'\n",
    "\n",
    "ele = browser.find_element_by_css_selector(selector)"
   ]
  },
  {
   "cell_type": "code",
   "execution_count": 17,
   "metadata": {},
   "outputs": [
    {
     "data": {
      "text/plain": [
       "'71,121 likes'"
      ]
     },
     "execution_count": 17,
     "metadata": {},
     "output_type": "execute_result"
    }
   ],
   "source": [
    "ele.get_attribute('aria-label')"
   ]
  },
  {
   "cell_type": "markdown",
   "metadata": {},
   "source": [
    "#### Get comments for video"
   ]
  },
  {
   "cell_type": "code",
   "execution_count": 18,
   "metadata": {},
   "outputs": [],
   "source": [
    "def get_comments(browser, url):\n",
    "    \"\"\"Return comments list for video(url)\"\"\"\n",
    "\n",
    "    print(f'collecting start - {datetime.now()}')\n",
    "\n",
    "    browser.get(url)\n",
    "    time.sleep(2)\n",
    "\n",
    "    for _ in range(20):\n",
    "        browser.execute_script(\"window.scrollTo(0, window.scrollY + 720)\")\n",
    "        time.sleep(1)\n",
    "\n",
    "    comments = browser.find_elements_by_id('content-text')\n",
    "    video_id = url.split('=')[-1]\n",
    "\n",
    "    results = []\n",
    "    for comment in comments:\n",
    "        text = comment.text\n",
    "        record = {\n",
    "            'video_id': video_id,\n",
    "            'comment': text }\n",
    "        results.append(record)\n",
    "    \n",
    "    print(f'{datetime.now()} - {video_id} : {len(comments)} collected')\n",
    "    return results"
   ]
  },
  {
   "cell_type": "code",
   "execution_count": 19,
   "metadata": {},
   "outputs": [
    {
     "name": "stdout",
     "output_type": "stream",
     "text": [
      "collecting start - 2019-07-09 12:16:51.256697\n",
      "2019-07-09 12:17:17.541787 - Wiq0J7_jHI8 : 120 collected\n"
     ]
    }
   ],
   "source": [
    "# collect comments\n",
    "comments = get_comments(browser, url)"
   ]
  },
  {
   "cell_type": "code",
   "execution_count": 20,
   "metadata": {},
   "outputs": [
    {
     "data": {
      "text/plain": [
       "[{'video_id': 'Wiq0J7_jHI8',\n",
       "  'comment': \"🔈1theK가 제작한 '1theK Originals-원더케이 오리지널' 채널이 오픈되었습니다:) 많은 관심과 구독 부탁드려요😉\\n\\n🔈NEW YouTube Channel '1theK Originals' has been launched! Please take a lot of interest and SUBSCRIBE!\\n\\n\\nSubscribe👉 https://www.youtube.com/channel/UCqq-ovGE01ErlXakPihhKDA?sub_confirmation=1\"},\n",
       " {'video_id': 'Wiq0J7_jHI8',\n",
       "  'comment': 'I love that Sungwoon can make music THAT HE LOVES while earning money that he DESERVES!'},\n",
       " {'video_id': 'Wiq0J7_jHI8',\n",
       "  'comment': 'HOW MANY INTERNATIONAL FANS ARE HERE TO ALWAYS SUPPORT HA SUNGWWON???\\n\\n |\\n |\\n\\\\/'}]"
      ]
     },
     "execution_count": 20,
     "metadata": {},
     "output_type": "execute_result"
    }
   ],
   "source": [
    "comments[:3]"
   ]
  },
  {
   "cell_type": "markdown",
   "metadata": {},
   "source": [
    "#### Get number of views"
   ]
  },
  {
   "cell_type": "code",
   "execution_count": 21,
   "metadata": {},
   "outputs": [],
   "source": [
    "def get_view_count(browser, url):\n",
    "    \"\"\"Return the view_count and timestamp\"\"\"\n",
    "    browser.get(url)\n",
    "    time.sleep(4)\n",
    "    now = datetime.now()\n",
    "    try:\n",
    "        sel = 'span.view-count'\n",
    "        view_count = browser.find_element_by_css_selector(sel).text\n",
    "    except:\n",
    "        print('error in get view_count')\n",
    "        view_count = '0'\n",
    "\n",
    "    return {\n",
    "        'view_count': int(''.join([n for n in view_count if n.isdigit()])),\n",
    "        'timestamp': now }"
   ]
  },
  {
   "cell_type": "code",
   "execution_count": 22,
   "metadata": {},
   "outputs": [],
   "source": [
    "# shuffle the order of videos\n",
    "random.shuffle(urls) "
   ]
  },
  {
   "cell_type": "code",
   "execution_count": 23,
   "metadata": {},
   "outputs": [
    {
     "data": {
      "text/plain": [
       "'https://www.youtube.com/watch?v=dr-L5QLewIk'"
      ]
     },
     "execution_count": 23,
     "metadata": {},
     "output_type": "execute_result"
    }
   ],
   "source": [
    "urls[0]"
   ]
  },
  {
   "cell_type": "code",
   "execution_count": 24,
   "metadata": {
    "scrolled": true
   },
   "outputs": [
    {
     "name": "stdout",
     "output_type": "stream",
     "text": [
      "2019-07-09 12:17:17.614647 - https://www.youtube.com/watch?v=dr-L5QLewIk\n",
      "2019-07-09 12:17:23.333358 - https://www.youtube.com/watch?v=I02VtSDmF18\n",
      "2019-07-09 12:17:29.285318 - https://www.youtube.com/watch?v=-zVL1JRDYxg\n",
      "2019-07-09 12:17:34.984842 - https://www.youtube.com/watch?v=Wiq0J7_jHI8\n",
      "2019-07-09 12:17:40.527328 - finished.\n"
     ]
    }
   ],
   "source": [
    "# Collect number of views\n",
    "result = []\n",
    "while True:\n",
    "    for url in urls:\n",
    "        print(f'{datetime.now()} - {url}')\n",
    "        video_id = url.split('=')[-1]\n",
    "        count = get_view_count(browser, url)\n",
    "        view_count = {\n",
    "            'video_id': video_id,\n",
    "            'view_count': count['view_count'],\n",
    "            'timestamp': count['timestamp']\n",
    "        }\n",
    "        result.append(view_count)\n",
    "#    time.sleep(600)   # uncomment if you want to run forever\n",
    "    break              # comment if you want to run forever\n",
    "print(f'{datetime.now()} - finished.')"
   ]
  },
  {
   "cell_type": "code",
   "execution_count": 25,
   "metadata": {},
   "outputs": [
    {
     "data": {
      "text/plain": [
       "[{'video_id': 'dr-L5QLewIk',\n",
       "  'view_count': 14860,\n",
       "  'timestamp': datetime.datetime(2019, 7, 9, 12, 17, 23, 314596)},\n",
       " {'video_id': 'I02VtSDmF18',\n",
       "  'view_count': 36842,\n",
       "  'timestamp': datetime.datetime(2019, 7, 9, 12, 17, 29, 236563)},\n",
       " {'video_id': '-zVL1JRDYxg',\n",
       "  'view_count': 47336,\n",
       "  'timestamp': datetime.datetime(2019, 7, 9, 12, 17, 34, 820920)}]"
      ]
     },
     "execution_count": 25,
     "metadata": {},
     "output_type": "execute_result"
    }
   ],
   "source": [
    "result[:3]"
   ]
  },
  {
   "cell_type": "code",
   "execution_count": 26,
   "metadata": {},
   "outputs": [],
   "source": [
    "browser.close()"
   ]
  },
  {
   "cell_type": "markdown",
   "metadata": {},
   "source": [
    "### Done !!!"
   ]
  },
  {
   "cell_type": "code",
   "execution_count": null,
   "metadata": {},
   "outputs": [],
   "source": []
  }
 ],
 "metadata": {
  "kernelspec": {
   "display_name": "Python 3",
   "language": "python",
   "name": "python3"
  },
  "language_info": {
   "codemirror_mode": {
    "name": "ipython",
    "version": 3
   },
   "file_extension": ".py",
   "mimetype": "text/x-python",
   "name": "python",
   "nbconvert_exporter": "python",
   "pygments_lexer": "ipython3",
   "version": "3.7.3"
  }
 },
 "nbformat": 4,
 "nbformat_minor": 2
}
