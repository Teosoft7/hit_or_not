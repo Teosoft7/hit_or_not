{
 "cells": [
  {
   "cell_type": "markdown",
   "metadata": {},
   "source": [
    "## Collect the data from Youtube\n",
    "\n",
    "### Scrap music video list & number of views\n",
    "\n",
    "With selenium and firefox,\n",
    " * Scrap kpop music videos on youtube\n",
    " * Scrap # of views for certain video"
   ]
  },
  {
   "cell_type": "markdown",
   "metadata": {},
   "source": [
    "#### import prerequisites"
   ]
  },
  {
   "cell_type": "code",
   "execution_count": 2,
   "metadata": {},
   "outputs": [],
   "source": [
    "from selenium.webdriver import Firefox\n",
    "from pymongo import MongoClient \n",
    "from datetime import datetime\n",
    "\n",
    "import pandas as pd\n",
    "import random\n",
    "import time\n",
    "import os"
   ]
  },
  {
   "cell_type": "markdown",
   "metadata": {},
   "source": [
    "#### connect to mongodb set up on the cloud\n",
    "\n",
    "with SSH tunnel through 47017 port"
   ]
  },
  {
   "cell_type": "code",
   "execution_count": 3,
   "metadata": {},
   "outputs": [],
   "source": [
    "connection = MongoClient(port=47017)\n",
    "db = connection['youtube_scrap']"
   ]
  },
  {
   "cell_type": "code",
   "execution_count": 3,
   "metadata": {},
   "outputs": [],
   "source": [
    "# Initialize browser\n",
    "browser = Firefox()"
   ]
  },
  {
   "cell_type": "markdown",
   "metadata": {},
   "source": [
    "#### Collect video list"
   ]
  },
  {
   "cell_type": "code",
   "execution_count": 13,
   "metadata": {},
   "outputs": [],
   "source": [
    "def collect_videos(browser, db):    \n",
    "    \"\"\"Collect video list from youtube and save to videos collection\"\"\"\n",
    "    url = 'https://www.youtube.com/results?search_query=kpop+music+video&sp=CAMSBggEEAEYAQ%253D%253D'\n",
    "    browser.get(url)\n",
    "    time.sleep(2)\n",
    "\n",
    "    for _ in range(10):\n",
    "        browser.execute_script(\"window.scrollTo(0, window.scrollY + 200000)\")\n",
    "        time.sleep(3)\n",
    "\n",
    "    # Get video title & URL\n",
    "    videolinks = browser.find_elements_by_id('video-title')\n",
    "    videos = [(link.text, link.get_attribute('href')) for link in videolinks]\n",
    "    \n",
    "    # Store to 'videos' collection\n",
    "    i = 0\n",
    "    coll = db['videos']\n",
    "    for title, url in videos:\n",
    "        i +=1\n",
    "        video_id = url.split('=')[-1]\n",
    "        coll.insert_one({\n",
    "            'video_id': video_id,\n",
    "            'title': title,\n",
    "            'url': url\n",
    "        })\n",
    "\n",
    "    print(f'{i} videos were collected.')\n",
    "    "
   ]
  },
  {
   "cell_type": "code",
   "execution_count": 4,
   "metadata": {},
   "outputs": [],
   "source": [
    "df = pd.read_csv('./new_0628.txt', header=None)\n",
    "df.columns=['URL']"
   ]
  },
  {
   "cell_type": "code",
   "execution_count": 5,
   "metadata": {},
   "outputs": [
    {
     "data": {
      "text/plain": [
       "4"
      ]
     },
     "execution_count": 5,
     "metadata": {},
     "output_type": "execute_result"
    }
   ],
   "source": [
    "urls = df['URL'].unique()\n",
    "len(urls)"
   ]
  },
  {
   "cell_type": "code",
   "execution_count": 6,
   "metadata": {},
   "outputs": [],
   "source": [
    "def collect_video_detail(browser, db, urls, start_point=0):    \n",
    "    \"\"\"Collect video detail from youtube and save to videos collection\"\"\"    \n",
    "\n",
    "    i = 0\n",
    "    for url in urls:\n",
    "        if (i < start_point):\n",
    "            i+=1\n",
    "            continue\n",
    "            \n",
    "        browser.get(url)\n",
    "        time.sleep(2)\n",
    "\n",
    "        browser.execute_script(\"window.scrollTo(0, window.scrollY + 720)\")\n",
    "        time.sleep(2)\n",
    "\n",
    "        title = browser.find_element_by_css_selector('h1.title').text\n",
    "        published = browser.find_element_by_css_selector('span.date').text\n",
    "\n",
    "        video_id = url.split('=')[-1]\n",
    "        \n",
    "        coll = db['video_detail']\n",
    "        coll.insert_one({\n",
    "            'video_id': video_id,\n",
    "            'published': published,\n",
    "            'title': title,\n",
    "            'url': url\n",
    "        })\n",
    "        \n",
    "        print(f'{datetime.now()} {i} - {title} has been processed.')\n",
    "        i += 1\n"
   ]
  },
  {
   "cell_type": "code",
   "execution_count": 7,
   "metadata": {},
   "outputs": [
    {
     "name": "stdout",
     "output_type": "stream",
     "text": [
      "2019-06-27 21:53:03.415383 0 - CHUNGHA x CAMILA CABELLO - SNAPPING x HAVANA (inst.) (mashup) has been processed.\n",
      "2019-06-27 21:53:09.246010 1 - Stray Kids - Side Effects (Ferry Remix) has been processed.\n",
      "2019-06-27 21:53:14.945890 2 - CICI (씨씨) - CC Official M/V has been processed.\n",
      "2019-06-27 21:53:20.995172 3 - 펀치 (Punch) - 럽미 (Love Me) (teaser) has been processed.\n"
     ]
    }
   ],
   "source": [
    "collect_video_detail(browser, db, urls)"
   ]
  },
  {
   "cell_type": "code",
   "execution_count": 43,
   "metadata": {},
   "outputs": [
    {
     "name": "stdout",
     "output_type": "stream",
     "text": [
      "TWICE \"FANCY\" M/V Published on Apr 22, 2019 136641354\n"
     ]
    }
   ],
   "source": [
    "print(title, published, view_count)"
   ]
  },
  {
   "cell_type": "code",
   "execution_count": 45,
   "metadata": {},
   "outputs": [
    {
     "data": {
      "text/plain": [
       "'Real ONCE won’t stop streaming after 100M 😎'"
      ]
     },
     "execution_count": 45,
     "metadata": {},
     "output_type": "execute_result"
    }
   ],
   "source": [
    "browser.find_element_by_id('content-text').text"
   ]
  },
  {
   "cell_type": "code",
   "execution_count": 14,
   "metadata": {},
   "outputs": [
    {
     "name": "stdout",
     "output_type": "stream",
     "text": [
      "217 videos were collected.\n"
     ]
    }
   ],
   "source": [
    "collect_videos(browser, db)"
   ]
  },
  {
   "cell_type": "markdown",
   "metadata": {},
   "source": [
    "#### Get more infomation for video"
   ]
  },
  {
   "cell_type": "code",
   "execution_count": 55,
   "metadata": {},
   "outputs": [],
   "source": [
    "url = 'https://www.youtube.com/watch?v=FIInyEWWW-s'"
   ]
  },
  {
   "cell_type": "code",
   "execution_count": 46,
   "metadata": {},
   "outputs": [],
   "source": [
    "url = 'https://www.youtube.com/watch?v=kZOZ5nJ5lI0'"
   ]
  },
  {
   "cell_type": "code",
   "execution_count": 65,
   "metadata": {},
   "outputs": [],
   "source": [
    "browser.get(url)\n",
    "time.sleep(1)\n",
    "browser.execute_script(\"window.scrollTo(0, window.scrollY + 320)\")\n",
    "time.sleep(2)"
   ]
  },
  {
   "cell_type": "code",
   "execution_count": 66,
   "metadata": {},
   "outputs": [
    {
     "data": {
      "text/plain": [
       "'Published on Jun 10, 2019'"
      ]
     },
     "execution_count": 66,
     "metadata": {},
     "output_type": "execute_result"
    }
   ],
   "source": [
    "# published date\n",
    "browser.find_element_by_css_selector('span.date').text"
   ]
  },
  {
   "cell_type": "code",
   "execution_count": 67,
   "metadata": {},
   "outputs": [
    {
     "data": {
      "text/plain": [
       "'21,467 Comments'"
      ]
     },
     "execution_count": 67,
     "metadata": {},
     "output_type": "execute_result"
    }
   ],
   "source": [
    "# number of comments\n",
    "browser.find_element_by_class_name('count-text').text"
   ]
  },
  {
   "cell_type": "code",
   "execution_count": 68,
   "metadata": {},
   "outputs": [],
   "source": [
    "# number of likes\n",
    "ele = browser.find_element_by_css_selector('ytd-toggle-button-renderer.style-text[is-icon-button] #text.ytd-toggle-button-renderer')"
   ]
  },
  {
   "cell_type": "code",
   "execution_count": 69,
   "metadata": {},
   "outputs": [
    {
     "data": {
      "text/plain": [
       "'290,421 likes'"
      ]
     },
     "execution_count": 69,
     "metadata": {},
     "output_type": "execute_result"
    }
   ],
   "source": [
    "ele.get_attribute('aria-label')"
   ]
  },
  {
   "cell_type": "markdown",
   "metadata": {},
   "source": [
    "#### Get comments for video"
   ]
  },
  {
   "cell_type": "code",
   "execution_count": 81,
   "metadata": {},
   "outputs": [],
   "source": [
    "def get_comments(browser, db, url):\n",
    "    \"\"\"Get comments for video(url), and store it to database\"\"\"\n",
    "    browser.get(url)\n",
    "    time.sleep(2)\n",
    "\n",
    "    for _ in range(20):\n",
    "        browser.execute_script(\"window.scrollTo(0, window.scrollY + 720)\")\n",
    "        time.sleep(1)\n",
    "\n",
    "    comments = browser.find_elements_by_id('content-text')\n",
    "    video_id = url.split('=')[-1]\n",
    "\n",
    "    for comment in comments:\n",
    "        text = comment.text\n",
    "        coll = db['comments']\n",
    "        coll.insert_one({\n",
    "            'video_id': video_id,\n",
    "            'comment': text\n",
    "        })\n",
    "    \n",
    "    print(f'{datetime.now()} - {video_id} : {len(comments)} stored.')"
   ]
  },
  {
   "cell_type": "code",
   "execution_count": 82,
   "metadata": {},
   "outputs": [
    {
     "name": "stdout",
     "output_type": "stream",
     "text": [
      "2019-06-26 11:38:42.617385 - YBnGBb1wg98 : 100 stored.\n",
      "2019-06-26 11:39:12.316967 - 2S24-y0Ij3Y : 100 stored.\n",
      "2019-06-26 11:39:42.390209 - XsX3ATc3FbA : 100 stored.\n",
      "2019-06-26 11:40:11.913858 - 5rPluw_-Eb4 : 104 stored.\n",
      "2019-06-26 11:40:40.368089 - oDJ4ct59NC4 : 100 stored.\n",
      "2019-06-26 11:41:10.322508 - kOHB85vDuow : 100 stored.\n",
      "2019-06-26 11:41:40.044269 - K1scjjbfNsk : 100 stored.\n",
      "2019-06-26 11:42:08.817342 - b73BI9eUkjM : 100 stored.\n",
      "2019-06-26 11:42:38.690764 - pSudEWBAYRE : 100 stored.\n",
      "2019-06-26 11:43:08.195759 - HwT9oKqfUxY : 100 stored.\n",
      "2019-06-26 11:43:37.477980 - GQqyCeKf8rw : 100 stored.\n",
      "2019-06-26 11:44:06.861535 - M46FRJsB0Qw : 100 stored.\n",
      "2019-06-26 11:44:35.454319 - pNfTK39k55U : 100 stored.\n",
      "2019-06-26 11:45:05.516296 - mAKsZ26SabQ : 100 stored.\n",
      "2019-06-26 11:45:34.441049 - ESVsbCkFvG4 : 100 stored.\n",
      "2019-06-26 11:46:05.734792 - Dab4EENTW5I : 120 stored.\n",
      "2019-06-26 11:46:34.632684 - RyVS7R9PN6U : 100 stored.\n",
      "2019-06-26 11:47:03.408192 - Fm5iP0S1z9w : 100 stored.\n",
      "2019-06-26 11:47:33.165893 - F2mbAkat5n8 : 100 stored.\n",
      "2019-06-26 11:48:01.793850 - g9wfhJRyur8 : 100 stored.\n",
      "2019-06-26 11:48:31.329273 - NaKrke1EL1A : 100 stored.\n",
      "2019-06-26 11:49:00.391362 - 6tl-MG38-0E : 100 stored.\n",
      "2019-06-26 11:49:29.140686 - iwd8N6K-sLk : 100 stored.\n",
      "2019-06-26 11:50:00.182492 - Oao3j2hUVvE : 120 stored.\n",
      "2019-06-26 11:50:29.439067 - 6eEZ7DJMzuk : 100 stored.\n",
      "2019-06-26 11:50:54.226403 - W3iSnJ663II : 6 stored.\n",
      "2019-06-26 11:51:18.426266 - E-T1gEeUqwA : 5 stored.\n",
      "2019-06-26 11:51:43.144137 - x95oZNxW5Rc : 7 stored.\n",
      "2019-06-26 11:52:07.787377 - v2AT7oSGZbQ : 5 stored.\n",
      "2019-06-26 11:52:32.648699 - L15ZZX9n56M : 8 stored.\n",
      "2019-06-26 11:52:56.896484 - FIInyEWWW-s : 6 stored.\n",
      "2019-06-26 11:53:21.939755 - Btkjr6UNb50 : 8 stored.\n",
      "2019-06-26 11:53:46.806404 - DESdksesLNM : 7 stored.\n",
      "2019-06-26 11:54:11.064717 - nM0xDI5R50E : 6 stored.\n",
      "2019-06-26 11:54:41.168941 - HvGql8HwOIM : 100 stored.\n",
      "2019-06-26 11:55:11.200256 - sYUlykDe4as : 100 stored.\n",
      "2019-06-26 11:55:41.405487 - ScSn235gQx0 : 120 stored.\n",
      "2019-06-26 11:56:11.624758 - Pm0_G8Zl0ek : 100 stored.\n",
      "2019-06-26 11:56:42.370330 - G8APgeFfkAk : 100 stored.\n",
      "2019-06-26 11:57:11.383261 - LXOJk2PFKgY : 100 stored.\n",
      "2019-06-26 11:57:40.295305 - G5UM2rOyqr4 : 100 stored.\n",
      "2019-06-26 11:58:10.513218 - OKNXn2qCEws : 100 stored.\n",
      "2019-06-26 11:58:39.124572 - IWJUPY-2EIM : 100 stored.\n",
      "2019-06-26 11:59:08.392907 - 9RUeTYiJCyA : 100 stored.\n",
      "2019-06-26 11:59:37.303065 - SdzLl-XpJt0 : 100 stored.\n",
      "2019-06-26 12:00:07.045369 - uTiIZBFpfok : 100 stored.\n",
      "2019-06-26 12:00:37.281978 - aiHSVQy9xN8 : 120 stored.\n",
      "2019-06-26 12:01:07.058230 - RMJFEvHvmD0 : 100 stored.\n",
      "2019-06-26 12:01:35.938167 - zsRyyLtcXho : 100 stored.\n",
      "2019-06-26 12:02:06.152977 - kXAvbHPdTZ0 : 100 stored.\n",
      "2019-06-26 12:02:35.921515 - o_SYttJm0SE : 100 stored.\n",
      "2019-06-26 12:03:05.776555 - ejR5zKaPZ0g : 100 stored.\n",
      "2019-06-26 12:03:35.622255 - SAdmzjsFVQo : 120 stored.\n",
      "2019-06-26 12:04:04.609317 - BEIwwuQY_Cg : 100 stored.\n",
      "2019-06-26 12:04:34.481758 - i_HzsHss94E : 100 stored.\n",
      "2019-06-26 12:05:04.976370 - arjy2v7zEI0 : 120 stored.\n",
      "2019-06-26 12:05:35.733606 - 4HG_CJzyX6A : 120 stored.\n",
      "2019-06-26 12:06:06.267991 - YBzJ0jmHv-4 : 120 stored.\n",
      "2019-06-26 12:06:36.921359 - GdxvD7r58ng : 120 stored.\n",
      "2019-06-26 12:07:06.562211 - pok5yDw77uM : 100 stored.\n",
      "2019-06-26 12:07:36.201995 - R9VDPMk5ls0 : 100 stored.\n",
      "2019-06-26 12:08:06.522312 - -OfOkiVFmhM : 120 stored.\n",
      "2019-06-26 12:08:35.978161 - AsXxuIdpkWM : 120 stored.\n",
      "2019-06-26 12:09:04.967058 - 2O6dRaBbFoo : 100 stored.\n",
      "2019-06-26 12:09:34.957367 - BcXwZEbOvpo : 100 stored.\n",
      "2019-06-26 12:10:06.047081 - 7GqYSbc1tsM : 120 stored.\n",
      "2019-06-26 12:10:35.611994 - _U3yC1OvLXU : 100 stored.\n",
      "2019-06-26 12:11:03.823824 - 4Njp-J2s5uw : 100 stored.\n",
      "2019-06-26 12:11:34.094038 - yqszm7AnX-4 : 120 stored.\n",
      "2019-06-26 12:12:03.034026 - l3arzUTr848 : 120 stored.\n",
      "2019-06-26 12:12:31.825238 - S4zXetyhuxc : 100 stored.\n",
      "2019-06-26 12:13:00.636070 - VpaUh_BGqE0 : 100 stored.\n",
      "2019-06-26 12:13:29.594629 - LV1Es22E0RI : 100 stored.\n",
      "2019-06-26 12:13:58.831057 - KR5CtMLuiqQ : 100 stored.\n",
      "2019-06-26 12:14:29.099155 - CNeNwplE_aw : 120 stored.\n",
      "2019-06-26 12:14:58.554703 - Fy3zu0WsTLM : 100 stored.\n",
      "2019-06-26 12:15:29.205011 - fIkZOLsnoqY : 120 stored.\n",
      "2019-06-26 12:15:58.217793 - udGwca1HBM4 : 100 stored.\n",
      "2019-06-26 12:16:26.311494 - TNWMZIf7eSg : 100 stored.\n",
      "2019-06-26 12:16:56.007671 - bwmSjveL3Lc : 100 stored.\n",
      "2019-06-26 12:17:24.964980 - dISNgvVpWlo : 100 stored.\n",
      "2019-06-26 12:17:53.650718 - V2hlQkVJZhE : 100 stored.\n",
      "2019-06-26 12:18:22.440608 - rRzxEiBLQCA : 100 stored.\n",
      "2019-06-26 12:18:52.187992 - i0p1bmr0EmE : 100 stored.\n",
      "2019-06-26 12:19:20.684195 - c7rCyll5AeY : 100 stored.\n",
      "2019-06-26 12:19:49.501709 - 0rtV5esQT6I : 100 stored.\n",
      "2019-06-26 12:20:17.295116 - QslJYDX3o8s : 100 stored.\n",
      "2019-06-26 12:20:47.405892 - XGdbaEDVWp0 : 120 stored.\n",
      "2019-06-26 12:21:17.375282 - glXgSSOKlls : 120 stored.\n",
      "2019-06-26 12:21:47.382916 - JFgv8bKfxEs : 100 stored.\n",
      "2019-06-26 12:22:17.905889 - ur0hCdne2-s : 117 stored.\n",
      "2019-06-26 12:22:46.841294 - 9mQk7Evt6Vs : 100 stored.\n",
      "2019-06-26 12:23:17.637139 - zeAtkPZSYBk : 120 stored.\n",
      "2019-06-26 12:23:47.567761 - _uJxJ7tSi1w : 120 stored.\n",
      "2019-06-26 12:24:18.963699 - phXzu7GQAPc : 140 stored.\n",
      "2019-06-26 12:24:48.407363 - r_6q_-d-7Sk : 120 stored.\n",
      "2019-06-26 12:25:18.287256 - 1ZhDsPdvl6c : 120 stored.\n",
      "2019-06-26 12:25:48.158399 - HlN2BXNJzxA : 120 stored.\n",
      "2019-06-26 12:26:17.511503 - LFxjwBfFIiY : 100 stored.\n",
      "2019-06-26 12:26:46.920246 - I66oFXdf0KU : 120 stored.\n",
      "2019-06-26 12:27:15.701762 - ycYLPbtxU1Q : 120 stored.\n",
      "2019-06-26 12:27:40.723450 - UYAnm0_rwa0 : 28 stored.\n",
      "2019-06-26 12:28:10.865259 - R1zx4G3jqp8 : 140 stored.\n",
      "2019-06-26 12:28:39.732919 - sXgWWIalwrs : 109 stored.\n",
      "2019-06-26 12:29:08.739408 - 9_gmjmIqA4M : 120 stored.\n",
      "2019-06-26 12:29:37.742946 - XkDA02FHHik : 100 stored.\n",
      "2019-06-26 12:30:08.084592 - Oo-LPNYc5qo : 120 stored.\n",
      "2019-06-26 12:30:37.993347 - bc08RdvJV1E : 120 stored.\n",
      "2019-06-26 12:31:08.286076 - rVeMvBTd8vQ : 120 stored.\n",
      "2019-06-26 12:31:37.469391 - W-OioNeoB0Q : 140 stored.\n",
      "2019-06-26 12:32:05.834663 - SN_KUZAbxS4 : 100 stored.\n",
      "2019-06-26 12:32:35.056700 - CeT--DbjtQI : 120 stored.\n",
      "2019-06-26 12:33:04.756453 - 6l4divMKp4E : 120 stored.\n",
      "2019-06-26 12:33:33.854666 - uARhhn2uOu0 : 120 stored.\n",
      "2019-06-26 12:34:03.043712 - _z4nJdLz1Hs : 100 stored.\n",
      "2019-06-26 12:34:32.386699 - OcAvfH0jxBw : 120 stored.\n",
      "2019-06-26 12:35:03.902507 - 84R5AS0tfkQ : 119 stored.\n",
      "2019-06-26 12:35:35.262057 - qODWFe6v3zA : 100 stored.\n",
      "2019-06-26 12:36:06.139083 - g-uHc22iIvo : 120 stored.\n",
      "2019-06-26 12:36:35.772009 - qkSRAVzkWC0 : 120 stored.\n",
      "2019-06-26 12:37:03.946507 - 1taLXjVxB4U : 99 stored.\n",
      "2019-06-26 12:37:32.343457 - 1eekOcpx_iQ : 100 stored.\n",
      "2019-06-26 12:38:04.109425 - xGClAPu4eic : 140 stored.\n",
      "2019-06-26 12:38:32.232310 - 0p-O4smRVF4 : 100 stored.\n",
      "2019-06-26 12:39:01.820514 - rczMbtw8sCw : 120 stored.\n",
      "2019-06-26 12:39:32.392802 - G1Ud2IweJzI : 133 stored.\n",
      "2019-06-26 12:40:02.618301 - hztJ97XpSi8 : 120 stored.\n",
      "2019-06-26 12:40:32.466411 - oFvHoyLpCoQ : 120 stored.\n",
      "2019-06-26 12:41:02.377297 - HwJdq4ZhxjE : 140 stored.\n",
      "2019-06-26 12:41:31.769545 - jG5ZJ0_lhtM : 120 stored.\n",
      "2019-06-26 12:42:00.544567 - Ty_3Vyqrlr4 : 100 stored.\n",
      "2019-06-26 12:42:29.243564 - a8t-GsnUHAk : 100 stored.\n",
      "2019-06-26 12:43:01.685158 - uir1R85gJGo : 120 stored.\n",
      "2019-06-26 12:43:31.603112 - U-wDvImWXtA : 100 stored.\n",
      "2019-06-26 12:43:56.469143 - Dm88OyOuNK8 : 19 stored.\n",
      "2019-06-26 12:44:26.602292 - 0Z7kxtyBZUo : 140 stored.\n",
      "2019-06-26 12:44:54.242428 - qUkiC5ZM7YU : 95 stored.\n",
      "2019-06-26 12:45:24.080240 - ORC3tUxn5XI : 140 stored.\n",
      "2019-06-26 12:45:51.348863 - yo3sntDdcwk : 83 stored.\n",
      "2019-06-26 12:46:22.071741 - cHkDZ1ekB9U : 140 stored.\n",
      "2019-06-26 12:46:50.642050 - Frp0lRJEZE0 : 107 stored.\n",
      "2019-06-26 12:47:15.615191 - 5672cZAxRMw : 6 stored.\n",
      "2019-06-26 12:47:40.486251 - 95UaYna70Ck : 6 stored.\n",
      "2019-06-26 12:48:06.685094 - J8b_t4cc5Zg : 40 stored.\n",
      "2019-06-26 12:48:36.774887 - osVg3YhF0QY : 120 stored.\n",
      "2019-06-26 12:49:05.570894 - TnJqGMW4yts : 106 stored.\n",
      "2019-06-26 12:49:35.702185 - RYHj4KqU3Ak : 120 stored.\n",
      "2019-06-26 12:50:05.411252 - kxdEoCDzm-k : 120 stored.\n",
      "2019-06-26 12:50:34.860768 - 8n9wklIG9qU : 120 stored.\n",
      "2019-06-26 12:51:04.405891 - u8v94sKyHOY : 120 stored.\n"
     ]
    },
    {
     "name": "stdout",
     "output_type": "stream",
     "text": [
      "2019-06-26 12:51:34.142215 - JrOrlhjIYVk : 120 stored.\n",
      "2019-06-26 12:52:03.689354 - mRwxB2AW5HA : 120 stored.\n",
      "2019-06-26 12:52:30.016911 - QAXa3zpmoLY : 65 stored.\n",
      "2019-06-26 12:52:58.628354 - Z7bsJf5lPT0 : 100 stored.\n",
      "2019-06-26 12:53:29.098516 - K6gEaJTHN4M : 140 stored.\n",
      "2019-06-26 12:53:59.594770 - Z3W0jKcv1SU : 120 stored.\n",
      "2019-06-26 12:54:29.663619 - l5i8YoFBvO4 : 140 stored.\n",
      "2019-06-26 12:54:58.730775 - 2EVu6tVZUgc : 100 stored.\n",
      "2019-06-26 12:55:29.026677 - EzlGdWpVoRM : 120 stored.\n",
      "2019-06-26 12:55:59.747659 - T7IXKQzmpK4 : 120 stored.\n",
      "2019-06-26 12:56:30.717990 - m7Ct6cR_NS4 : 120 stored.\n",
      "2019-06-26 12:57:01.144823 - ALz4b6x0A70 : 120 stored.\n",
      "2019-06-26 12:57:30.107370 - 4VRrQf_BSxQ : 100 stored.\n",
      "2019-06-26 12:57:55.063981 - HAdw1e728Js : 26 stored.\n",
      "2019-06-26 12:58:24.808799 - GrBu7a4gfX8 : 120 stored.\n",
      "2019-06-26 12:58:52.945141 - 7wANyBLd5VM : 120 stored.\n",
      "2019-06-26 12:59:23.295161 - wYm3hZC1xB0 : 140 stored.\n",
      "2019-06-26 12:59:55.493320 - qTV56N-EaqM : 140 stored.\n",
      "2019-06-26 13:00:26.497268 - tsN-MkpiZB0 : 100 stored.\n",
      "2019-06-26 13:00:55.583742 - J4c2ksykqio : 134 stored.\n",
      "2019-06-26 13:01:21.853715 - Bc5UieSLsJM : 61 stored.\n",
      "2019-06-26 13:01:52.417112 - 5j59M44F0bo : 140 stored.\n",
      "2019-06-26 13:02:22.650032 - bMLVDVjDe3Q : 140 stored.\n",
      "2019-06-26 13:02:51.808816 - Wy6gIJ6cLig : 120 stored.\n"
     ]
    }
   ],
   "source": [
    "# save comments to database\n",
    "for url in urls:\n",
    "    get_comments(browser, db, url)"
   ]
  },
  {
   "cell_type": "markdown",
   "metadata": {},
   "source": [
    "#### Get number of views"
   ]
  },
  {
   "cell_type": "code",
   "execution_count": 4,
   "metadata": {},
   "outputs": [],
   "source": [
    "def get_view_count(browser, url):\n",
    "    \"\"\"Return the view_count and timestamp\"\"\"\n",
    "    browser.get(url)\n",
    "    time.sleep(3)\n",
    "    now = datetime.now()\n",
    "    sel = 'span.view-count'\n",
    "    view_count = browser.find_element_by_css_selector(sel).text\n",
    "\n",
    "    return {\n",
    "        'view_count': int(''.join([n for n in view_count if n.isdigit()])),\n",
    "        'timestamp': now }"
   ]
  },
  {
   "cell_type": "code",
   "execution_count": 13,
   "metadata": {},
   "outputs": [],
   "source": [
    "# Get video list from videos collection\n",
    "coll = db['video_detail']\n",
    "cur = coll.find({})"
   ]
  },
  {
   "cell_type": "code",
   "execution_count": 14,
   "metadata": {},
   "outputs": [],
   "source": [
    "# Store it to list\n",
    "videos = [video for video in cur]"
   ]
  },
  {
   "cell_type": "code",
   "execution_count": 15,
   "metadata": {},
   "outputs": [
    {
     "data": {
      "text/plain": [
       "264"
      ]
     },
     "execution_count": 15,
     "metadata": {},
     "output_type": "execute_result"
    }
   ],
   "source": [
    "len(videos)"
   ]
  },
  {
   "cell_type": "code",
   "execution_count": 78,
   "metadata": {},
   "outputs": [],
   "source": [
    "# shuffle the order of videos, that need to be collected\n",
    "random.shuffle(videos) "
   ]
  },
  {
   "cell_type": "code",
   "execution_count": 79,
   "metadata": {},
   "outputs": [
    {
     "data": {
      "text/plain": [
       "{'_id': ObjectId('5d1285238771f921313fee5d'),\n",
       " 'video_id': 'itBh9J6RlXM',\n",
       " 'title': 'Musik-A Kpop Contest 2019 | Pink Bullets | Whistle - Blackpink',\n",
       " 'url': 'https://www.youtube.com/watch?v=itBh9J6RlXM'}"
      ]
     },
     "execution_count": 79,
     "metadata": {},
     "output_type": "execute_result"
    }
   ],
   "source": [
    "videos[0]"
   ]
  },
  {
   "cell_type": "code",
   "execution_count": 6,
   "metadata": {
    "scrolled": true
   },
   "outputs": [
    {
     "name": "stdout",
     "output_type": "stream",
     "text": [
      "Audiofreq - Rewind (Official Video) 7664\n",
      "Ully Moch & Ifan Seventeen - HUN (Official Music Video NAGASWARA) #music 327731\n",
      "OLD TOWN ROAD Kids Dance Music Video 42069\n",
      "Ayu Ting Ting x Keremcem - Apalah Cinta (Official Music Video) 7368888\n",
      "Squeeze by Fille ft Voltage Music (Official Video) 11617\n",
      "DAVIS - Alright (Official Music Video) 775\n",
      "MC Klinton - SHQIPE TRAPKING prod.OGRruga (Official Video HD) 6563\n",
      "Hez Hazmi - Biar Aku Pergi (Official Music Video) 92296\n",
      "VRKINGS - SNAKEBITE FT. HONEY CRUX | BHAGUMIA | OFFICIAL MUSIC VIDEO | LATEST HINDI RAP | 2019 942\n",
      "Hard Driver - Young Birds (Official Video) 52255\n",
      "Julz West - On My Own (Dance Music Video) 253\n",
      "Sule & Baby Shima - Terpisah Jarak Dan Waktu (Official Music Video NAGASWARA) #music 1613066\n",
      "ALBUM SONIYA VE Official || ADITYA SINGH || Music Video Song || 2019 album 2219\n",
      "Agung Pradanta - Kuat Ati ( Official Music Video ) 3752\n",
      "BANNED KPOP Music Videos for Stupid Reasons 503555\n",
      "MOUSTO CAMARA | Syli De Guinée | 🇬🇳Official Video 2019 | By Dj.IKK 301\n",
      "TIRANKE SIDIME | Syli De Guinée | 🇬🇳Official Video 2019 | By Dj IKK 2800\n",
      "GODDYS - AMBROSIA (OFFICIAL MUSIC VIDEO) - 2019 - 4K 1102\n",
      "Remi Moore - Greater Things (Official Music Video) 369\n",
      "#065 - AEPHANEMER - Bloodline (OFFICIAL MUSIC VIDEO) | Reaction 16\n",
      "Audiofreq - Rewind (Official Video) 7668\n",
      "Ully Moch & Ifan Seventeen - HUN (Official Music Video NAGASWARA) #music 327731\n",
      "OLD TOWN ROAD Kids Dance Music Video 42069\n",
      "Ayu Ting Ting x Keremcem - Apalah Cinta (Official Music Video) 7369016\n",
      "Squeeze by Fille ft Voltage Music (Official Video) 11617\n",
      "DAVIS - Alright (Official Music Video) 775\n",
      "MC Klinton - SHQIPE TRAPKING prod.OGRruga (Official Video HD) 6563\n",
      "Hez Hazmi - Biar Aku Pergi (Official Music Video) 92296\n",
      "VRKINGS - SNAKEBITE FT. HONEY CRUX | BHAGUMIA | OFFICIAL MUSIC VIDEO | LATEST HINDI RAP | 2019 942\n",
      "Hard Driver - Young Birds (Official Video) 52281\n",
      "ALBUM SONIYA VE Official || ADITYA SINGH || Music Video Song || 2019 album 2219\n",
      "Julz West - On My Own (Dance Music Video) 253\n",
      "Sule & Baby Shima - Terpisah Jarak Dan Waktu (Official Music Video NAGASWARA) #music 1613066\n",
      "Agung Pradanta - Kuat Ati ( Official Music Video ) 3752\n",
      "BANNED KPOP Music Videos for Stupid Reasons 503555\n",
      "MOUSTO CAMARA | Syli De Guinée | 🇬🇳Official Video 2019 | By Dj.IKK 301\n",
      "TIRANKE SIDIME | Syli De Guinée | 🇬🇳Official Video 2019 | By Dj IKK 2800\n",
      "GODDYS - AMBROSIA (OFFICIAL MUSIC VIDEO) - 2019 - 4K 1102\n",
      "Lil Nas X - Old Town Road (Lyrics) ft. Billy Ray Cyrus 2164049\n",
      "#065 - AEPHANEMER - Bloodline (OFFICIAL MUSIC VIDEO) | Reaction 16\n",
      "YAMA SEGA | Bonbon Sucré | 🇬🇳Official Video 2019 | By Dj IKK 23684\n",
      "Polo G - Lost Files (Music Video) 33\n",
      "SOLEO - Całowałaś Przytulałaś ☆ OFFICIAL VIDEO ☆ 86653\n",
      "Remi Moore - Greater Things (Official Music Video) 369\n",
      "AUGER - When We Are Apart (Official Video) 3064\n",
      "Scotti - Ijs (Official Music Video) 168\n",
      "CAESARIA - Floating Heads [Official Music Video] 1210\n",
      "VIBE | Adnan Sheikh | Official Music Video | 4K 5943\n",
      "Ready or Not (Fortnite Music Video) - 21 Kills 632\n",
      "Syahiba Saufa - Kangen Mantan (Official Music Video) 4914\n",
      "Madonna - God Control (Music Video) Trailer 194\n",
      "Wizkid Ft. Lil Wayne - Level Up (Official Music Video) 3480\n",
      "Celebs share behind-the-scenes photos from Taylor Swift's music video shoot l GMA 18305\n",
      "Hopeless (Niggas) (Official Music Video) 57\n",
      "Wizkid - Joro ft. Koffee (Official Music Video) 17941\n",
      "Reality Is Cold - Music Video ( Production by Mort Shybur ) 16389\n",
      "The Game Episode 7 (Rap Battle) Latest music video 2019 71\n",
      "Shawn Mendes, Camila Cabello - Señorita (Lyrics) Letra 1136225\n",
      "Drake - Omertà [ Music Video] 2019 935\n",
      "MUSIC VIDEO - I LIVE BY MY OWN ( MAKE IT BETTER ) - ORIGINAL SONG By ADRIAN NOVICKÝ 268\n"
     ]
    }
   ],
   "source": [
    "# Collect number of views\n",
    "while True:\n",
    "    coll = db['view_count']\n",
    "    for video in videos:\n",
    "        print(video['title'])\n",
    "        count = get_view_count(browser, video['url'])\n",
    "        coll.insert_one({\n",
    "            'title': video['title'],\n",
    "            'view_count': count['view_count'],\n",
    "            'timestamp': count['timestamp']\n",
    "        })\n",
    "    time.sleep(600)\n"
   ]
  },
  {
   "cell_type": "code",
   "execution_count": 23,
   "metadata": {},
   "outputs": [],
   "source": [
    "def is_exist_on_comment(video_id):\n",
    "    \"\"\"Returns whether comment exist or not for certain video\"\"\"\n",
    "    comment_coll = db['comments']\n",
    "    if comment_coll.count_documents({'video_id': video_id}) > 0:\n",
    "        return 'Y'\n",
    "    \n",
    "    return 'N'"
   ]
  },
  {
   "cell_type": "code",
   "execution_count": 24,
   "metadata": {},
   "outputs": [
    {
     "name": "stdout",
     "output_type": "stream",
     "text": [
      "2019-06-28 10:50:09.265700 YBnGBb1wg98  processed.\n",
      "2019-06-28 10:50:09.324748 2S24-y0Ij3Y  processed.\n",
      "2019-06-28 10:50:09.381660 XsX3ATc3FbA  processed.\n",
      "2019-06-28 10:50:09.434586 5rPluw_-Eb4  processed.\n",
      "2019-06-28 10:50:09.492122 oDJ4ct59NC4  processed.\n",
      "2019-06-28 10:50:09.546543 kOHB85vDuow  processed.\n",
      "2019-06-28 10:50:09.600465 K1scjjbfNsk  processed.\n",
      "2019-06-28 10:50:09.666080 b73BI9eUkjM  processed.\n",
      "2019-06-28 10:50:09.726866 pSudEWBAYRE  processed.\n",
      "2019-06-28 10:50:09.798003 HwT9oKqfUxY  processed.\n",
      "2019-06-28 10:50:09.863415 GQqyCeKf8rw  processed.\n",
      "2019-06-28 10:50:09.924003 M46FRJsB0Qw  processed.\n",
      "2019-06-28 10:50:09.983858 pNfTK39k55U  processed.\n",
      "2019-06-28 10:50:10.039501 mAKsZ26SabQ  processed.\n",
      "2019-06-28 10:50:10.103282 ESVsbCkFvG4  processed.\n",
      "2019-06-28 10:50:10.169940 Dab4EENTW5I  processed.\n",
      "2019-06-28 10:50:10.230726 RyVS7R9PN6U  processed.\n",
      "2019-06-28 10:50:10.287370 Fm5iP0S1z9w  processed.\n",
      "2019-06-28 10:50:10.345035 F2mbAkat5n8  processed.\n",
      "2019-06-28 10:50:10.402742 g9wfhJRyur8  processed.\n",
      "2019-06-28 10:50:10.469475 NaKrke1EL1A  processed.\n",
      "2019-06-28 10:50:10.529796 6tl-MG38-0E  processed.\n",
      "2019-06-28 10:50:10.594944 iwd8N6K-sLk  processed.\n",
      "2019-06-28 10:50:10.659805 Oao3j2hUVvE  processed.\n",
      "2019-06-28 10:50:10.724808 6eEZ7DJMzuk  processed.\n",
      "2019-06-28 10:50:10.788927 W3iSnJ663II  processed.\n",
      "2019-06-28 10:50:10.843089 E-T1gEeUqwA  processed.\n",
      "2019-06-28 10:50:10.902857 x95oZNxW5Rc  processed.\n",
      "2019-06-28 10:50:10.962832 v2AT7oSGZbQ  processed.\n",
      "2019-06-28 10:50:11.030839 L15ZZX9n56M  processed.\n",
      "2019-06-28 10:50:11.093240 FIInyEWWW-s  processed.\n",
      "2019-06-28 10:50:11.161097 Btkjr6UNb50  processed.\n",
      "2019-06-28 10:50:11.219335 DESdksesLNM  processed.\n",
      "2019-06-28 10:50:11.276657 nM0xDI5R50E  processed.\n",
      "2019-06-28 10:50:11.339610 HvGql8HwOIM  processed.\n",
      "2019-06-28 10:50:11.416352 sYUlykDe4as  processed.\n",
      "2019-06-28 10:50:11.474887 ScSn235gQx0  processed.\n",
      "2019-06-28 10:50:11.539124 Pm0_G8Zl0ek  processed.\n",
      "2019-06-28 10:50:11.602554 G8APgeFfkAk  processed.\n",
      "2019-06-28 10:50:11.662869 LXOJk2PFKgY  processed.\n",
      "2019-06-28 10:50:11.724688 G5UM2rOyqr4  processed.\n",
      "2019-06-28 10:50:11.786642 OKNXn2qCEws  processed.\n",
      "2019-06-28 10:50:11.849433 IWJUPY-2EIM  processed.\n",
      "2019-06-28 10:50:11.907429 9RUeTYiJCyA  processed.\n",
      "2019-06-28 10:50:11.976090 SdzLl-XpJt0  processed.\n",
      "2019-06-28 10:50:12.036928 uTiIZBFpfok  processed.\n",
      "2019-06-28 10:50:12.096331 aiHSVQy9xN8  processed.\n",
      "2019-06-28 10:50:12.159821 RMJFEvHvmD0  processed.\n",
      "2019-06-28 10:50:12.219427 zsRyyLtcXho  processed.\n",
      "2019-06-28 10:50:12.279666 kXAvbHPdTZ0  processed.\n",
      "2019-06-28 10:50:12.346413 o_SYttJm0SE  processed.\n",
      "2019-06-28 10:50:12.409799 ejR5zKaPZ0g  processed.\n",
      "2019-06-28 10:50:12.470979 SAdmzjsFVQo  processed.\n",
      "2019-06-28 10:50:12.524793 BEIwwuQY_Cg  processed.\n",
      "2019-06-28 10:50:12.584850 i_HzsHss94E  processed.\n",
      "2019-06-28 10:50:12.646443 arjy2v7zEI0  processed.\n",
      "2019-06-28 10:50:12.718532 4HG_CJzyX6A  processed.\n",
      "2019-06-28 10:50:12.782885 YBzJ0jmHv-4  processed.\n",
      "2019-06-28 10:50:12.846911 GdxvD7r58ng  processed.\n",
      "2019-06-28 10:50:12.921551 pok5yDw77uM  processed.\n",
      "2019-06-28 10:50:12.982945 R9VDPMk5ls0  processed.\n",
      "2019-06-28 10:50:13.037330 -OfOkiVFmhM  processed.\n",
      "2019-06-28 10:50:13.098735 AsXxuIdpkWM  processed.\n",
      "2019-06-28 10:50:13.161751 2O6dRaBbFoo  processed.\n",
      "2019-06-28 10:50:13.218912 BcXwZEbOvpo  processed.\n",
      "2019-06-28 10:50:13.280470 7GqYSbc1tsM  processed.\n",
      "2019-06-28 10:50:13.339748 _U3yC1OvLXU  processed.\n",
      "2019-06-28 10:50:13.410130 4Njp-J2s5uw  processed.\n",
      "2019-06-28 10:50:13.473630 yqszm7AnX-4  processed.\n",
      "2019-06-28 10:50:13.536498 l3arzUTr848  processed.\n",
      "2019-06-28 10:50:13.596775 S4zXetyhuxc  processed.\n",
      "2019-06-28 10:50:13.656077 VpaUh_BGqE0  processed.\n",
      "2019-06-28 10:50:13.716796 LV1Es22E0RI  processed.\n",
      "2019-06-28 10:50:13.785429 KR5CtMLuiqQ  processed.\n",
      "2019-06-28 10:50:13.849014 CNeNwplE_aw  processed.\n",
      "2019-06-28 10:50:13.910771 Fy3zu0WsTLM  processed.\n",
      "2019-06-28 10:50:13.973776 fIkZOLsnoqY  processed.\n",
      "2019-06-28 10:50:14.035869 udGwca1HBM4  processed.\n",
      "2019-06-28 10:50:14.101695 TNWMZIf7eSg  processed.\n",
      "2019-06-28 10:50:14.165167 bwmSjveL3Lc  processed.\n",
      "2019-06-28 10:50:14.229048 dISNgvVpWlo  processed.\n",
      "2019-06-28 10:50:14.287969 V2hlQkVJZhE  processed.\n",
      "2019-06-28 10:50:14.342288 rRzxEiBLQCA  processed.\n",
      "2019-06-28 10:50:14.404540 i0p1bmr0EmE  processed.\n",
      "2019-06-28 10:50:14.462440 c7rCyll5AeY  processed.\n",
      "2019-06-28 10:50:14.516679 0rtV5esQT6I  processed.\n",
      "2019-06-28 10:50:14.573077 QslJYDX3o8s  processed.\n",
      "2019-06-28 10:50:14.639185 XGdbaEDVWp0  processed.\n",
      "2019-06-28 10:50:14.696340 glXgSSOKlls  processed.\n",
      "2019-06-28 10:50:14.757488 JFgv8bKfxEs  processed.\n",
      "2019-06-28 10:50:14.816820 ur0hCdne2-s  processed.\n",
      "2019-06-28 10:50:14.878084 9mQk7Evt6Vs  processed.\n",
      "2019-06-28 10:50:14.935564 zeAtkPZSYBk  processed.\n",
      "2019-06-28 10:50:15.001591 _uJxJ7tSi1w  processed.\n",
      "2019-06-28 10:50:15.065030 phXzu7GQAPc  processed.\n",
      "2019-06-28 10:50:15.122270 r_6q_-d-7Sk  processed.\n",
      "2019-06-28 10:50:15.187695 1ZhDsPdvl6c  processed.\n",
      "2019-06-28 10:50:15.249738 HlN2BXNJzxA  processed.\n",
      "2019-06-28 10:50:15.313953 LFxjwBfFIiY  processed.\n",
      "2019-06-28 10:50:15.373814 I66oFXdf0KU  processed.\n",
      "2019-06-28 10:50:15.433189 ycYLPbtxU1Q  processed.\n",
      "2019-06-28 10:50:15.539884 UYAnm0_rwa0  processed.\n",
      "2019-06-28 10:50:15.626693 R1zx4G3jqp8  processed.\n",
      "2019-06-28 10:50:15.690125 sXgWWIalwrs  processed.\n",
      "2019-06-28 10:50:15.747420 9_gmjmIqA4M  processed.\n",
      "2019-06-28 10:50:15.805504 XkDA02FHHik  processed.\n",
      "2019-06-28 10:50:15.857123 Oo-LPNYc5qo  processed.\n",
      "2019-06-28 10:50:15.910683 bc08RdvJV1E  processed.\n",
      "2019-06-28 10:50:15.963206 rVeMvBTd8vQ  processed.\n",
      "2019-06-28 10:50:16.022454 W-OioNeoB0Q  processed.\n",
      "2019-06-28 10:50:16.100731 SN_KUZAbxS4  processed.\n",
      "2019-06-28 10:50:16.180621 CeT--DbjtQI  processed.\n",
      "2019-06-28 10:50:16.240254 6l4divMKp4E  processed.\n",
      "2019-06-28 10:50:16.303549 uARhhn2uOu0  processed.\n",
      "2019-06-28 10:50:16.370229 _z4nJdLz1Hs  processed.\n",
      "2019-06-28 10:50:16.433137 OcAvfH0jxBw  processed.\n",
      "2019-06-28 10:50:16.494175 84R5AS0tfkQ  processed.\n",
      "2019-06-28 10:50:16.555168 qODWFe6v3zA  processed.\n",
      "2019-06-28 10:50:16.614275 g-uHc22iIvo  processed.\n",
      "2019-06-28 10:50:16.678227 qkSRAVzkWC0  processed.\n",
      "2019-06-28 10:50:16.733101 1taLXjVxB4U  processed.\n",
      "2019-06-28 10:50:16.803560 1eekOcpx_iQ  processed.\n",
      "2019-06-28 10:50:16.862620 xGClAPu4eic  processed.\n",
      "2019-06-28 10:50:16.929933 0p-O4smRVF4  processed.\n",
      "2019-06-28 10:50:17.048644 rczMbtw8sCw  processed.\n",
      "2019-06-28 10:50:17.111787 G1Ud2IweJzI  processed.\n",
      "2019-06-28 10:50:17.171656 hztJ97XpSi8  processed.\n",
      "2019-06-28 10:50:17.234442 oFvHoyLpCoQ  processed.\n",
      "2019-06-28 10:50:17.295097 HwJdq4ZhxjE  processed.\n",
      "2019-06-28 10:50:17.354639 jG5ZJ0_lhtM  processed.\n",
      "2019-06-28 10:50:17.405499 Ty_3Vyqrlr4  processed.\n",
      "2019-06-28 10:50:17.462328 a8t-GsnUHAk  processed.\n",
      "2019-06-28 10:50:17.513985 uir1R85gJGo  processed.\n",
      "2019-06-28 10:50:17.565464 U-wDvImWXtA  processed.\n",
      "2019-06-28 10:50:17.617110 Dm88OyOuNK8  processed.\n",
      "2019-06-28 10:50:17.669107 0Z7kxtyBZUo  processed.\n",
      "2019-06-28 10:50:17.720281 qUkiC5ZM7YU  processed.\n",
      "2019-06-28 10:50:17.774431 ORC3tUxn5XI  processed.\n",
      "2019-06-28 10:50:17.829943 yo3sntDdcwk  processed.\n",
      "2019-06-28 10:50:17.885720 cHkDZ1ekB9U  processed.\n",
      "2019-06-28 10:50:17.951191 Frp0lRJEZE0  processed.\n",
      "2019-06-28 10:50:18.002736 5672cZAxRMw  processed.\n",
      "2019-06-28 10:50:18.054772 95UaYna70Ck  processed.\n",
      "2019-06-28 10:50:18.107681 J8b_t4cc5Zg  processed.\n",
      "2019-06-28 10:50:18.161012 osVg3YhF0QY  processed.\n",
      "2019-06-28 10:50:18.214062 TnJqGMW4yts  processed.\n",
      "2019-06-28 10:50:18.265365 RYHj4KqU3Ak  processed.\n",
      "2019-06-28 10:50:18.316840 kxdEoCDzm-k  processed.\n",
      "2019-06-28 10:50:18.369858 8n9wklIG9qU  processed.\n",
      "2019-06-28 10:50:18.421815 u8v94sKyHOY  processed.\n",
      "2019-06-28 10:50:18.472444 JrOrlhjIYVk  processed.\n",
      "2019-06-28 10:50:18.523593 mRwxB2AW5HA  processed.\n",
      "2019-06-28 10:50:18.575016 QAXa3zpmoLY  processed.\n",
      "2019-06-28 10:50:18.627901 Z7bsJf5lPT0  processed.\n",
      "2019-06-28 10:50:18.679270 K6gEaJTHN4M  processed.\n",
      "2019-06-28 10:50:18.736665 Z3W0jKcv1SU  processed.\n",
      "2019-06-28 10:50:18.789540 l5i8YoFBvO4  processed.\n",
      "2019-06-28 10:50:18.842220 2EVu6tVZUgc  processed.\n",
      "2019-06-28 10:50:18.895069 EzlGdWpVoRM  processed.\n",
      "2019-06-28 10:50:18.945571 T7IXKQzmpK4  processed.\n",
      "2019-06-28 10:50:18.996880 m7Ct6cR_NS4  processed.\n"
     ]
    },
    {
     "name": "stdout",
     "output_type": "stream",
     "text": [
      "2019-06-28 10:50:19.049909 ALz4b6x0A70  processed.\n",
      "2019-06-28 10:50:19.100695 4VRrQf_BSxQ  processed.\n",
      "2019-06-28 10:50:19.152373 HAdw1e728Js  processed.\n",
      "2019-06-28 10:50:19.204832 GrBu7a4gfX8  processed.\n",
      "2019-06-28 10:50:19.270097 7wANyBLd5VM  processed.\n",
      "2019-06-28 10:50:19.326576 wYm3hZC1xB0  processed.\n",
      "2019-06-28 10:50:19.382246 qTV56N-EaqM  processed.\n",
      "2019-06-28 10:50:19.435670 tsN-MkpiZB0  processed.\n",
      "2019-06-28 10:50:19.487651 J4c2ksykqio  processed.\n",
      "2019-06-28 10:50:19.538127 Bc5UieSLsJM  processed.\n",
      "2019-06-28 10:50:19.591191 5j59M44F0bo  processed.\n",
      "2019-06-28 10:50:19.652257 bMLVDVjDe3Q  processed.\n",
      "2019-06-28 10:50:19.707878 Wy6gIJ6cLig  processed.\n",
      "2019-06-28 10:50:19.764901 WZwr2a_lFWY  processed.\n",
      "2019-06-28 10:50:19.830497 EREAScyThOM  processed.\n",
      "2019-06-28 10:50:19.884411 waN7F0nSLk8  processed.\n",
      "2019-06-28 10:50:19.939149 p5bYHHajBKk  processed.\n",
      "2019-06-28 10:50:19.990479 mLzNk_FfHjg  processed.\n",
      "2019-06-28 10:50:20.042664 IRNBtocmQ58  processed.\n",
      "2019-06-28 10:50:20.095889 HvGql8HwOIM  processed.\n",
      "2019-06-28 10:50:20.149723 EqelqaGHLM0  processed.\n",
      "2019-06-28 10:50:20.221424 rUIxKb24fMI  processed.\n",
      "2019-06-28 10:50:20.281823 sgMTvELuBys  processed.\n",
      "2019-06-28 10:50:20.337663 Cp56JdkmE9s  processed.\n",
      "2019-06-28 10:50:20.391612 -mE4hSQ7j0M  processed.\n",
      "2019-06-28 10:50:20.449525 f5RHf916uDU  processed.\n",
      "2019-06-28 10:50:20.505241 dnQflYjicms  processed.\n",
      "2019-06-28 10:50:20.565670 iHSKWuVckkw  processed.\n",
      "2019-06-28 10:50:20.621822 n-H2R-hKyiQ  processed.\n",
      "2019-06-28 10:50:20.675374 3CgGAiuDtNI  processed.\n",
      "2019-06-28 10:50:20.728219 47Vz-ptyKbQ  processed.\n",
      "2019-06-28 10:50:20.789307 5zONW_hyI5A  processed.\n",
      "2019-06-28 10:50:20.843586 ezj4zIKjhQc  processed.\n",
      "2019-06-28 10:50:20.904552 rlpWw9tcXs4  processed.\n",
      "2019-06-28 10:50:20.960400 u1xr0L1heHI  processed.\n",
      "2019-06-28 10:50:21.199108 B54wPt-vbF0  processed.\n",
      "2019-06-28 10:50:21.491642 Pggblt98FsQ  processed.\n",
      "2019-06-28 10:50:21.587275 oURt9tYjGwE  processed.\n",
      "2019-06-28 10:50:21.858463 8kBUGGqTTzM  processed.\n",
      "2019-06-28 10:50:22.104182 kT3n1tja5yQ  processed.\n",
      "2019-06-28 10:50:22.289675 gjQgIlyB6pM  processed.\n",
      "2019-06-28 10:50:22.596066 W3iSnJ663II  processed.\n",
      "2019-06-28 10:50:22.719217 0Sn3s1PMl70  processed.\n",
      "2019-06-28 10:50:22.903171 19XLIdOMZUY  processed.\n",
      "2019-06-28 10:50:23.026730 CNeNwplE_aw  processed.\n",
      "2019-06-28 10:50:23.141048 _E5JtAcc3cY  processed.\n",
      "2019-06-28 10:50:23.332857 uf27Hxrglrk  processed.\n",
      "2019-06-28 10:50:23.496605 MY81UMA3VB4  processed.\n",
      "2019-06-28 10:50:23.629465 1eKVzAnBWF8  processed.\n",
      "2019-06-28 10:50:23.753208 mPVJ6YrlKPc  processed.\n",
      "2019-06-28 10:50:23.934306 a6dO_o5PmI0  processed.\n",
      "2019-06-28 10:50:24.118660 2cevbhEqQF4  processed.\n",
      "2019-06-28 10:50:24.438860 evITRLUQHn0  processed.\n",
      "2019-06-28 10:50:24.631805 LzFhhCxz2Zg  processed.\n",
      "2019-06-28 10:50:24.693374 VaEiUPdFlvw  processed.\n",
      "2019-06-28 10:50:24.755139 XEOCbFJjRw0  processed.\n",
      "2019-06-28 10:50:24.810161 ozGz0z5hicw  processed.\n",
      "2019-06-28 10:50:24.873244 yNe39XGY9YU  processed.\n",
      "2019-06-28 10:50:24.932805 0SwDZ3qeBd8  processed.\n",
      "2019-06-28 10:50:24.992680 rtxfbnYMWaw  processed.\n",
      "2019-06-28 10:50:25.059702 Uu1KvQDDOog  processed.\n",
      "2019-06-28 10:50:25.116029 Pq_mbTSR-a0  processed.\n",
      "2019-06-28 10:50:25.176075 5L8FXg8zbDA  processed.\n",
      "2019-06-28 10:50:25.243851 l7eS8uGMIgw  processed.\n",
      "2019-06-28 10:50:25.304522 -OfOkiVFmhM  processed.\n",
      "2019-06-28 10:50:25.362825 iqCQ7xIjfQo  processed.\n",
      "2019-06-28 10:50:25.428778 pNfTK39k55U  processed.\n",
      "2019-06-28 10:50:25.488479 KyHgrjEJtfM  processed.\n",
      "2019-06-28 10:50:25.553503 0eSGW6xaWF4  processed.\n",
      "2019-06-28 10:50:25.612106 8QZnLUcR--Q  processed.\n",
      "2019-06-28 10:50:25.678923 XWonnaV7ac0  processed.\n",
      "2019-06-28 10:50:25.741312 qZO8guhtnFw  processed.\n",
      "2019-06-28 10:50:25.800319 QygMV7XRbPQ  processed.\n",
      "2019-06-28 10:50:25.853160 no-LbNPk0w4  processed.\n",
      "2019-06-28 10:50:25.910927 xITcM6Q6Gbo  processed.\n",
      "2019-06-28 10:50:25.966352 MyekY7_pqWk  processed.\n",
      "2019-06-28 10:50:26.018856 R9VDPMk5ls0  processed.\n",
      "2019-06-28 10:50:26.074796 7KdWuQyIEYk  processed.\n",
      "2019-06-28 10:50:26.129631 D6fe3Nqpw9M  processed.\n",
      "2019-06-28 10:50:26.181667 yDWei1-exJU  processed.\n",
      "2019-06-28 10:50:26.237699 ZEE1UC90I0o  processed.\n",
      "2019-06-28 10:50:26.307241 vIP4BjfQums  processed.\n",
      "2019-06-28 10:50:26.369164 T4ZsBwwnxx8  processed.\n",
      "2019-06-28 10:50:26.430060 nKU4OVH18mE  processed.\n",
      "2019-06-28 10:50:26.495127 vGDwcoGnI7M  processed.\n",
      "2019-06-28 10:50:26.564297 9RMfaE3Mwec  processed.\n",
      "2019-06-28 10:50:26.625721 M4nZjrXc1BQ  processed.\n",
      "2019-06-28 10:50:26.686998 TbPHPX3hSPA  processed.\n",
      "2019-06-28 10:50:26.747315 TbWmcoXT9Yc  processed.\n",
      "2019-06-28 10:50:26.808578 hnRpdEbnyw0  processed.\n",
      "2019-06-28 10:50:26.864977 leiLl603fvg  processed.\n",
      "2019-06-28 10:50:26.921893 k6msd9uh8nA  processed.\n",
      "2019-06-28 10:50:26.980548 0NHj1g5taxk  processed.\n",
      "2019-06-28 10:50:27.040835 YAUfVpLTnOM  processed.\n",
      "2019-06-28 10:50:27.103107 v5daqkRvJDE  processed.\n",
      "2019-06-28 10:50:27.164420 yqszm7AnX-4  processed.\n",
      "2019-06-28 10:50:27.218402 yhMk2I5JBjE  processed.\n",
      "2019-06-28 10:50:27.272048 0EM-L3koV5o  processed.\n",
      "2019-06-28 10:50:27.333881 y2EQWus7zEA  processed.\n",
      "2019-06-28 10:50:27.388885 1aLPKmN73Xg  processed.\n",
      "2019-06-28 10:50:27.447702 _u0rbNyosB8  processed.\n",
      "2019-06-28 10:50:27.503978 g27XtqR7B0c  processed.\n",
      "2019-06-28 10:50:27.563602 HlN2BXNJzxA  processed.\n",
      "2019-06-28 10:50:27.632159 qed_s8WnTbU  processed.\n",
      "2019-06-28 10:50:27.695153 Nm7qzNNtnhI  processed.\n",
      "2019-06-28 10:50:27.756400 DiChCQfS7u4  processed.\n",
      "2019-06-28 10:50:27.819622 CezAp0sg70c  processed.\n"
     ]
    }
   ],
   "source": [
    "# update video_detail\n",
    "coll = db['video_detail']\n",
    "cur = coll.find({})\n",
    "for video in cur:\n",
    "    video_id = video['video_id']\n",
    "\n",
    "    # set it to video_detail    \n",
    "    coll.update_one({\"_id\": video[\"_id\"]}, \n",
    "    {\"$set\": {\"has_comment\": is_exist_on_comment(video_id)}})\n",
    "    print(datetime.now(), video_id, ' processed.')\n",
    "    "
   ]
  },
  {
   "cell_type": "code",
   "execution_count": null,
   "metadata": {},
   "outputs": [],
   "source": []
  },
  {
   "cell_type": "code",
   "execution_count": 9,
   "metadata": {},
   "outputs": [],
   "source": [
    "video_id = 'YBnGBb1wg98'\n",
    "comment_coll = db['comments']\n",
    "cur = comment_coll.find({'video_id': video_id})"
   ]
  },
  {
   "cell_type": "code",
   "execution_count": 18,
   "metadata": {},
   "outputs": [
    {
     "data": {
      "text/plain": [
       "100"
      ]
     },
     "execution_count": 18,
     "metadata": {},
     "output_type": "execute_result"
    }
   ],
   "source": []
  },
  {
   "cell_type": "code",
   "execution_count": null,
   "metadata": {},
   "outputs": [],
   "source": [
    "browser.close()"
   ]
  }
 ],
 "metadata": {
  "kernelspec": {
   "display_name": "Python 3",
   "language": "python",
   "name": "python3"
  },
  "language_info": {
   "codemirror_mode": {
    "name": "ipython",
    "version": 3
   },
   "file_extension": ".py",
   "mimetype": "text/x-python",
   "name": "python",
   "nbconvert_exporter": "python",
   "pygments_lexer": "ipython3",
   "version": "3.7.3"
  }
 },
 "nbformat": 4,
 "nbformat_minor": 2
}
