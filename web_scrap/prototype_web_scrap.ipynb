{
 "cells": [
  {
   "cell_type": "markdown",
   "metadata": {},
   "source": [
    "## Collect the data from Youtube\n",
    "\n",
    "### Scrap music video list & number of views\n",
    "\n",
    "With selenium and firefox,\n",
    " * Scrap kpop music videos on youtube\n",
    " * Scrap # of views for certain video"
   ]
  },
  {
   "cell_type": "markdown",
   "metadata": {},
   "source": [
    "#### import prerequisites"
   ]
  },
  {
   "cell_type": "code",
   "execution_count": 54,
   "metadata": {},
   "outputs": [],
   "source": [
    "from selenium.webdriver import Firefox\n",
    "from pymongo import MongoClient \n",
    "from datetime import datetime\n",
    "\n",
    "import pandas as pd\n",
    "import random\n",
    "import time\n",
    "import os"
   ]
  },
  {
   "cell_type": "markdown",
   "metadata": {},
   "source": [
    "#### connect to mongodb set up on the cloud\n",
    "\n",
    "with SSH tunnel through 47017 port"
   ]
  },
  {
   "cell_type": "code",
   "execution_count": 55,
   "metadata": {},
   "outputs": [],
   "source": [
    "connection = MongoClient(port=47017)\n",
    "db = connection['youtube_scrap']"
   ]
  },
  {
   "cell_type": "code",
   "execution_count": 56,
   "metadata": {},
   "outputs": [],
   "source": [
    "# Initialize browser\n",
    "browser = Firefox()"
   ]
  },
  {
   "cell_type": "markdown",
   "metadata": {},
   "source": [
    "#### Collect video list"
   ]
  },
  {
   "cell_type": "code",
   "execution_count": 13,
   "metadata": {},
   "outputs": [],
   "source": [
    "def collect_videos(browser, db):    \n",
    "    \"\"\"Collect video list from youtube and save to videos collection\"\"\"\n",
    "    url = 'https://www.youtube.com/results?search_query=kpop+music+video&sp=CAMSBggEEAEYAQ%253D%253D'\n",
    "    browser.get(url)\n",
    "    time.sleep(2)\n",
    "\n",
    "    for _ in range(10):\n",
    "        browser.execute_script(\"window.scrollTo(0, window.scrollY + 200000)\")\n",
    "        time.sleep(3)\n",
    "\n",
    "    # Get video title & URL\n",
    "    videolinks = browser.find_elements_by_id('video-title')\n",
    "    videos = [(link.text, link.get_attribute('href')) for link in videolinks]\n",
    "    \n",
    "    # Store to 'videos' collection\n",
    "    i = 0\n",
    "    coll = db['videos']\n",
    "    for title, url in videos:\n",
    "        i +=1\n",
    "        video_id = url.split('=')[-1]\n",
    "        coll.insert_one({\n",
    "            'video_id': video_id,\n",
    "            'title': title,\n",
    "            'url': url\n",
    "        })\n",
    "\n",
    "    print(f'{i} videos were collected.')\n",
    "    "
   ]
  },
  {
   "cell_type": "code",
   "execution_count": 27,
   "metadata": {},
   "outputs": [],
   "source": [
    "df = pd.read_csv('./video_list.txt', header=None)\n",
    "df.columns=['URL']"
   ]
  },
  {
   "cell_type": "code",
   "execution_count": 57,
   "metadata": {},
   "outputs": [
    {
     "data": {
      "text/plain": [
       "174"
      ]
     },
     "execution_count": 57,
     "metadata": {},
     "output_type": "execute_result"
    }
   ],
   "source": [
    "urls = df['URL'].unique()\n",
    "len(urls)"
   ]
  },
  {
   "cell_type": "code",
   "execution_count": 60,
   "metadata": {},
   "outputs": [],
   "source": [
    "def collect_video_detail(browser, db, urls, start_point=0):    \n",
    "    \"\"\"Collect video detail from youtube and save to videos collection\"\"\"    \n",
    "\n",
    "    i = 0\n",
    "    for url in urls:\n",
    "        if (i < start_point):\n",
    "            i+=1\n",
    "            continue\n",
    "            \n",
    "        browser.get(url)\n",
    "        time.sleep(2)\n",
    "\n",
    "        browser.execute_script(\"window.scrollTo(0, window.scrollY + 720)\")\n",
    "        time.sleep(2)\n",
    "\n",
    "        title = browser.find_element_by_css_selector('h1.title').text\n",
    "        published = browser.find_element_by_css_selector('span.date').text\n",
    "\n",
    "        video_id = url.split('=')[-1]\n",
    "        \n",
    "        coll = db['video_detail']\n",
    "        coll.insert_one({\n",
    "            'video_id': video_id,\n",
    "            'pubished': published,\n",
    "            'title': title,\n",
    "            'url': url\n",
    "        })\n",
    "        \n",
    "        print(f'{datetime.now()} {i} - {title} has been processed.')\n",
    "        i += 1\n"
   ]
  },
  {
   "cell_type": "code",
   "execution_count": 61,
   "metadata": {},
   "outputs": [
    {
     "name": "stdout",
     "output_type": "stream",
     "text": [
      "2019-06-26 10:49:34.329349 28 - BTS (방탄소년단) - HOME (Color Coded Lyrics Eng/Rom/Han/가사) has been processed.\n",
      "2019-06-26 10:49:40.302159 29 - 청하 (CHUNG HA) - \"벌써 12시\" Music Video has been processed.\n",
      "2019-06-26 10:49:45.916571 30 - ATEEZ(에이티즈) - 'WAVE' Official MV has been processed.\n",
      "2019-06-26 10:49:51.905172 31 - CLC(씨엘씨) - 'ME(美)' Official Music Video has been processed.\n",
      "2019-06-26 10:49:58.378145 32 - KARD - [밤밤(Bomb Bomb)] M/V has been processed.\n",
      "2019-06-26 10:50:04.598763 33 - [MV] IU(아이유) _ BBIBBI(삐삐) has been processed.\n",
      "2019-06-26 10:50:10.630629 34 - EVERGLOW (에버글로우) - 봉봉쇼콜라 (Bon Bon Chocolat) MV has been processed.\n",
      "2019-06-26 10:50:17.055837 35 - BLACKPINK - Kick It (Color Coded Lyrics Eng/Rom/Han/가사) has been processed.\n",
      "2019-06-26 10:50:23.236448 36 - [MV] Hwa Sa(화사) _ TWIT(멍청이) has been processed.\n",
      "2019-06-26 10:50:29.286892 37 - WINNER - ‘AH YEAH (아예)’ M/V has been processed.\n",
      "2019-06-26 10:50:35.291422 38 - [MV] (G)I-DLE((여자)아이들) _ Senorita has been processed.\n",
      "2019-06-26 10:50:41.573964 39 - BTS (방탄소년단) - Mikrokosmos (소우주) (Color Coded Lyrics Eng/Rom/Han/가사) has been processed.\n",
      "2019-06-26 10:50:47.780200 40 - [MV] 마마무(MAMAMOO) - 너나 해(Egotistic) has been processed.\n",
      "2019-06-26 10:50:54.014273 41 - (여자)아이들((G)I-DLE) - '한(一)(HANN(Alone))' Official Music Video has been processed.\n",
      "2019-06-26 10:51:00.285333 42 - Red Velvet 레드벨벳 'RBB (Really Bad Boy)' MV has been processed.\n",
      "2019-06-26 10:51:06.488251 43 - GOT7 \"Lullaby\" M/V has been processed.\n",
      "2019-06-26 10:51:12.806658 44 - Girls' Generation-Oh!GG 소녀시대-Oh!GG '몰랐니 (Lil' Touch)' MV has been processed.\n",
      "2019-06-26 10:51:18.929221 45 - BTS JUNGKOOK – 'EUPHORIA' Lyrics [Color Coded_Han_Rom_Eng] has been processed.\n",
      "2019-06-26 10:51:24.740803 46 - Red Velvet 레드벨벳 'Power Up' MV has been processed.\n",
      "2019-06-26 10:51:30.631403 47 - AB6IX 'BREATHE' M/V has been processed.\n",
      "2019-06-26 10:51:37.266108 48 - [MV] 프로미스나인 (fromis_9) - FUN! has been processed.\n",
      "2019-06-26 10:51:43.483222 49 - [MV] Lim Jae Hyun(임재현) _ If there was practice in love(사랑에 연습이 있었다면) (Prod. 2soo) has been processed.\n",
      "2019-06-26 10:51:49.590074 50 - BTS (방탄소년단) - Answer: Love Myself (Color Coded Lyrics Eng/Rom/Han/가사) has been processed.\n",
      "2019-06-26 10:51:56.146852 51 - BTS JIMIN - SERENDIPITY Letra [Color Coded Han_Rom_Eng] has been processed.\n",
      "2019-06-26 10:52:02.753580 52 - [EXID(이엑스아이디)] 알러뷰 (I LOVE YOU) M/V (Official Music Video) has been processed.\n",
      "2019-06-26 10:52:09.349151 53 - BTS (방탄소년단) - Seesaw (Trivia 轉) LYRICS (Color Coded Eng/Rom/Han/가사) has been processed.\n",
      "2019-06-26 10:52:15.403427 54 - ATEEZ(에이티즈) - 'ILLUSION' Official MV has been processed.\n",
      "2019-06-26 10:52:21.591789 55 - NCT 127 엔시티 127 'Simon Says' MV has been processed.\n",
      "2019-06-26 10:52:27.386040 56 - TAEYEON 태연 '사계 (Four Seasons)' MV has been processed.\n",
      "2019-06-26 10:52:33.505482 57 - [MV] Paul Kim(폴킴) _ Me After You(너를 만나) has been processed.\n",
      "2019-06-26 10:52:41.060286 58 - 아이오아이 (I.O.I) - 너무너무너무 (Very Very Very) MV has been processed.\n",
      "2019-06-26 10:52:48.348677 59 - Stray Kids \"My Pace\" M/V has been processed.\n",
      "2019-06-26 10:52:54.607188 60 - [M/V] SEVENTEEN(세븐틴) - Home has been processed.\n",
      "2019-06-26 10:53:03.319348 61 - TAEMIN 태민 'WANT' MV has been processed.\n",
      "2019-06-26 10:53:09.852354 62 - [MV] BOL4(볼빨간사춘기) _ Bom(나만, 봄) has been processed.\n",
      "2019-06-26 10:53:16.112423 63 - iKON - '이별길(GOODBYE ROAD)' M/V has been processed.\n",
      "2019-06-26 10:53:22.251493 64 - Stray Kids \"Get Cool\" M/V has been processed.\n",
      "2019-06-26 10:53:28.378691 65 - SUPER JUNIOR (슈퍼주니어) X REIK 'One More Time (Otra Vez)' MV has been processed.\n",
      "2019-06-26 10:53:34.393017 66 - Apink 에이핑크 1도 없어 I'm so sick Official MV has been processed.\n",
      "2019-06-26 10:53:40.367721 67 - [MV] ONEUS(원어스) _ Twilight(태양이 떨어진다) has been processed.\n",
      "2019-06-26 10:53:46.211654 68 - iKON - 'I'M OK' M/V has been processed.\n",
      "2019-06-26 10:53:52.129351 69 - 케이시 (Kassy) - 그때가 좋았어 (The day was beautiful) | 가사 has been processed.\n",
      "2019-06-26 10:53:58.105381 70 - [M/V] NU'EST - BET BET has been processed.\n",
      "2019-06-26 10:54:04.123500 71 - [MV] N.Flying(엔플라잉) _ Rooftop(옥탑방) has been processed.\n",
      "2019-06-26 10:54:10.071718 72 - NCT DREAM 엔시티 드림 'We Go Up' MV has been processed.\n",
      "2019-06-26 10:54:16.300177 73 - [STATION X 0] 슬기(SEULGI)X신비(여자친구)X청하X소연 'Wow Thing' MV has been processed.\n",
      "2019-06-26 10:54:22.228373 74 - [MV] SUNMI(선미) _ 누아르(Noir) has been processed.\n",
      "2019-06-26 10:54:28.273385 75 - Stray Kids \"승전가(Victory Song)\" Performance Video has been processed.\n",
      "2019-06-26 10:54:34.289436 76 - BTS (방탄소년단) LOVE YOURSELF 結 Answer 'Epiphany' Comeback Trailer has been processed.\n",
      "2019-06-26 10:54:40.187862 77 - [MV] OH MY GIRL(오마이걸) _ The fifth season(다섯 번째 계절) (SSFWL) has been processed.\n",
      "2019-06-26 10:54:46.234318 78 - [MV] SUNMI(선미) _ Siren(사이렌) has been processed.\n",
      "2019-06-26 10:54:52.496341 79 - BLACKPINK - '붐바야'(BOOMBAYAH) M/V has been processed.\n",
      "2019-06-26 10:54:58.670489 80 - BLACKPINK - '휘파람'(WHISTLE) M/V has been processed.\n",
      "2019-06-26 10:55:04.490550 81 - TWICE \"LIKEY\" M/V has been processed.\n",
      "2019-06-26 10:55:10.988426 82 - TWICE \"Heart Shaker\" M/V has been processed.\n",
      "2019-06-26 10:55:17.093038 83 - TWICE \"What is Love?\" M/V has been processed.\n",
      "2019-06-26 10:55:23.397761 84 - TWICE \"CHEER UP\" M/V has been processed.\n",
      "2019-06-26 10:55:29.468098 85 - TWICE \"Like OOH-AHH(OOH-AHH하게)\" M/V has been processed.\n",
      "2019-06-26 10:55:35.900928 86 - Red Velvet 레드벨벳 '러시안 룰렛 (Russian Roulette)' MV has been processed.\n",
      "2019-06-26 10:55:42.113032 87 - Red Velvet 레드벨벳 'Dumb Dumb' MV has been processed.\n",
      "2019-06-26 10:55:48.219782 88 - Red Velvet 레드벨벳 'Ice Cream Cake' MV has been processed.\n",
      "2019-06-26 10:55:54.269333 89 - Red Velvet 레드벨벳 '행복 (Happiness)' MV has been processed.\n",
      "2019-06-26 10:56:00.493190 90 - [MV] SUNMI(선미) _ Gashina(가시나) has been processed.\n",
      "2019-06-26 10:56:06.282434 91 - [MV] (G)I-DLE ((여자)아이들) _ LATATA has been processed.\n",
      "2019-06-26 10:56:12.756569 92 - [MV] WJSN(우주소녀) _ Boogie Up has been processed.\n",
      "2019-06-26 10:56:18.650782 93 - [MV] 우주소녀(WJSN)(COSMIC GIRLS) _ 비밀이야 (Secret) has been processed.\n",
      "2019-06-26 10:56:24.659378 94 - (MV)오마이걸(OH MY GIRL)_다섯 번째 계절 (SSFWL)(The fifth season) (SSFWL) has been processed.\n",
      "2019-06-26 10:56:30.772704 95 - 여자친구 GFRIEND - 시간을 달려서(ROUGH) M/V has been processed.\n",
      "2019-06-26 10:56:39.006716 96 - 여자친구 GFRIEND - 너 그리고 나 (NAVILLERA) M/V has been processed.\n",
      "2019-06-26 10:56:48.183125 97 - 청하 (CHUNG HA) - \"벌써 12시 (Gotta Go)\" Music Video has been processed.\n",
      "2019-06-26 10:56:55.629260 98 - Dreamcatcher(드림캐쳐) 'YOU AND I' MV has been processed.\n",
      "2019-06-26 10:57:04.739979 99 - (여자)아이들((G)I-DLE) - 'Uh-Oh' Official Music Video has been processed.\n",
      "2019-06-26 10:57:13.827289 100 - [MV] (G)I-DLE((여자)아이들) _ Uh-Oh has been processed.\n",
      "2019-06-26 10:57:22.895508 101 - 쏠(SOLE) - ‘LOVIN’ U (Feat. pH-1)’ M/V has been processed.\n",
      "2019-06-26 10:57:28.631508 102 - [MV] PURPLEBECK (퍼플백) - Crystal Ball has been processed.\n",
      "2019-06-26 10:57:34.921876 103 - SF9 – RPM Music Video has been processed.\n",
      "2019-06-26 10:57:43.579203 104 - U-KNOW 유노윤호 'Follow' MV has been processed.\n",
      "2019-06-26 10:57:53.634412 105 - TXT (투모로우바이투게더) '별의 낮잠 (Nap of a star)' Official MV has been processed.\n",
      "2019-06-26 10:58:13.411382 106 - BoA 보아 'Feedback (Feat. 넉살)' MV has been processed.\n",
      "2019-06-26 10:58:20.305083 107 - TEEN TOP(틴탑) Run Away M/V has been processed.\n",
      "2019-06-26 10:58:26.302995 108 - [MV] 우주소녀 (WJSN) - Boogie Up has been processed.\n",
      "2019-06-26 10:58:32.911754 109 - (MV)산들(SANDEUL)_날씨 좋은 날(One Fine Day) has been processed.\n",
      "2019-06-26 10:58:38.879802 110 - YOONA 윤아 '여름밤 (Feat. 스무살) (Summer Night)' MV has been processed.\n",
      "2019-06-26 10:58:44.626467 111 - GIANT PINK 자이언트핑크 '월요일 보다는 화요일 (Tuesday is better than Monday) (Feat. 예리 of Red Velvet)' MV has been processed.\n",
      "2019-06-26 10:58:51.690567 112 - [MV] 휘인(WHEEIN) - 25(Twenty Five) has been processed.\n",
      "2019-06-26 10:58:58.382687 113 - 체리블렛 (Cherry Bullet) – ‘네가 참 좋아 (Really Really)’ MV has been processed.\n",
      "2019-06-26 10:59:04.555590 114 - HYOLYN(효린) ‘니가 더 잘 알잖아(youknowbetter)’ Official MV has been processed.\n",
      "2019-06-26 10:59:10.430499 115 - TAEYEON 태연 '춘천가는 기차 A train to chuncheon (Monthly Project 2019 May Yoon Jong Shin with TAEYEON)' MV has been processed.\n",
      "2019-06-26 10:59:16.296167 116 - 다비치 (DAVICHI) - 너에게 못했던 내 마지막 말은 (Unspoken Words) MV has been processed.\n"
     ]
    },
    {
     "name": "stdout",
     "output_type": "stream",
     "text": [
      "2019-06-26 10:59:22.792311 117 - A.C.E(에이스) - UNDER COVER M/V has been processed.\n",
      "2019-06-26 10:59:30.509270 118 - [MV] 레이디스 코드(LADIES' CODE) \"FEEDBACK (너의 대답은)\" has been processed.\n",
      "2019-06-26 10:59:39.723688 119 - ONEWE(원위) '귀걸이가 나를 때리게 (Ring on my Ears)' MV has been processed.\n",
      "2019-06-26 10:59:49.337859 120 - Weki Meki 위키미키 - Picky Picky M/V has been processed.\n",
      "2019-06-26 11:00:02.713272 121 - NCT 127 'Highway to Heaven' NEO CITY Tour Film ver. has been processed.\n",
      "2019-06-26 11:00:08.853548 122 - ONEWE(원위) '다 추억(Reminisce about All)' MV has been processed.\n",
      "2019-06-26 11:00:15.136218 123 - [STATION 3] XIUMIN 시우민 '이유 (You)' MV has been processed.\n",
      "2019-06-26 11:00:21.016044 124 - 에릭남 (Eric Nam) - 'Runaway' MV has been processed.\n",
      "2019-06-26 11:00:27.018646 125 - BIGONE (빅원) - Too Much (Feat. PENOMECO) (Prod. GRAY) MV has been processed.\n",
      "2019-06-26 11:00:33.286171 126 - [M/V] Park Bom(박봄) - 4:44 (Feat. Wheein of Mamamoo)(4시 44분 (Feat. 휘인 of 마마무)) has been processed.\n",
      "2019-06-26 11:00:39.692625 127 - GRAY - TMI [Official Video] has been processed.\n",
      "2019-06-26 11:00:45.567004 128 - 가을로 가는 기차(A train to autumn) - '우산을 쓰고(Spring Rain)' Official Music Video has been processed.\n",
      "2019-06-26 11:00:51.779787 129 - [MV] GeeGu (지구) - Moonlight has been processed.\n",
      "2019-06-26 11:00:57.670603 130 - [MV] THE BOYZ(더보이즈) _ Bloom Bloom has been processed.\n",
      "2019-06-26 11:01:03.493546 131 - AB6IX (에이비식스) 'HOLLYWOOD' PERFORMANCE M/V has been processed.\n",
      "2019-06-26 11:01:09.750339 132 - 윤지성 (Yoon Jisung) - 너의 페이지 (I’ll be there) MV has been processed.\n",
      "2019-06-26 11:01:17.158824 133 - [STATION 3] CHANYEOL 찬열 '봄 여름 가을 겨울 (SSFW)' MV has been processed.\n",
      "2019-06-26 11:01:24.648186 134 - [MV] PERC%NT 퍼센트 - Canvas Girl (Feat. Choiza 최자 of Dynamicduo 다이나믹 듀오) has been processed.\n",
      "2019-06-26 11:01:37.503898 135 - [MV] 손동운(SON DONGWOON) - 편해지자 has been processed.\n",
      "2019-06-26 11:01:43.703607 136 - [MV] Kim Eun Bi(김은비) _ PPP has been processed.\n",
      "2019-06-26 11:01:49.596051 137 - 키썸 (Kisum) - 내게 인사해주세요 (Say Hi) (Feat. 우디 (Woody)) MV has been processed.\n",
      "2019-06-26 11:01:55.431184 138 - Yoon Jong Shin 윤종신 'Shuffling (Monthly Project 2019 April Yoon Jong Shin)' MV has been processed.\n",
      "2019-06-26 11:02:01.575339 139 - [MV] Car, the garden(카더가든) _ Tree(나무) has been processed.\n",
      "2019-06-26 11:02:07.750215 140 - [MV] So!YoON!(황소윤) _ HOLIDAY has been processed.\n",
      "2019-06-26 11:02:13.856190 141 - SUPER JUNIOR-D&E 슈퍼주니어-D&E '땡겨 (Danger)' MV has been processed.\n",
      "2019-06-26 11:02:19.731288 142 - [MV] 1THE9(원더나인) _ Spotlight has been processed.\n",
      "2019-06-26 11:02:26.473564 143 - [MV] GREE(그리) _ Ding Dong Ditch(벨튀) (Feat. Samuel Seo(서사무엘), GA EUN(가은)) has been processed.\n",
      "2019-06-26 11:02:32.344115 144 - [MV] 은하 (Eunha) X 라비 (Ravi) - BLOSSOM (Prod. Groovyroom) has been processed.\n",
      "2019-06-26 11:02:38.556262 145 - BVNDIT (밴디트) - Hocus Pocus MV has been processed.\n",
      "2019-06-26 11:02:45.296877 146 - VAV - I'm Sorry Official Music Video has been processed.\n",
      "2019-06-26 11:02:51.173673 147 - 모모랜드(MOMOLAND) - 바나나차차(뽀로로 삽입곡) M/V has been processed.\n",
      "2019-06-26 11:02:57.364353 148 - [MV] BOL4(볼빨간사춘기) _ Stars over me(별 보러 갈래?) has been processed.\n",
      "2019-06-26 11:03:03.273040 149 - [MV] 샵건 (#GUN) _ AQUARIUM has been processed.\n",
      "2019-06-26 11:03:09.445402 150 - CHEN 첸 '사월이 지나면 우리 헤어져요 (Beautiful goodbye)' MV has been processed.\n",
      "2019-06-26 11:03:15.467379 151 - SOHLHEE 솔희 '보라색 (Purple) (Feat. 태일 of NCT)' MV has been processed.\n",
      "2019-06-26 11:03:21.377012 152 - 이우 (LeeWoo) - 예전의 오늘 (Feat. 구구단 해빈) Official M/V has been processed.\n",
      "2019-06-26 11:03:27.432473 153 - BOY STORY \"Oh My Gosh\" M/V has been processed.\n",
      "2019-06-26 11:03:34.102880 154 - [MV] Yoon Mi Rae(윤미래) _ Don`t forget me(잊어가지마) (Prod. ROCOBERRY(로코베리)) has been processed.\n",
      "2019-06-26 11:03:40.222990 155 - DEAN - 하루살이 (dayfly) ft. Sulli, Rad Museum has been processed.\n",
      "2019-06-26 11:03:46.574724 156 - 헤이즈 (Heize) - 이유 (No Reason) M/V has been processed.\n",
      "2019-06-26 11:03:53.137817 157 - [STATION 3] MINHO 민호 'I’m Home (그래)' MV has been processed.\n",
      "2019-06-26 11:03:58.648838 158 - 블락비 바스타즈(Block B BASTARZ) - 'Help Me' Official MV has been processed.\n",
      "2019-06-26 11:04:05.476290 159 - Steve Aoki & Monsta X - Play It Cool (Official Video) [Ultra Music] has been processed.\n",
      "2019-06-26 11:04:11.967731 160 - [MV] 1TEAM _ VIBE(습관적 VIBE) has been processed.\n",
      "2019-06-26 11:04:18.329672 161 - PENTAGON(펜타곤) - '신토불이(SHA LA LA)' Official Music Video has been processed.\n",
      "2019-06-26 11:04:24.292471 162 - 박지훈(PARK JIHOON) - 'L.O.V.E' M/V has been processed.\n",
      "2019-06-26 11:04:30.633244 163 - [MV] PERC%NT - Superhero has been processed.\n",
      "2019-06-26 11:04:36.732684 164 - JBJ95 - AWAKE MV has been processed.\n",
      "2019-06-26 11:04:42.775568 165 - 블락비 바스타즈(Block B BASTARZ) - 'From Seoul' Official MV has been processed.\n",
      "2019-06-26 11:04:49.356924 166 - [MV] 정세운 - 나의 바다 (My Ocean) (JEONG SEWOON) has been processed.\n",
      "2019-06-26 11:04:59.376685 167 - SURAN 수란 '전화끊지마 Don’t hang up (Feat. pH-1)' MV has been processed.\n",
      "2019-06-26 11:05:09.930760 168 - [MV] MOMOLAND(모모랜드) _ I'm So Hot has been processed.\n",
      "2019-06-26 11:05:20.328736 169 - [MV] GWSN(공원소녀) _ Growing ~ for Groo has been processed.\n",
      "2019-06-26 11:05:39.134138 170 - 따마(THAMA) - 'Sing It' M/V has been processed.\n",
      "2019-06-26 11:05:49.506699 171 - 라비(RAVI) - '녹는점 (See-Through) (Feat. Cold Bay)' Official M/V has been processed.\n",
      "2019-06-26 11:05:55.461240 172 - [MV] 정세운 - Feeling (Feat. PENOMECO) (JEONG SEWOON) has been processed.\n",
      "2019-06-26 11:06:01.374877 173 - [DIA]다이아 - '우와(WOOWA)' OFFICIAL MUSIC VIDEO has been processed.\n"
     ]
    }
   ],
   "source": [
    "collect_video_detail(browser, db, urls, 28)"
   ]
  },
  {
   "cell_type": "code",
   "execution_count": 43,
   "metadata": {},
   "outputs": [
    {
     "name": "stdout",
     "output_type": "stream",
     "text": [
      "TWICE \"FANCY\" M/V Published on Apr 22, 2019 136641354\n"
     ]
    }
   ],
   "source": [
    "print(title, published, view_count)"
   ]
  },
  {
   "cell_type": "code",
   "execution_count": 45,
   "metadata": {},
   "outputs": [
    {
     "data": {
      "text/plain": [
       "'Real ONCE won’t stop streaming after 100M 😎'"
      ]
     },
     "execution_count": 45,
     "metadata": {},
     "output_type": "execute_result"
    }
   ],
   "source": [
    "browser.find_element_by_id('content-text').text"
   ]
  },
  {
   "cell_type": "code",
   "execution_count": 14,
   "metadata": {},
   "outputs": [
    {
     "name": "stdout",
     "output_type": "stream",
     "text": [
      "217 videos were collected.\n"
     ]
    }
   ],
   "source": [
    "collect_videos(browser, db)"
   ]
  },
  {
   "cell_type": "markdown",
   "metadata": {},
   "source": [
    "#### Get more infomation for video"
   ]
  },
  {
   "cell_type": "code",
   "execution_count": 55,
   "metadata": {},
   "outputs": [],
   "source": [
    "url = 'https://www.youtube.com/watch?v=FIInyEWWW-s'"
   ]
  },
  {
   "cell_type": "code",
   "execution_count": 46,
   "metadata": {},
   "outputs": [],
   "source": [
    "url = 'https://www.youtube.com/watch?v=kZOZ5nJ5lI0'"
   ]
  },
  {
   "cell_type": "code",
   "execution_count": 65,
   "metadata": {},
   "outputs": [],
   "source": [
    "browser.get(url)\n",
    "time.sleep(1)\n",
    "browser.execute_script(\"window.scrollTo(0, window.scrollY + 320)\")\n",
    "time.sleep(2)"
   ]
  },
  {
   "cell_type": "code",
   "execution_count": 66,
   "metadata": {},
   "outputs": [
    {
     "data": {
      "text/plain": [
       "'Published on Jun 10, 2019'"
      ]
     },
     "execution_count": 66,
     "metadata": {},
     "output_type": "execute_result"
    }
   ],
   "source": [
    "# published date\n",
    "browser.find_element_by_css_selector('span.date').text"
   ]
  },
  {
   "cell_type": "code",
   "execution_count": 67,
   "metadata": {},
   "outputs": [
    {
     "data": {
      "text/plain": [
       "'21,467 Comments'"
      ]
     },
     "execution_count": 67,
     "metadata": {},
     "output_type": "execute_result"
    }
   ],
   "source": [
    "# number of comments\n",
    "browser.find_element_by_class_name('count-text').text"
   ]
  },
  {
   "cell_type": "code",
   "execution_count": 68,
   "metadata": {},
   "outputs": [],
   "source": [
    "# number of likes\n",
    "ele = browser.find_element_by_css_selector('ytd-toggle-button-renderer.style-text[is-icon-button] #text.ytd-toggle-button-renderer')"
   ]
  },
  {
   "cell_type": "code",
   "execution_count": 69,
   "metadata": {},
   "outputs": [
    {
     "data": {
      "text/plain": [
       "'290,421 likes'"
      ]
     },
     "execution_count": 69,
     "metadata": {},
     "output_type": "execute_result"
    }
   ],
   "source": [
    "ele.get_attribute('aria-label')"
   ]
  },
  {
   "cell_type": "markdown",
   "metadata": {},
   "source": [
    "#### Get comments for video"
   ]
  },
  {
   "cell_type": "code",
   "execution_count": 81,
   "metadata": {},
   "outputs": [],
   "source": [
    "def get_comments(browser, db, url):\n",
    "    \"\"\"Get comments for video(url), and store it to database\"\"\"\n",
    "    browser.get(url)\n",
    "    time.sleep(2)\n",
    "\n",
    "    for _ in range(20):\n",
    "        browser.execute_script(\"window.scrollTo(0, window.scrollY + 720)\")\n",
    "        time.sleep(1)\n",
    "\n",
    "    comments = browser.find_elements_by_id('content-text')\n",
    "    video_id = url.split('=')[-1]\n",
    "\n",
    "    for comment in comments:\n",
    "        text = comment.text\n",
    "        coll = db['comments']\n",
    "        coll.insert_one({\n",
    "            'video_id': video_id,\n",
    "            'comment': text\n",
    "        })\n",
    "    \n",
    "    print(f'{datetime.now()} - {video_id} : {len(comments)} stored.')"
   ]
  },
  {
   "cell_type": "code",
   "execution_count": 82,
   "metadata": {},
   "outputs": [
    {
     "name": "stdout",
     "output_type": "stream",
     "text": [
      "2019-06-26 11:38:42.617385 - YBnGBb1wg98 : 100 stored.\n",
      "2019-06-26 11:39:12.316967 - 2S24-y0Ij3Y : 100 stored.\n",
      "2019-06-26 11:39:42.390209 - XsX3ATc3FbA : 100 stored.\n",
      "2019-06-26 11:40:11.913858 - 5rPluw_-Eb4 : 104 stored.\n",
      "2019-06-26 11:40:40.368089 - oDJ4ct59NC4 : 100 stored.\n",
      "2019-06-26 11:41:10.322508 - kOHB85vDuow : 100 stored.\n",
      "2019-06-26 11:41:40.044269 - K1scjjbfNsk : 100 stored.\n",
      "2019-06-26 11:42:08.817342 - b73BI9eUkjM : 100 stored.\n",
      "2019-06-26 11:42:38.690764 - pSudEWBAYRE : 100 stored.\n",
      "2019-06-26 11:43:08.195759 - HwT9oKqfUxY : 100 stored.\n",
      "2019-06-26 11:43:37.477980 - GQqyCeKf8rw : 100 stored.\n",
      "2019-06-26 11:44:06.861535 - M46FRJsB0Qw : 100 stored.\n",
      "2019-06-26 11:44:35.454319 - pNfTK39k55U : 100 stored.\n",
      "2019-06-26 11:45:05.516296 - mAKsZ26SabQ : 100 stored.\n",
      "2019-06-26 11:45:34.441049 - ESVsbCkFvG4 : 100 stored.\n",
      "2019-06-26 11:46:05.734792 - Dab4EENTW5I : 120 stored.\n",
      "2019-06-26 11:46:34.632684 - RyVS7R9PN6U : 100 stored.\n",
      "2019-06-26 11:47:03.408192 - Fm5iP0S1z9w : 100 stored.\n",
      "2019-06-26 11:47:33.165893 - F2mbAkat5n8 : 100 stored.\n",
      "2019-06-26 11:48:01.793850 - g9wfhJRyur8 : 100 stored.\n",
      "2019-06-26 11:48:31.329273 - NaKrke1EL1A : 100 stored.\n",
      "2019-06-26 11:49:00.391362 - 6tl-MG38-0E : 100 stored.\n",
      "2019-06-26 11:49:29.140686 - iwd8N6K-sLk : 100 stored.\n",
      "2019-06-26 11:50:00.182492 - Oao3j2hUVvE : 120 stored.\n",
      "2019-06-26 11:50:29.439067 - 6eEZ7DJMzuk : 100 stored.\n",
      "2019-06-26 11:50:54.226403 - W3iSnJ663II : 6 stored.\n",
      "2019-06-26 11:51:18.426266 - E-T1gEeUqwA : 5 stored.\n",
      "2019-06-26 11:51:43.144137 - x95oZNxW5Rc : 7 stored.\n",
      "2019-06-26 11:52:07.787377 - v2AT7oSGZbQ : 5 stored.\n",
      "2019-06-26 11:52:32.648699 - L15ZZX9n56M : 8 stored.\n",
      "2019-06-26 11:52:56.896484 - FIInyEWWW-s : 6 stored.\n",
      "2019-06-26 11:53:21.939755 - Btkjr6UNb50 : 8 stored.\n",
      "2019-06-26 11:53:46.806404 - DESdksesLNM : 7 stored.\n",
      "2019-06-26 11:54:11.064717 - nM0xDI5R50E : 6 stored.\n",
      "2019-06-26 11:54:41.168941 - HvGql8HwOIM : 100 stored.\n",
      "2019-06-26 11:55:11.200256 - sYUlykDe4as : 100 stored.\n",
      "2019-06-26 11:55:41.405487 - ScSn235gQx0 : 120 stored.\n",
      "2019-06-26 11:56:11.624758 - Pm0_G8Zl0ek : 100 stored.\n",
      "2019-06-26 11:56:42.370330 - G8APgeFfkAk : 100 stored.\n",
      "2019-06-26 11:57:11.383261 - LXOJk2PFKgY : 100 stored.\n",
      "2019-06-26 11:57:40.295305 - G5UM2rOyqr4 : 100 stored.\n",
      "2019-06-26 11:58:10.513218 - OKNXn2qCEws : 100 stored.\n",
      "2019-06-26 11:58:39.124572 - IWJUPY-2EIM : 100 stored.\n",
      "2019-06-26 11:59:08.392907 - 9RUeTYiJCyA : 100 stored.\n",
      "2019-06-26 11:59:37.303065 - SdzLl-XpJt0 : 100 stored.\n",
      "2019-06-26 12:00:07.045369 - uTiIZBFpfok : 100 stored.\n",
      "2019-06-26 12:00:37.281978 - aiHSVQy9xN8 : 120 stored.\n",
      "2019-06-26 12:01:07.058230 - RMJFEvHvmD0 : 100 stored.\n",
      "2019-06-26 12:01:35.938167 - zsRyyLtcXho : 100 stored.\n",
      "2019-06-26 12:02:06.152977 - kXAvbHPdTZ0 : 100 stored.\n",
      "2019-06-26 12:02:35.921515 - o_SYttJm0SE : 100 stored.\n",
      "2019-06-26 12:03:05.776555 - ejR5zKaPZ0g : 100 stored.\n",
      "2019-06-26 12:03:35.622255 - SAdmzjsFVQo : 120 stored.\n",
      "2019-06-26 12:04:04.609317 - BEIwwuQY_Cg : 100 stored.\n",
      "2019-06-26 12:04:34.481758 - i_HzsHss94E : 100 stored.\n",
      "2019-06-26 12:05:04.976370 - arjy2v7zEI0 : 120 stored.\n",
      "2019-06-26 12:05:35.733606 - 4HG_CJzyX6A : 120 stored.\n",
      "2019-06-26 12:06:06.267991 - YBzJ0jmHv-4 : 120 stored.\n",
      "2019-06-26 12:06:36.921359 - GdxvD7r58ng : 120 stored.\n",
      "2019-06-26 12:07:06.562211 - pok5yDw77uM : 100 stored.\n",
      "2019-06-26 12:07:36.201995 - R9VDPMk5ls0 : 100 stored.\n",
      "2019-06-26 12:08:06.522312 - -OfOkiVFmhM : 120 stored.\n",
      "2019-06-26 12:08:35.978161 - AsXxuIdpkWM : 120 stored.\n",
      "2019-06-26 12:09:04.967058 - 2O6dRaBbFoo : 100 stored.\n",
      "2019-06-26 12:09:34.957367 - BcXwZEbOvpo : 100 stored.\n",
      "2019-06-26 12:10:06.047081 - 7GqYSbc1tsM : 120 stored.\n",
      "2019-06-26 12:10:35.611994 - _U3yC1OvLXU : 100 stored.\n",
      "2019-06-26 12:11:03.823824 - 4Njp-J2s5uw : 100 stored.\n",
      "2019-06-26 12:11:34.094038 - yqszm7AnX-4 : 120 stored.\n",
      "2019-06-26 12:12:03.034026 - l3arzUTr848 : 120 stored.\n",
      "2019-06-26 12:12:31.825238 - S4zXetyhuxc : 100 stored.\n",
      "2019-06-26 12:13:00.636070 - VpaUh_BGqE0 : 100 stored.\n",
      "2019-06-26 12:13:29.594629 - LV1Es22E0RI : 100 stored.\n",
      "2019-06-26 12:13:58.831057 - KR5CtMLuiqQ : 100 stored.\n",
      "2019-06-26 12:14:29.099155 - CNeNwplE_aw : 120 stored.\n",
      "2019-06-26 12:14:58.554703 - Fy3zu0WsTLM : 100 stored.\n",
      "2019-06-26 12:15:29.205011 - fIkZOLsnoqY : 120 stored.\n",
      "2019-06-26 12:15:58.217793 - udGwca1HBM4 : 100 stored.\n",
      "2019-06-26 12:16:26.311494 - TNWMZIf7eSg : 100 stored.\n",
      "2019-06-26 12:16:56.007671 - bwmSjveL3Lc : 100 stored.\n",
      "2019-06-26 12:17:24.964980 - dISNgvVpWlo : 100 stored.\n",
      "2019-06-26 12:17:53.650718 - V2hlQkVJZhE : 100 stored.\n",
      "2019-06-26 12:18:22.440608 - rRzxEiBLQCA : 100 stored.\n",
      "2019-06-26 12:18:52.187992 - i0p1bmr0EmE : 100 stored.\n",
      "2019-06-26 12:19:20.684195 - c7rCyll5AeY : 100 stored.\n",
      "2019-06-26 12:19:49.501709 - 0rtV5esQT6I : 100 stored.\n",
      "2019-06-26 12:20:17.295116 - QslJYDX3o8s : 100 stored.\n",
      "2019-06-26 12:20:47.405892 - XGdbaEDVWp0 : 120 stored.\n",
      "2019-06-26 12:21:17.375282 - glXgSSOKlls : 120 stored.\n",
      "2019-06-26 12:21:47.382916 - JFgv8bKfxEs : 100 stored.\n",
      "2019-06-26 12:22:17.905889 - ur0hCdne2-s : 117 stored.\n",
      "2019-06-26 12:22:46.841294 - 9mQk7Evt6Vs : 100 stored.\n",
      "2019-06-26 12:23:17.637139 - zeAtkPZSYBk : 120 stored.\n",
      "2019-06-26 12:23:47.567761 - _uJxJ7tSi1w : 120 stored.\n",
      "2019-06-26 12:24:18.963699 - phXzu7GQAPc : 140 stored.\n",
      "2019-06-26 12:24:48.407363 - r_6q_-d-7Sk : 120 stored.\n",
      "2019-06-26 12:25:18.287256 - 1ZhDsPdvl6c : 120 stored.\n",
      "2019-06-26 12:25:48.158399 - HlN2BXNJzxA : 120 stored.\n",
      "2019-06-26 12:26:17.511503 - LFxjwBfFIiY : 100 stored.\n",
      "2019-06-26 12:26:46.920246 - I66oFXdf0KU : 120 stored.\n",
      "2019-06-26 12:27:15.701762 - ycYLPbtxU1Q : 120 stored.\n",
      "2019-06-26 12:27:40.723450 - UYAnm0_rwa0 : 28 stored.\n",
      "2019-06-26 12:28:10.865259 - R1zx4G3jqp8 : 140 stored.\n",
      "2019-06-26 12:28:39.732919 - sXgWWIalwrs : 109 stored.\n",
      "2019-06-26 12:29:08.739408 - 9_gmjmIqA4M : 120 stored.\n",
      "2019-06-26 12:29:37.742946 - XkDA02FHHik : 100 stored.\n",
      "2019-06-26 12:30:08.084592 - Oo-LPNYc5qo : 120 stored.\n",
      "2019-06-26 12:30:37.993347 - bc08RdvJV1E : 120 stored.\n",
      "2019-06-26 12:31:08.286076 - rVeMvBTd8vQ : 120 stored.\n",
      "2019-06-26 12:31:37.469391 - W-OioNeoB0Q : 140 stored.\n",
      "2019-06-26 12:32:05.834663 - SN_KUZAbxS4 : 100 stored.\n",
      "2019-06-26 12:32:35.056700 - CeT--DbjtQI : 120 stored.\n",
      "2019-06-26 12:33:04.756453 - 6l4divMKp4E : 120 stored.\n",
      "2019-06-26 12:33:33.854666 - uARhhn2uOu0 : 120 stored.\n",
      "2019-06-26 12:34:03.043712 - _z4nJdLz1Hs : 100 stored.\n",
      "2019-06-26 12:34:32.386699 - OcAvfH0jxBw : 120 stored.\n",
      "2019-06-26 12:35:03.902507 - 84R5AS0tfkQ : 119 stored.\n",
      "2019-06-26 12:35:35.262057 - qODWFe6v3zA : 100 stored.\n",
      "2019-06-26 12:36:06.139083 - g-uHc22iIvo : 120 stored.\n",
      "2019-06-26 12:36:35.772009 - qkSRAVzkWC0 : 120 stored.\n",
      "2019-06-26 12:37:03.946507 - 1taLXjVxB4U : 99 stored.\n",
      "2019-06-26 12:37:32.343457 - 1eekOcpx_iQ : 100 stored.\n",
      "2019-06-26 12:38:04.109425 - xGClAPu4eic : 140 stored.\n",
      "2019-06-26 12:38:32.232310 - 0p-O4smRVF4 : 100 stored.\n",
      "2019-06-26 12:39:01.820514 - rczMbtw8sCw : 120 stored.\n",
      "2019-06-26 12:39:32.392802 - G1Ud2IweJzI : 133 stored.\n",
      "2019-06-26 12:40:02.618301 - hztJ97XpSi8 : 120 stored.\n",
      "2019-06-26 12:40:32.466411 - oFvHoyLpCoQ : 120 stored.\n",
      "2019-06-26 12:41:02.377297 - HwJdq4ZhxjE : 140 stored.\n",
      "2019-06-26 12:41:31.769545 - jG5ZJ0_lhtM : 120 stored.\n",
      "2019-06-26 12:42:00.544567 - Ty_3Vyqrlr4 : 100 stored.\n",
      "2019-06-26 12:42:29.243564 - a8t-GsnUHAk : 100 stored.\n",
      "2019-06-26 12:43:01.685158 - uir1R85gJGo : 120 stored.\n",
      "2019-06-26 12:43:31.603112 - U-wDvImWXtA : 100 stored.\n",
      "2019-06-26 12:43:56.469143 - Dm88OyOuNK8 : 19 stored.\n",
      "2019-06-26 12:44:26.602292 - 0Z7kxtyBZUo : 140 stored.\n",
      "2019-06-26 12:44:54.242428 - qUkiC5ZM7YU : 95 stored.\n",
      "2019-06-26 12:45:24.080240 - ORC3tUxn5XI : 140 stored.\n",
      "2019-06-26 12:45:51.348863 - yo3sntDdcwk : 83 stored.\n",
      "2019-06-26 12:46:22.071741 - cHkDZ1ekB9U : 140 stored.\n",
      "2019-06-26 12:46:50.642050 - Frp0lRJEZE0 : 107 stored.\n",
      "2019-06-26 12:47:15.615191 - 5672cZAxRMw : 6 stored.\n",
      "2019-06-26 12:47:40.486251 - 95UaYna70Ck : 6 stored.\n",
      "2019-06-26 12:48:06.685094 - J8b_t4cc5Zg : 40 stored.\n",
      "2019-06-26 12:48:36.774887 - osVg3YhF0QY : 120 stored.\n",
      "2019-06-26 12:49:05.570894 - TnJqGMW4yts : 106 stored.\n",
      "2019-06-26 12:49:35.702185 - RYHj4KqU3Ak : 120 stored.\n",
      "2019-06-26 12:50:05.411252 - kxdEoCDzm-k : 120 stored.\n",
      "2019-06-26 12:50:34.860768 - 8n9wklIG9qU : 120 stored.\n",
      "2019-06-26 12:51:04.405891 - u8v94sKyHOY : 120 stored.\n"
     ]
    },
    {
     "name": "stdout",
     "output_type": "stream",
     "text": [
      "2019-06-26 12:51:34.142215 - JrOrlhjIYVk : 120 stored.\n",
      "2019-06-26 12:52:03.689354 - mRwxB2AW5HA : 120 stored.\n",
      "2019-06-26 12:52:30.016911 - QAXa3zpmoLY : 65 stored.\n",
      "2019-06-26 12:52:58.628354 - Z7bsJf5lPT0 : 100 stored.\n",
      "2019-06-26 12:53:29.098516 - K6gEaJTHN4M : 140 stored.\n",
      "2019-06-26 12:53:59.594770 - Z3W0jKcv1SU : 120 stored.\n",
      "2019-06-26 12:54:29.663619 - l5i8YoFBvO4 : 140 stored.\n",
      "2019-06-26 12:54:58.730775 - 2EVu6tVZUgc : 100 stored.\n",
      "2019-06-26 12:55:29.026677 - EzlGdWpVoRM : 120 stored.\n",
      "2019-06-26 12:55:59.747659 - T7IXKQzmpK4 : 120 stored.\n",
      "2019-06-26 12:56:30.717990 - m7Ct6cR_NS4 : 120 stored.\n",
      "2019-06-26 12:57:01.144823 - ALz4b6x0A70 : 120 stored.\n",
      "2019-06-26 12:57:30.107370 - 4VRrQf_BSxQ : 100 stored.\n",
      "2019-06-26 12:57:55.063981 - HAdw1e728Js : 26 stored.\n",
      "2019-06-26 12:58:24.808799 - GrBu7a4gfX8 : 120 stored.\n",
      "2019-06-26 12:58:52.945141 - 7wANyBLd5VM : 120 stored.\n",
      "2019-06-26 12:59:23.295161 - wYm3hZC1xB0 : 140 stored.\n",
      "2019-06-26 12:59:55.493320 - qTV56N-EaqM : 140 stored.\n",
      "2019-06-26 13:00:26.497268 - tsN-MkpiZB0 : 100 stored.\n",
      "2019-06-26 13:00:55.583742 - J4c2ksykqio : 134 stored.\n",
      "2019-06-26 13:01:21.853715 - Bc5UieSLsJM : 61 stored.\n",
      "2019-06-26 13:01:52.417112 - 5j59M44F0bo : 140 stored.\n",
      "2019-06-26 13:02:22.650032 - bMLVDVjDe3Q : 140 stored.\n",
      "2019-06-26 13:02:51.808816 - Wy6gIJ6cLig : 120 stored.\n"
     ]
    }
   ],
   "source": [
    "# save comments to database\n",
    "for url in urls:\n",
    "    get_comments(browser, db, url)"
   ]
  },
  {
   "cell_type": "markdown",
   "metadata": {},
   "source": [
    "#### Get number of views"
   ]
  },
  {
   "cell_type": "code",
   "execution_count": 4,
   "metadata": {},
   "outputs": [],
   "source": [
    "def get_view_count(browser, url):\n",
    "    \"\"\"Return the view_count and timestamp\"\"\"\n",
    "    browser.get(url)\n",
    "    time.sleep(3)\n",
    "    now = datetime.now()\n",
    "    sel = 'span.view-count'\n",
    "    view_count = browser.find_element_by_css_selector(sel).text\n",
    "\n",
    "    return {\n",
    "        'view_count': int(''.join([n for n in view_count if n.isdigit()])),\n",
    "        'timestamp': now }"
   ]
  },
  {
   "cell_type": "code",
   "execution_count": 70,
   "metadata": {},
   "outputs": [],
   "source": [
    "# Get video list from videos collection\n",
    "coll = db['videos']\n",
    "cur = coll.find({})"
   ]
  },
  {
   "cell_type": "code",
   "execution_count": 71,
   "metadata": {},
   "outputs": [],
   "source": [
    "# Store it to list\n",
    "videos = [video for video in cur]"
   ]
  },
  {
   "cell_type": "code",
   "execution_count": 76,
   "metadata": {},
   "outputs": [
    {
     "data": {
      "text/plain": [
       "{'_id': ObjectId('5d1269888771f921313fed50'),\n",
       " 'video_id': 'oDJ4ct59NC4',\n",
       " 'title': \"SOMI (전소미) - 'BIRTHDAY' M/V\",\n",
       " 'url': 'https://www.youtube.com/watch?v=oDJ4ct59NC4'}"
      ]
     },
     "execution_count": 76,
     "metadata": {},
     "output_type": "execute_result"
    }
   ],
   "source": [
    "videos[0]"
   ]
  },
  {
   "cell_type": "code",
   "execution_count": 78,
   "metadata": {},
   "outputs": [],
   "source": [
    "random.shuffle(videos) "
   ]
  },
  {
   "cell_type": "code",
   "execution_count": 79,
   "metadata": {},
   "outputs": [
    {
     "data": {
      "text/plain": [
       "{'_id': ObjectId('5d1285238771f921313fee5d'),\n",
       " 'video_id': 'itBh9J6RlXM',\n",
       " 'title': 'Musik-A Kpop Contest 2019 | Pink Bullets | Whistle - Blackpink',\n",
       " 'url': 'https://www.youtube.com/watch?v=itBh9J6RlXM'}"
      ]
     },
     "execution_count": 79,
     "metadata": {},
     "output_type": "execute_result"
    }
   ],
   "source": [
    "videos[0]"
   ]
  },
  {
   "cell_type": "code",
   "execution_count": 6,
   "metadata": {
    "scrolled": true
   },
   "outputs": [
    {
     "name": "stdout",
     "output_type": "stream",
     "text": [
      "Audiofreq - Rewind (Official Video) 7664\n",
      "Ully Moch & Ifan Seventeen - HUN (Official Music Video NAGASWARA) #music 327731\n",
      "OLD TOWN ROAD Kids Dance Music Video 42069\n",
      "Ayu Ting Ting x Keremcem - Apalah Cinta (Official Music Video) 7368888\n",
      "Squeeze by Fille ft Voltage Music (Official Video) 11617\n",
      "DAVIS - Alright (Official Music Video) 775\n",
      "MC Klinton - SHQIPE TRAPKING prod.OGRruga (Official Video HD) 6563\n",
      "Hez Hazmi - Biar Aku Pergi (Official Music Video) 92296\n",
      "VRKINGS - SNAKEBITE FT. HONEY CRUX | BHAGUMIA | OFFICIAL MUSIC VIDEO | LATEST HINDI RAP | 2019 942\n",
      "Hard Driver - Young Birds (Official Video) 52255\n",
      "Julz West - On My Own (Dance Music Video) 253\n",
      "Sule & Baby Shima - Terpisah Jarak Dan Waktu (Official Music Video NAGASWARA) #music 1613066\n",
      "ALBUM SONIYA VE Official || ADITYA SINGH || Music Video Song || 2019 album 2219\n",
      "Agung Pradanta - Kuat Ati ( Official Music Video ) 3752\n",
      "BANNED KPOP Music Videos for Stupid Reasons 503555\n",
      "MOUSTO CAMARA | Syli De Guinée | 🇬🇳Official Video 2019 | By Dj.IKK 301\n",
      "TIRANKE SIDIME | Syli De Guinée | 🇬🇳Official Video 2019 | By Dj IKK 2800\n",
      "GODDYS - AMBROSIA (OFFICIAL MUSIC VIDEO) - 2019 - 4K 1102\n",
      "Remi Moore - Greater Things (Official Music Video) 369\n",
      "#065 - AEPHANEMER - Bloodline (OFFICIAL MUSIC VIDEO) | Reaction 16\n",
      "Audiofreq - Rewind (Official Video) 7668\n",
      "Ully Moch & Ifan Seventeen - HUN (Official Music Video NAGASWARA) #music 327731\n",
      "OLD TOWN ROAD Kids Dance Music Video 42069\n",
      "Ayu Ting Ting x Keremcem - Apalah Cinta (Official Music Video) 7369016\n",
      "Squeeze by Fille ft Voltage Music (Official Video) 11617\n",
      "DAVIS - Alright (Official Music Video) 775\n",
      "MC Klinton - SHQIPE TRAPKING prod.OGRruga (Official Video HD) 6563\n",
      "Hez Hazmi - Biar Aku Pergi (Official Music Video) 92296\n",
      "VRKINGS - SNAKEBITE FT. HONEY CRUX | BHAGUMIA | OFFICIAL MUSIC VIDEO | LATEST HINDI RAP | 2019 942\n",
      "Hard Driver - Young Birds (Official Video) 52281\n",
      "ALBUM SONIYA VE Official || ADITYA SINGH || Music Video Song || 2019 album 2219\n",
      "Julz West - On My Own (Dance Music Video) 253\n",
      "Sule & Baby Shima - Terpisah Jarak Dan Waktu (Official Music Video NAGASWARA) #music 1613066\n",
      "Agung Pradanta - Kuat Ati ( Official Music Video ) 3752\n",
      "BANNED KPOP Music Videos for Stupid Reasons 503555\n",
      "MOUSTO CAMARA | Syli De Guinée | 🇬🇳Official Video 2019 | By Dj.IKK 301\n",
      "TIRANKE SIDIME | Syli De Guinée | 🇬🇳Official Video 2019 | By Dj IKK 2800\n",
      "GODDYS - AMBROSIA (OFFICIAL MUSIC VIDEO) - 2019 - 4K 1102\n",
      "Lil Nas X - Old Town Road (Lyrics) ft. Billy Ray Cyrus 2164049\n",
      "#065 - AEPHANEMER - Bloodline (OFFICIAL MUSIC VIDEO) | Reaction 16\n",
      "YAMA SEGA | Bonbon Sucré | 🇬🇳Official Video 2019 | By Dj IKK 23684\n",
      "Polo G - Lost Files (Music Video) 33\n",
      "SOLEO - Całowałaś Przytulałaś ☆ OFFICIAL VIDEO ☆ 86653\n",
      "Remi Moore - Greater Things (Official Music Video) 369\n",
      "AUGER - When We Are Apart (Official Video) 3064\n",
      "Scotti - Ijs (Official Music Video) 168\n",
      "CAESARIA - Floating Heads [Official Music Video] 1210\n",
      "VIBE | Adnan Sheikh | Official Music Video | 4K 5943\n",
      "Ready or Not (Fortnite Music Video) - 21 Kills 632\n",
      "Syahiba Saufa - Kangen Mantan (Official Music Video) 4914\n",
      "Madonna - God Control (Music Video) Trailer 194\n",
      "Wizkid Ft. Lil Wayne - Level Up (Official Music Video) 3480\n",
      "Celebs share behind-the-scenes photos from Taylor Swift's music video shoot l GMA 18305\n",
      "Hopeless (Niggas) (Official Music Video) 57\n",
      "Wizkid - Joro ft. Koffee (Official Music Video) 17941\n",
      "Reality Is Cold - Music Video ( Production by Mort Shybur ) 16389\n",
      "The Game Episode 7 (Rap Battle) Latest music video 2019 71\n",
      "Shawn Mendes, Camila Cabello - Señorita (Lyrics) Letra 1136225\n",
      "Drake - Omertà [ Music Video] 2019 935\n",
      "MUSIC VIDEO - I LIVE BY MY OWN ( MAKE IT BETTER ) - ORIGINAL SONG By ADRIAN NOVICKÝ 268\n"
     ]
    }
   ],
   "source": [
    "# Collect number of views\n",
    "while True:\n",
    "    coll = db['view_count']\n",
    "    for video in videos:\n",
    "        print(video['title'])\n",
    "        count = get_view_count(browser, video['url'])\n",
    "        coll.insert_one({\n",
    "            'title': video['title'],\n",
    "            'view_count': count['view_count'],\n",
    "            'timestamp': count['timestamp']\n",
    "        })\n",
    "    time.sleep(600)\n"
   ]
  },
  {
   "cell_type": "code",
   "execution_count": null,
   "metadata": {},
   "outputs": [],
   "source": [
    "browser.close()"
   ]
  }
 ],
 "metadata": {
  "kernelspec": {
   "display_name": "Python 3",
   "language": "python",
   "name": "python3"
  },
  "language_info": {
   "codemirror_mode": {
    "name": "ipython",
    "version": 3
   },
   "file_extension": ".py",
   "mimetype": "text/x-python",
   "name": "python",
   "nbconvert_exporter": "python",
   "pygments_lexer": "ipython3",
   "version": "3.7.3"
  }
 },
 "nbformat": 4,
 "nbformat_minor": 2
}
