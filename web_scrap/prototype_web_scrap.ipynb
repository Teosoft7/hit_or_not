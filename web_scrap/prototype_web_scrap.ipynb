{
 "cells": [
  {
   "cell_type": "markdown",
   "metadata": {},
   "source": [
    "## Collect the data from Youtube\n",
    "\n",
    "### Scrap music video list & number of views\n",
    "\n",
    "With selenium and firefox,\n",
    " * Scrap kpop music videos on youtube\n",
    " * Scrap # of views for certain video"
   ]
  },
  {
   "cell_type": "markdown",
   "metadata": {},
   "source": [
    "#### import prerequisites"
   ]
  },
  {
   "cell_type": "code",
   "execution_count": 1,
   "metadata": {},
   "outputs": [],
   "source": [
    "from selenium.webdriver import Firefox\n",
    "from pymongo import MongoClient \n",
    "from datetime import datetime\n",
    "\n",
    "import pandas as pd\n",
    "import random\n",
    "import time\n",
    "import os"
   ]
  },
  {
   "cell_type": "markdown",
   "metadata": {},
   "source": [
    "#### connect to mongodb set up on the cloud\n",
    "\n",
    "with SSH tunnel through 47017 port"
   ]
  },
  {
   "cell_type": "code",
   "execution_count": 2,
   "metadata": {},
   "outputs": [],
   "source": [
    "connection = MongoClient(port=47017)\n",
    "db = connection['youtube_scrap']"
   ]
  },
  {
   "cell_type": "code",
   "execution_count": 3,
   "metadata": {},
   "outputs": [],
   "source": [
    "# Initialize browser\n",
    "browser = Firefox()"
   ]
  },
  {
   "cell_type": "markdown",
   "metadata": {},
   "source": [
    "#### Collect video list"
   ]
  },
  {
   "cell_type": "code",
   "execution_count": 13,
   "metadata": {},
   "outputs": [],
   "source": [
    "def collect_videos(browser, db):    \n",
    "    \"\"\"Collect video list from youtube and save to videos collection\"\"\"\n",
    "    url = 'https://www.youtube.com/results?search_query=kpop+music+video&sp=CAMSBggEEAEYAQ%253D%253D'\n",
    "    browser.get(url)\n",
    "    time.sleep(2)\n",
    "\n",
    "    for _ in range(10):\n",
    "        browser.execute_script(\"window.scrollTo(0, window.scrollY + 200000)\")\n",
    "        time.sleep(3)\n",
    "\n",
    "    # Get video title & URL\n",
    "    videolinks = browser.find_elements_by_id('video-title')\n",
    "    videos = [(link.text, link.get_attribute('href')) for link in videolinks]\n",
    "    \n",
    "    # Store to 'videos' collection\n",
    "    i = 0\n",
    "    coll = db['videos']\n",
    "    for title, url in videos:\n",
    "        i +=1\n",
    "        video_id = url.split('=')[-1]\n",
    "        coll.insert_one({\n",
    "            'video_id': video_id,\n",
    "            'title': title,\n",
    "            'url': url\n",
    "        })\n",
    "\n",
    "    print(f'{i} videos were collected.')\n",
    "    "
   ]
  },
  {
   "cell_type": "code",
   "execution_count": 4,
   "metadata": {},
   "outputs": [],
   "source": [
    "df = pd.read_csv('./video_list_0627.txt', header=None)\n",
    "df.columns=['URL']"
   ]
  },
  {
   "cell_type": "code",
   "execution_count": 5,
   "metadata": {},
   "outputs": [
    {
     "data": {
      "text/plain": [
       "90"
      ]
     },
     "execution_count": 5,
     "metadata": {},
     "output_type": "execute_result"
    }
   ],
   "source": [
    "urls = df['URL'].unique()\n",
    "len(urls)"
   ]
  },
  {
   "cell_type": "code",
   "execution_count": 6,
   "metadata": {},
   "outputs": [],
   "source": [
    "def collect_video_detail(browser, db, urls, start_point=0):    \n",
    "    \"\"\"Collect video detail from youtube and save to videos collection\"\"\"    \n",
    "\n",
    "    i = 0\n",
    "    for url in urls:\n",
    "        if (i < start_point):\n",
    "            i+=1\n",
    "            continue\n",
    "            \n",
    "        browser.get(url)\n",
    "        time.sleep(2)\n",
    "\n",
    "        browser.execute_script(\"window.scrollTo(0, window.scrollY + 720)\")\n",
    "        time.sleep(2)\n",
    "\n",
    "        title = browser.find_element_by_css_selector('h1.title').text\n",
    "        published = browser.find_element_by_css_selector('span.date').text\n",
    "\n",
    "        video_id = url.split('=')[-1]\n",
    "        \n",
    "        coll = db['video_detail']\n",
    "        coll.insert_one({\n",
    "            'video_id': video_id,\n",
    "            'published': published,\n",
    "            'title': title,\n",
    "            'url': url\n",
    "        })\n",
    "        \n",
    "        print(f'{datetime.now()} {i} - {title} has been processed.')\n",
    "        i += 1\n"
   ]
  },
  {
   "cell_type": "code",
   "execution_count": 7,
   "metadata": {},
   "outputs": [
    {
     "name": "stdout",
     "output_type": "stream",
     "text": [
      "2019-06-27 11:14:53.588305 0 - IZ*ONE (아이즈원) - 라비앙로즈 (La Vie en Rose) MV has been processed.\n",
      "2019-06-27 11:14:59.833460 1 - 헤이즈 (Heize) - SHE'S FINE MV has been processed.\n",
      "2019-06-27 11:15:05.852989 2 - VAV - 'THRILLA KILLA' Music Video has been processed.\n",
      "2019-06-27 11:15:11.929031 3 - [MV] 이기광(LEE GIKWANG) - Don't Close Your Eyes (D.C.Y.E) (Feat. Kid Milli) has been processed.\n",
      "2019-06-27 11:15:17.802685 4 - [MV] Gummy(거미) _ Alone(혼자) has been processed.\n",
      "2019-06-27 11:15:23.579124 5 - Yerin Baek \"Maybe It's Not Our Fault(그건 아마 우리의 잘못은 아닐 거야)\" M/V has been processed.\n",
      "2019-06-27 11:15:29.472796 6 - EVERGLOW (에버글로우) - 봉봉쇼콜라 (Bon Bon Chocolat) MV has been processed.\n",
      "2019-06-27 11:15:35.319619 7 - [MV] 415(사이로) _ Take me there has been processed.\n",
      "2019-06-27 11:15:41.123431 8 - 로꼬 (Loco) - 'NOTHING' Official Music Video (ENG/CHN) has been processed.\n",
      "2019-06-27 11:15:47.004082 9 - [MV] 100%(백퍼센트) _ Still Loving You has been processed.\n",
      "2019-06-27 11:15:53.193569 10 - [MV] MAMAMOO(마마무) _ gogobebe(고고베베) has been processed.\n",
      "2019-06-27 11:15:59.120163 11 - [STATION 3] YERI 예리 '스물에게 (Dear Diary)' MV has been processed.\n",
      "2019-06-27 11:16:04.931349 12 - [MV] GWSN(공원소녀) _ Pinky Star (RUN) has been processed.\n",
      "2019-06-27 11:16:10.979874 13 - [M/V] Park Bom(박봄) - Spring(봄) (feat. sandara park(산다라박)) has been processed.\n",
      "2019-06-27 11:16:16.949264 14 - [MV] DreamNote(드림노트) _ Hakuna matata(하쿠나 마타타) has been processed.\n",
      "2019-06-27 11:16:22.978597 15 - 우원재 (Woo) - '호불호 (Feat. 기리보이) (Prod. By GRAY)' Official Music Video (ENG/CHN) has been processed.\n",
      "2019-06-27 11:16:28.821625 16 - 우석X관린(WOOSEOKXKUANLIN) - '별짓(I'M A STAR)' Official Music Video has been processed.\n",
      "2019-06-27 11:16:35.069003 17 - EPIK HIGH (에픽하이) - 술이 달다 (LOVEDRUNK) ft. CRUSH [Official MV] has been processed.\n",
      "2019-06-27 11:16:40.958862 18 - [MV] HONG JINYOUNG(홍진영) _ Love Tonight(오늘 밤에) has been processed.\n",
      "2019-06-27 11:16:46.786586 19 - [MV] ROCOBERRY(로코베리), DOYOUNG(도영) _ Don’t say goodbye(헤어지지말아요, 우리) has been processed.\n",
      "2019-06-27 11:16:52.696808 20 - [MV] Kim MinSeok(김민석) _ Spring Comes(봄이 오는 날에) has been processed.\n",
      "2019-06-27 11:16:58.865244 21 - R.Tee x Anda - '뭘 기다리고 있어(What You Waiting For)' M/V has been processed.\n",
      "2019-06-27 11:17:04.758424 22 - [M/V] S.I.S(에스아이에스) - Always Be Your Girl(너의 소녀가 되어줄게) has been processed.\n",
      "2019-06-27 11:17:10.788449 23 - [M/V] 열혈남아 (HBY) - 지구뿌셔 (BBANG) has been processed.\n",
      "2019-06-27 11:17:16.485647 24 - 라비(RAVI) - 'TUXEDO' Official M/V has been processed.\n",
      "2019-06-27 11:17:22.246595 25 - [M/V] DALsooobin(달수빈) - Katchup has been processed.\n",
      "2019-06-27 11:17:27.969273 26 - [MV] DALsooobin(달수빈)-Katchup(케첩) has been processed.\n",
      "2019-06-27 11:17:34.544978 27 - 지숙 JISOOK - 널 보내주러 가는 길 Big Dipper Official M/V has been processed.\n",
      "2019-06-27 11:17:46.056447 28 - TXT (투모로우바이투게더) '어느날 머리에서 뿔이 자랐다 (CROWN)' Official MV has been processed.\n",
      "2019-06-27 11:17:58.118932 29 - 장동우(Jang Dong Woo) “News” Official MV has been processed.\n",
      "2019-06-27 11:18:04.245438 30 - 장동우(Jang Dong Woo) “Party Girl” Official MV has been processed.\n",
      "2019-06-27 11:18:10.243688 31 - [MV] SUNMI(선미) _ 누아르(Noir) has been processed.\n",
      "2019-06-27 11:18:16.164791 32 - KEY 키 'I Wanna Be (Feat. 소연 of (여자)아이들)' MV has been processed.\n",
      "2019-06-27 11:18:21.952963 33 - Jus2 \"FOCUS ON ME\" M/V has been processed.\n",
      "2019-06-27 11:18:28.210903 34 - [M/V] 하성운 (HA SUNG WOON) - BIRD has been processed.\n",
      "2019-06-27 11:18:34.612289 35 - [MV] Kwon Jin Ah(권진아) _ Tell me about your day(오늘 뭐 했는지 말해봐) has been processed.\n",
      "2019-06-27 11:18:40.431265 36 - 홍주찬(Hong Joo Chan) “문제아” Official MV has been processed.\n",
      "2019-06-27 11:18:46.524320 37 - [MV] PARK YU CHUN(박유천) _ Slow dance has been processed.\n",
      "2019-06-27 11:18:52.318847 38 - ((G)I-DLE) - 'Senorita' Official Music Video has been processed.\n",
      "2019-06-27 11:18:58.112668 39 - 나인뮤지스[9MUSES] _ 'Remember' Special Gift has been processed.\n",
      "2019-06-27 11:19:04.080280 40 - [MV] HYOMIN(효민) _ Allure(입꼬리) has been processed.\n",
      "2019-06-27 11:19:10.052454 41 - SF9 – 예뻐지지 마 (Enough) Music Video has been processed.\n",
      "2019-06-27 11:19:18.712488 42 - [MV] 이달의 소녀 (LOONA) \"Butterfly\" has been processed.\n",
      "2019-06-27 11:19:24.700021 43 - TREI(트레이) - 멀어져(Gravity) Music Video has been processed.\n",
      "2019-06-27 11:19:30.579136 44 - 2PM NICHKHUN (닉쿤) \"Lucky Charm\" M/V has been processed.\n",
      "2019-06-27 11:19:36.571561 45 - [MV] MONSTA X(몬스타엑스) _ Alligator has been processed.\n",
      "2019-06-27 11:19:42.344803 46 - 인피니트(INFINITE) “CLOCK” Official MV has been processed.\n",
      "2019-06-27 11:19:48.550400 47 - [MV] 화사(HWASA) - 멍청이(TWIT) has been processed.\n",
      "2019-06-27 11:19:55.087680 48 - Dreamcatcher (드림캐쳐) 'PIRI' (피리) MV has been processed.\n",
      "2019-06-27 11:20:01.538494 49 - [MV] SATURDAY(세러데이) _ WiFi(와이파이) has been processed.\n",
      "2019-06-27 11:20:07.670590 50 - [MV] 일급비밀 (TST) _ WAKE UP has been processed.\n",
      "2019-06-27 11:20:14.035610 51 - TAEMIN 태민 'WANT' MV has been processed.\n",
      "2019-06-27 11:20:20.052757 52 - 지숙 JISOOK - 그날 그 별 The way we were Official M/V has been processed.\n",
      "2019-06-27 11:20:26.313358 53 - ITZY \"달라달라(DALLA DALLA)\" M/V has been processed.\n",
      "2019-06-27 11:20:32.140527 54 - 로꼬 (Loco) - '오랜만이야 (Feat. Zion.T)' Official Music Video (ENG/CHN) has been processed.\n",
      "2019-06-27 11:20:38.525405 55 - 빅스(VIXX) - '걷고있다 (WALKING)' Official M/V has been processed.\n",
      "2019-06-27 11:20:45.242042 56 - 펀치넬로 (punchnello) - Winter Blossom (Feat. SAAY) (Prod. by 0channel) Official Music Video (ENG) has been processed.\n",
      "2019-06-27 11:20:53.138647 57 - [MV] AWEEK(어위크) _ THE MORE I SEE(보면 볼수록) has been processed.\n",
      "2019-06-27 11:21:00.300309 58 - CLC(씨엘씨) - 'No' Official Music Video has been processed.\n",
      "2019-06-27 11:21:07.425608 59 - [M/V] NeonPunch(네온펀치) 'TicToc' has been processed.\n",
      "2019-06-27 11:21:13.651254 60 - [MV] 민서 MINSEO - 2cm (Feat. 폴킴 Paul Kim) has been processed.\n",
      "2019-06-27 11:21:19.691579 61 - 노태현 (ROH TAEHYUN) - 1st MINI ALBUM＜biRTHday＞'I Wanna Know' MV has been processed.\n",
      "2019-06-27 11:21:25.786327 62 - 임팩트[IMFACT] _ 'Only U' M/V has been processed.\n",
      "2019-06-27 11:21:35.473337 63 - [M/V] SEVENTEEN(세븐틴) - Home has been processed.\n",
      "2019-06-27 11:21:44.526633 64 - 체리블렛 (Cherry Bullet) – ‘Q&A’ MV has been processed.\n",
      "2019-06-27 11:21:57.791006 65 - [MV] BANG YONGGUK (방용국) - 히키코모리 (HIKIKOMORI) has been processed.\n",
      "2019-06-27 11:22:08.026758 66 - [MV] Hyomin(효민) _ U Um U Um(으음으음) has been processed.\n",
      "2019-06-27 11:22:13.990221 67 - ASTRO 아스트로 - All Night(전화해) M/V has been processed.\n",
      "2019-06-27 11:22:20.264497 68 - [MV] HUTA (LEE MINHYUK)(이민혁) _ YA has been processed.\n",
      "2019-06-27 11:22:26.516664 69 - NATURE (네이처) - 꿈꿨어 (Dream About U) MV has been processed.\n",
      "2019-06-27 11:22:32.537167 70 - ATEEZ(에이티즈) - 'Say My Name' Official MV has been processed.\n",
      "2019-06-27 11:22:38.722981 71 - [MV] CODE KUNST(코드 쿤스트) _ XI (Feat. Lee Hi(이하이)) has been processed.\n",
      "2019-06-27 11:22:44.709697 72 - CODE KUNST - 'XI (Feat. Lee Hi)' Official Music Video has been processed.\n",
      "2019-06-27 11:22:50.624343 73 - [MV] FAVORITE(페이버릿) _ LOCA has been processed.\n",
      "2019-06-27 11:22:56.439232 74 - 여자친구 GFRIEND - 해야 (Sunrise) M/V has been processed.\n",
      "2019-06-27 11:23:02.637413 75 - [STATION 3] 예성 (YESUNG) X 범키 (BUMKEY) 'Carpet' MV has been processed.\n",
      "2019-06-27 11:23:08.628162 76 - [MV] GREYISH(그레이시) _ CANDY(캔디) has been processed.\n",
      "2019-06-27 11:23:14.924796 77 - LUNA 루나 '안녕 이대로 안녕 (BYE BYE)' MV has been processed.\n",
      "2019-06-27 11:23:21.096035 78 - [MV] ONEUS(원어스) _ Valkyrie(발키리) has been processed.\n",
      "2019-06-27 11:23:30.908252 79 - VERIVERY - 불러줘 (Ring Ring Ring) MV has been processed.\n",
      "2019-06-27 11:23:39.686904 80 - [MV] 우주소녀 (WJSN) - La La Love has been processed.\n",
      "2019-06-27 11:23:48.826308 81 - Apink 에이핑크 %%(응응) Music Video Official has been processed.\n",
      "2019-06-27 11:23:58.225809 82 - iKON - 'I'M OK' M/V has been processed.\n",
      "2019-06-27 11:24:10.190212 83 - 임팩트[IMFACT] _ 웅재 Vanilla sky (Prod. D.Tale) has been processed.\n",
      "2019-06-27 11:24:21.875784 84 - 크나큰(KNK) - LONELY NIGHT MV has been processed.\n",
      "2019-06-27 11:24:28.393989 85 - [MV] M.O.N.T(몬트) _ Will you be my girlfriend?(사귈래 말래?) (Original Mix) has been processed.\n",
      "2019-06-27 11:24:38.942844 86 - RYEOWOOK 려욱 '취해 (Drunk in the morning)' MV has been processed.\n",
      "2019-06-27 11:24:49.817686 87 - N.Flying (엔플라잉) - 옥탑방 M/V has been processed.\n",
      "2019-06-27 11:25:02.073056 88 - [MV] M.C the MAX(엠씨더맥스) _ After You’ve Gone(넘쳐흘러) has been processed.\n"
     ]
    },
    {
     "name": "stdout",
     "output_type": "stream",
     "text": [
      "2019-06-27 11:25:29.140290 89 - 청하 (CHUNG HA) - \"벌써 12시 (Gotta Go)\" Music Video has been processed.\n"
     ]
    }
   ],
   "source": [
    "collect_video_detail(browser, db, urls)"
   ]
  },
  {
   "cell_type": "code",
   "execution_count": 43,
   "metadata": {},
   "outputs": [
    {
     "name": "stdout",
     "output_type": "stream",
     "text": [
      "TWICE \"FANCY\" M/V Published on Apr 22, 2019 136641354\n"
     ]
    }
   ],
   "source": [
    "print(title, published, view_count)"
   ]
  },
  {
   "cell_type": "code",
   "execution_count": 45,
   "metadata": {},
   "outputs": [
    {
     "data": {
      "text/plain": [
       "'Real ONCE won’t stop streaming after 100M 😎'"
      ]
     },
     "execution_count": 45,
     "metadata": {},
     "output_type": "execute_result"
    }
   ],
   "source": [
    "browser.find_element_by_id('content-text').text"
   ]
  },
  {
   "cell_type": "code",
   "execution_count": 14,
   "metadata": {},
   "outputs": [
    {
     "name": "stdout",
     "output_type": "stream",
     "text": [
      "217 videos were collected.\n"
     ]
    }
   ],
   "source": [
    "collect_videos(browser, db)"
   ]
  },
  {
   "cell_type": "markdown",
   "metadata": {},
   "source": [
    "#### Get more infomation for video"
   ]
  },
  {
   "cell_type": "code",
   "execution_count": 55,
   "metadata": {},
   "outputs": [],
   "source": [
    "url = 'https://www.youtube.com/watch?v=FIInyEWWW-s'"
   ]
  },
  {
   "cell_type": "code",
   "execution_count": 46,
   "metadata": {},
   "outputs": [],
   "source": [
    "url = 'https://www.youtube.com/watch?v=kZOZ5nJ5lI0'"
   ]
  },
  {
   "cell_type": "code",
   "execution_count": 65,
   "metadata": {},
   "outputs": [],
   "source": [
    "browser.get(url)\n",
    "time.sleep(1)\n",
    "browser.execute_script(\"window.scrollTo(0, window.scrollY + 320)\")\n",
    "time.sleep(2)"
   ]
  },
  {
   "cell_type": "code",
   "execution_count": 66,
   "metadata": {},
   "outputs": [
    {
     "data": {
      "text/plain": [
       "'Published on Jun 10, 2019'"
      ]
     },
     "execution_count": 66,
     "metadata": {},
     "output_type": "execute_result"
    }
   ],
   "source": [
    "# published date\n",
    "browser.find_element_by_css_selector('span.date').text"
   ]
  },
  {
   "cell_type": "code",
   "execution_count": 67,
   "metadata": {},
   "outputs": [
    {
     "data": {
      "text/plain": [
       "'21,467 Comments'"
      ]
     },
     "execution_count": 67,
     "metadata": {},
     "output_type": "execute_result"
    }
   ],
   "source": [
    "# number of comments\n",
    "browser.find_element_by_class_name('count-text').text"
   ]
  },
  {
   "cell_type": "code",
   "execution_count": 68,
   "metadata": {},
   "outputs": [],
   "source": [
    "# number of likes\n",
    "ele = browser.find_element_by_css_selector('ytd-toggle-button-renderer.style-text[is-icon-button] #text.ytd-toggle-button-renderer')"
   ]
  },
  {
   "cell_type": "code",
   "execution_count": 69,
   "metadata": {},
   "outputs": [
    {
     "data": {
      "text/plain": [
       "'290,421 likes'"
      ]
     },
     "execution_count": 69,
     "metadata": {},
     "output_type": "execute_result"
    }
   ],
   "source": [
    "ele.get_attribute('aria-label')"
   ]
  },
  {
   "cell_type": "markdown",
   "metadata": {},
   "source": [
    "#### Get comments for video"
   ]
  },
  {
   "cell_type": "code",
   "execution_count": 81,
   "metadata": {},
   "outputs": [],
   "source": [
    "def get_comments(browser, db, url):\n",
    "    \"\"\"Get comments for video(url), and store it to database\"\"\"\n",
    "    browser.get(url)\n",
    "    time.sleep(2)\n",
    "\n",
    "    for _ in range(20):\n",
    "        browser.execute_script(\"window.scrollTo(0, window.scrollY + 720)\")\n",
    "        time.sleep(1)\n",
    "\n",
    "    comments = browser.find_elements_by_id('content-text')\n",
    "    video_id = url.split('=')[-1]\n",
    "\n",
    "    for comment in comments:\n",
    "        text = comment.text\n",
    "        coll = db['comments']\n",
    "        coll.insert_one({\n",
    "            'video_id': video_id,\n",
    "            'comment': text\n",
    "        })\n",
    "    \n",
    "    print(f'{datetime.now()} - {video_id} : {len(comments)} stored.')"
   ]
  },
  {
   "cell_type": "code",
   "execution_count": 82,
   "metadata": {},
   "outputs": [
    {
     "name": "stdout",
     "output_type": "stream",
     "text": [
      "2019-06-26 11:38:42.617385 - YBnGBb1wg98 : 100 stored.\n",
      "2019-06-26 11:39:12.316967 - 2S24-y0Ij3Y : 100 stored.\n",
      "2019-06-26 11:39:42.390209 - XsX3ATc3FbA : 100 stored.\n",
      "2019-06-26 11:40:11.913858 - 5rPluw_-Eb4 : 104 stored.\n",
      "2019-06-26 11:40:40.368089 - oDJ4ct59NC4 : 100 stored.\n",
      "2019-06-26 11:41:10.322508 - kOHB85vDuow : 100 stored.\n",
      "2019-06-26 11:41:40.044269 - K1scjjbfNsk : 100 stored.\n",
      "2019-06-26 11:42:08.817342 - b73BI9eUkjM : 100 stored.\n",
      "2019-06-26 11:42:38.690764 - pSudEWBAYRE : 100 stored.\n",
      "2019-06-26 11:43:08.195759 - HwT9oKqfUxY : 100 stored.\n",
      "2019-06-26 11:43:37.477980 - GQqyCeKf8rw : 100 stored.\n",
      "2019-06-26 11:44:06.861535 - M46FRJsB0Qw : 100 stored.\n",
      "2019-06-26 11:44:35.454319 - pNfTK39k55U : 100 stored.\n",
      "2019-06-26 11:45:05.516296 - mAKsZ26SabQ : 100 stored.\n",
      "2019-06-26 11:45:34.441049 - ESVsbCkFvG4 : 100 stored.\n",
      "2019-06-26 11:46:05.734792 - Dab4EENTW5I : 120 stored.\n",
      "2019-06-26 11:46:34.632684 - RyVS7R9PN6U : 100 stored.\n",
      "2019-06-26 11:47:03.408192 - Fm5iP0S1z9w : 100 stored.\n",
      "2019-06-26 11:47:33.165893 - F2mbAkat5n8 : 100 stored.\n",
      "2019-06-26 11:48:01.793850 - g9wfhJRyur8 : 100 stored.\n",
      "2019-06-26 11:48:31.329273 - NaKrke1EL1A : 100 stored.\n",
      "2019-06-26 11:49:00.391362 - 6tl-MG38-0E : 100 stored.\n",
      "2019-06-26 11:49:29.140686 - iwd8N6K-sLk : 100 stored.\n",
      "2019-06-26 11:50:00.182492 - Oao3j2hUVvE : 120 stored.\n",
      "2019-06-26 11:50:29.439067 - 6eEZ7DJMzuk : 100 stored.\n",
      "2019-06-26 11:50:54.226403 - W3iSnJ663II : 6 stored.\n",
      "2019-06-26 11:51:18.426266 - E-T1gEeUqwA : 5 stored.\n",
      "2019-06-26 11:51:43.144137 - x95oZNxW5Rc : 7 stored.\n",
      "2019-06-26 11:52:07.787377 - v2AT7oSGZbQ : 5 stored.\n",
      "2019-06-26 11:52:32.648699 - L15ZZX9n56M : 8 stored.\n",
      "2019-06-26 11:52:56.896484 - FIInyEWWW-s : 6 stored.\n",
      "2019-06-26 11:53:21.939755 - Btkjr6UNb50 : 8 stored.\n",
      "2019-06-26 11:53:46.806404 - DESdksesLNM : 7 stored.\n",
      "2019-06-26 11:54:11.064717 - nM0xDI5R50E : 6 stored.\n",
      "2019-06-26 11:54:41.168941 - HvGql8HwOIM : 100 stored.\n",
      "2019-06-26 11:55:11.200256 - sYUlykDe4as : 100 stored.\n",
      "2019-06-26 11:55:41.405487 - ScSn235gQx0 : 120 stored.\n",
      "2019-06-26 11:56:11.624758 - Pm0_G8Zl0ek : 100 stored.\n",
      "2019-06-26 11:56:42.370330 - G8APgeFfkAk : 100 stored.\n",
      "2019-06-26 11:57:11.383261 - LXOJk2PFKgY : 100 stored.\n",
      "2019-06-26 11:57:40.295305 - G5UM2rOyqr4 : 100 stored.\n",
      "2019-06-26 11:58:10.513218 - OKNXn2qCEws : 100 stored.\n",
      "2019-06-26 11:58:39.124572 - IWJUPY-2EIM : 100 stored.\n",
      "2019-06-26 11:59:08.392907 - 9RUeTYiJCyA : 100 stored.\n",
      "2019-06-26 11:59:37.303065 - SdzLl-XpJt0 : 100 stored.\n",
      "2019-06-26 12:00:07.045369 - uTiIZBFpfok : 100 stored.\n",
      "2019-06-26 12:00:37.281978 - aiHSVQy9xN8 : 120 stored.\n",
      "2019-06-26 12:01:07.058230 - RMJFEvHvmD0 : 100 stored.\n",
      "2019-06-26 12:01:35.938167 - zsRyyLtcXho : 100 stored.\n",
      "2019-06-26 12:02:06.152977 - kXAvbHPdTZ0 : 100 stored.\n",
      "2019-06-26 12:02:35.921515 - o_SYttJm0SE : 100 stored.\n",
      "2019-06-26 12:03:05.776555 - ejR5zKaPZ0g : 100 stored.\n",
      "2019-06-26 12:03:35.622255 - SAdmzjsFVQo : 120 stored.\n",
      "2019-06-26 12:04:04.609317 - BEIwwuQY_Cg : 100 stored.\n",
      "2019-06-26 12:04:34.481758 - i_HzsHss94E : 100 stored.\n",
      "2019-06-26 12:05:04.976370 - arjy2v7zEI0 : 120 stored.\n",
      "2019-06-26 12:05:35.733606 - 4HG_CJzyX6A : 120 stored.\n",
      "2019-06-26 12:06:06.267991 - YBzJ0jmHv-4 : 120 stored.\n",
      "2019-06-26 12:06:36.921359 - GdxvD7r58ng : 120 stored.\n",
      "2019-06-26 12:07:06.562211 - pok5yDw77uM : 100 stored.\n",
      "2019-06-26 12:07:36.201995 - R9VDPMk5ls0 : 100 stored.\n",
      "2019-06-26 12:08:06.522312 - -OfOkiVFmhM : 120 stored.\n",
      "2019-06-26 12:08:35.978161 - AsXxuIdpkWM : 120 stored.\n",
      "2019-06-26 12:09:04.967058 - 2O6dRaBbFoo : 100 stored.\n",
      "2019-06-26 12:09:34.957367 - BcXwZEbOvpo : 100 stored.\n",
      "2019-06-26 12:10:06.047081 - 7GqYSbc1tsM : 120 stored.\n",
      "2019-06-26 12:10:35.611994 - _U3yC1OvLXU : 100 stored.\n",
      "2019-06-26 12:11:03.823824 - 4Njp-J2s5uw : 100 stored.\n",
      "2019-06-26 12:11:34.094038 - yqszm7AnX-4 : 120 stored.\n",
      "2019-06-26 12:12:03.034026 - l3arzUTr848 : 120 stored.\n",
      "2019-06-26 12:12:31.825238 - S4zXetyhuxc : 100 stored.\n",
      "2019-06-26 12:13:00.636070 - VpaUh_BGqE0 : 100 stored.\n",
      "2019-06-26 12:13:29.594629 - LV1Es22E0RI : 100 stored.\n",
      "2019-06-26 12:13:58.831057 - KR5CtMLuiqQ : 100 stored.\n",
      "2019-06-26 12:14:29.099155 - CNeNwplE_aw : 120 stored.\n",
      "2019-06-26 12:14:58.554703 - Fy3zu0WsTLM : 100 stored.\n",
      "2019-06-26 12:15:29.205011 - fIkZOLsnoqY : 120 stored.\n",
      "2019-06-26 12:15:58.217793 - udGwca1HBM4 : 100 stored.\n",
      "2019-06-26 12:16:26.311494 - TNWMZIf7eSg : 100 stored.\n",
      "2019-06-26 12:16:56.007671 - bwmSjveL3Lc : 100 stored.\n",
      "2019-06-26 12:17:24.964980 - dISNgvVpWlo : 100 stored.\n",
      "2019-06-26 12:17:53.650718 - V2hlQkVJZhE : 100 stored.\n",
      "2019-06-26 12:18:22.440608 - rRzxEiBLQCA : 100 stored.\n",
      "2019-06-26 12:18:52.187992 - i0p1bmr0EmE : 100 stored.\n",
      "2019-06-26 12:19:20.684195 - c7rCyll5AeY : 100 stored.\n",
      "2019-06-26 12:19:49.501709 - 0rtV5esQT6I : 100 stored.\n",
      "2019-06-26 12:20:17.295116 - QslJYDX3o8s : 100 stored.\n",
      "2019-06-26 12:20:47.405892 - XGdbaEDVWp0 : 120 stored.\n",
      "2019-06-26 12:21:17.375282 - glXgSSOKlls : 120 stored.\n",
      "2019-06-26 12:21:47.382916 - JFgv8bKfxEs : 100 stored.\n",
      "2019-06-26 12:22:17.905889 - ur0hCdne2-s : 117 stored.\n",
      "2019-06-26 12:22:46.841294 - 9mQk7Evt6Vs : 100 stored.\n",
      "2019-06-26 12:23:17.637139 - zeAtkPZSYBk : 120 stored.\n",
      "2019-06-26 12:23:47.567761 - _uJxJ7tSi1w : 120 stored.\n",
      "2019-06-26 12:24:18.963699 - phXzu7GQAPc : 140 stored.\n",
      "2019-06-26 12:24:48.407363 - r_6q_-d-7Sk : 120 stored.\n",
      "2019-06-26 12:25:18.287256 - 1ZhDsPdvl6c : 120 stored.\n",
      "2019-06-26 12:25:48.158399 - HlN2BXNJzxA : 120 stored.\n",
      "2019-06-26 12:26:17.511503 - LFxjwBfFIiY : 100 stored.\n",
      "2019-06-26 12:26:46.920246 - I66oFXdf0KU : 120 stored.\n",
      "2019-06-26 12:27:15.701762 - ycYLPbtxU1Q : 120 stored.\n",
      "2019-06-26 12:27:40.723450 - UYAnm0_rwa0 : 28 stored.\n",
      "2019-06-26 12:28:10.865259 - R1zx4G3jqp8 : 140 stored.\n",
      "2019-06-26 12:28:39.732919 - sXgWWIalwrs : 109 stored.\n",
      "2019-06-26 12:29:08.739408 - 9_gmjmIqA4M : 120 stored.\n",
      "2019-06-26 12:29:37.742946 - XkDA02FHHik : 100 stored.\n",
      "2019-06-26 12:30:08.084592 - Oo-LPNYc5qo : 120 stored.\n",
      "2019-06-26 12:30:37.993347 - bc08RdvJV1E : 120 stored.\n",
      "2019-06-26 12:31:08.286076 - rVeMvBTd8vQ : 120 stored.\n",
      "2019-06-26 12:31:37.469391 - W-OioNeoB0Q : 140 stored.\n",
      "2019-06-26 12:32:05.834663 - SN_KUZAbxS4 : 100 stored.\n",
      "2019-06-26 12:32:35.056700 - CeT--DbjtQI : 120 stored.\n",
      "2019-06-26 12:33:04.756453 - 6l4divMKp4E : 120 stored.\n",
      "2019-06-26 12:33:33.854666 - uARhhn2uOu0 : 120 stored.\n",
      "2019-06-26 12:34:03.043712 - _z4nJdLz1Hs : 100 stored.\n",
      "2019-06-26 12:34:32.386699 - OcAvfH0jxBw : 120 stored.\n",
      "2019-06-26 12:35:03.902507 - 84R5AS0tfkQ : 119 stored.\n",
      "2019-06-26 12:35:35.262057 - qODWFe6v3zA : 100 stored.\n",
      "2019-06-26 12:36:06.139083 - g-uHc22iIvo : 120 stored.\n",
      "2019-06-26 12:36:35.772009 - qkSRAVzkWC0 : 120 stored.\n",
      "2019-06-26 12:37:03.946507 - 1taLXjVxB4U : 99 stored.\n",
      "2019-06-26 12:37:32.343457 - 1eekOcpx_iQ : 100 stored.\n",
      "2019-06-26 12:38:04.109425 - xGClAPu4eic : 140 stored.\n",
      "2019-06-26 12:38:32.232310 - 0p-O4smRVF4 : 100 stored.\n",
      "2019-06-26 12:39:01.820514 - rczMbtw8sCw : 120 stored.\n",
      "2019-06-26 12:39:32.392802 - G1Ud2IweJzI : 133 stored.\n",
      "2019-06-26 12:40:02.618301 - hztJ97XpSi8 : 120 stored.\n",
      "2019-06-26 12:40:32.466411 - oFvHoyLpCoQ : 120 stored.\n",
      "2019-06-26 12:41:02.377297 - HwJdq4ZhxjE : 140 stored.\n",
      "2019-06-26 12:41:31.769545 - jG5ZJ0_lhtM : 120 stored.\n",
      "2019-06-26 12:42:00.544567 - Ty_3Vyqrlr4 : 100 stored.\n",
      "2019-06-26 12:42:29.243564 - a8t-GsnUHAk : 100 stored.\n",
      "2019-06-26 12:43:01.685158 - uir1R85gJGo : 120 stored.\n",
      "2019-06-26 12:43:31.603112 - U-wDvImWXtA : 100 stored.\n",
      "2019-06-26 12:43:56.469143 - Dm88OyOuNK8 : 19 stored.\n",
      "2019-06-26 12:44:26.602292 - 0Z7kxtyBZUo : 140 stored.\n",
      "2019-06-26 12:44:54.242428 - qUkiC5ZM7YU : 95 stored.\n",
      "2019-06-26 12:45:24.080240 - ORC3tUxn5XI : 140 stored.\n",
      "2019-06-26 12:45:51.348863 - yo3sntDdcwk : 83 stored.\n",
      "2019-06-26 12:46:22.071741 - cHkDZ1ekB9U : 140 stored.\n",
      "2019-06-26 12:46:50.642050 - Frp0lRJEZE0 : 107 stored.\n",
      "2019-06-26 12:47:15.615191 - 5672cZAxRMw : 6 stored.\n",
      "2019-06-26 12:47:40.486251 - 95UaYna70Ck : 6 stored.\n",
      "2019-06-26 12:48:06.685094 - J8b_t4cc5Zg : 40 stored.\n",
      "2019-06-26 12:48:36.774887 - osVg3YhF0QY : 120 stored.\n",
      "2019-06-26 12:49:05.570894 - TnJqGMW4yts : 106 stored.\n",
      "2019-06-26 12:49:35.702185 - RYHj4KqU3Ak : 120 stored.\n",
      "2019-06-26 12:50:05.411252 - kxdEoCDzm-k : 120 stored.\n",
      "2019-06-26 12:50:34.860768 - 8n9wklIG9qU : 120 stored.\n",
      "2019-06-26 12:51:04.405891 - u8v94sKyHOY : 120 stored.\n"
     ]
    },
    {
     "name": "stdout",
     "output_type": "stream",
     "text": [
      "2019-06-26 12:51:34.142215 - JrOrlhjIYVk : 120 stored.\n",
      "2019-06-26 12:52:03.689354 - mRwxB2AW5HA : 120 stored.\n",
      "2019-06-26 12:52:30.016911 - QAXa3zpmoLY : 65 stored.\n",
      "2019-06-26 12:52:58.628354 - Z7bsJf5lPT0 : 100 stored.\n",
      "2019-06-26 12:53:29.098516 - K6gEaJTHN4M : 140 stored.\n",
      "2019-06-26 12:53:59.594770 - Z3W0jKcv1SU : 120 stored.\n",
      "2019-06-26 12:54:29.663619 - l5i8YoFBvO4 : 140 stored.\n",
      "2019-06-26 12:54:58.730775 - 2EVu6tVZUgc : 100 stored.\n",
      "2019-06-26 12:55:29.026677 - EzlGdWpVoRM : 120 stored.\n",
      "2019-06-26 12:55:59.747659 - T7IXKQzmpK4 : 120 stored.\n",
      "2019-06-26 12:56:30.717990 - m7Ct6cR_NS4 : 120 stored.\n",
      "2019-06-26 12:57:01.144823 - ALz4b6x0A70 : 120 stored.\n",
      "2019-06-26 12:57:30.107370 - 4VRrQf_BSxQ : 100 stored.\n",
      "2019-06-26 12:57:55.063981 - HAdw1e728Js : 26 stored.\n",
      "2019-06-26 12:58:24.808799 - GrBu7a4gfX8 : 120 stored.\n",
      "2019-06-26 12:58:52.945141 - 7wANyBLd5VM : 120 stored.\n",
      "2019-06-26 12:59:23.295161 - wYm3hZC1xB0 : 140 stored.\n",
      "2019-06-26 12:59:55.493320 - qTV56N-EaqM : 140 stored.\n",
      "2019-06-26 13:00:26.497268 - tsN-MkpiZB0 : 100 stored.\n",
      "2019-06-26 13:00:55.583742 - J4c2ksykqio : 134 stored.\n",
      "2019-06-26 13:01:21.853715 - Bc5UieSLsJM : 61 stored.\n",
      "2019-06-26 13:01:52.417112 - 5j59M44F0bo : 140 stored.\n",
      "2019-06-26 13:02:22.650032 - bMLVDVjDe3Q : 140 stored.\n",
      "2019-06-26 13:02:51.808816 - Wy6gIJ6cLig : 120 stored.\n"
     ]
    }
   ],
   "source": [
    "# save comments to database\n",
    "for url in urls:\n",
    "    get_comments(browser, db, url)"
   ]
  },
  {
   "cell_type": "markdown",
   "metadata": {},
   "source": [
    "#### Get number of views"
   ]
  },
  {
   "cell_type": "code",
   "execution_count": 4,
   "metadata": {},
   "outputs": [],
   "source": [
    "def get_view_count(browser, url):\n",
    "    \"\"\"Return the view_count and timestamp\"\"\"\n",
    "    browser.get(url)\n",
    "    time.sleep(3)\n",
    "    now = datetime.now()\n",
    "    sel = 'span.view-count'\n",
    "    view_count = browser.find_element_by_css_selector(sel).text\n",
    "\n",
    "    return {\n",
    "        'view_count': int(''.join([n for n in view_count if n.isdigit()])),\n",
    "        'timestamp': now }"
   ]
  },
  {
   "cell_type": "code",
   "execution_count": 13,
   "metadata": {},
   "outputs": [],
   "source": [
    "# Get video list from videos collection\n",
    "coll = db['video_detail']\n",
    "cur = coll.find({})"
   ]
  },
  {
   "cell_type": "code",
   "execution_count": 14,
   "metadata": {},
   "outputs": [],
   "source": [
    "# Store it to list\n",
    "videos = [video for video in cur]"
   ]
  },
  {
   "cell_type": "code",
   "execution_count": 15,
   "metadata": {},
   "outputs": [
    {
     "data": {
      "text/plain": [
       "264"
      ]
     },
     "execution_count": 15,
     "metadata": {},
     "output_type": "execute_result"
    }
   ],
   "source": [
    "len(videos)"
   ]
  },
  {
   "cell_type": "code",
   "execution_count": 78,
   "metadata": {},
   "outputs": [],
   "source": [
    "# shuffle the order of videos, that need to be collected\n",
    "random.shuffle(videos) "
   ]
  },
  {
   "cell_type": "code",
   "execution_count": 79,
   "metadata": {},
   "outputs": [
    {
     "data": {
      "text/plain": [
       "{'_id': ObjectId('5d1285238771f921313fee5d'),\n",
       " 'video_id': 'itBh9J6RlXM',\n",
       " 'title': 'Musik-A Kpop Contest 2019 | Pink Bullets | Whistle - Blackpink',\n",
       " 'url': 'https://www.youtube.com/watch?v=itBh9J6RlXM'}"
      ]
     },
     "execution_count": 79,
     "metadata": {},
     "output_type": "execute_result"
    }
   ],
   "source": [
    "videos[0]"
   ]
  },
  {
   "cell_type": "code",
   "execution_count": 6,
   "metadata": {
    "scrolled": true
   },
   "outputs": [
    {
     "name": "stdout",
     "output_type": "stream",
     "text": [
      "Audiofreq - Rewind (Official Video) 7664\n",
      "Ully Moch & Ifan Seventeen - HUN (Official Music Video NAGASWARA) #music 327731\n",
      "OLD TOWN ROAD Kids Dance Music Video 42069\n",
      "Ayu Ting Ting x Keremcem - Apalah Cinta (Official Music Video) 7368888\n",
      "Squeeze by Fille ft Voltage Music (Official Video) 11617\n",
      "DAVIS - Alright (Official Music Video) 775\n",
      "MC Klinton - SHQIPE TRAPKING prod.OGRruga (Official Video HD) 6563\n",
      "Hez Hazmi - Biar Aku Pergi (Official Music Video) 92296\n",
      "VRKINGS - SNAKEBITE FT. HONEY CRUX | BHAGUMIA | OFFICIAL MUSIC VIDEO | LATEST HINDI RAP | 2019 942\n",
      "Hard Driver - Young Birds (Official Video) 52255\n",
      "Julz West - On My Own (Dance Music Video) 253\n",
      "Sule & Baby Shima - Terpisah Jarak Dan Waktu (Official Music Video NAGASWARA) #music 1613066\n",
      "ALBUM SONIYA VE Official || ADITYA SINGH || Music Video Song || 2019 album 2219\n",
      "Agung Pradanta - Kuat Ati ( Official Music Video ) 3752\n",
      "BANNED KPOP Music Videos for Stupid Reasons 503555\n",
      "MOUSTO CAMARA | Syli De Guinée | 🇬🇳Official Video 2019 | By Dj.IKK 301\n",
      "TIRANKE SIDIME | Syli De Guinée | 🇬🇳Official Video 2019 | By Dj IKK 2800\n",
      "GODDYS - AMBROSIA (OFFICIAL MUSIC VIDEO) - 2019 - 4K 1102\n",
      "Remi Moore - Greater Things (Official Music Video) 369\n",
      "#065 - AEPHANEMER - Bloodline (OFFICIAL MUSIC VIDEO) | Reaction 16\n",
      "Audiofreq - Rewind (Official Video) 7668\n",
      "Ully Moch & Ifan Seventeen - HUN (Official Music Video NAGASWARA) #music 327731\n",
      "OLD TOWN ROAD Kids Dance Music Video 42069\n",
      "Ayu Ting Ting x Keremcem - Apalah Cinta (Official Music Video) 7369016\n",
      "Squeeze by Fille ft Voltage Music (Official Video) 11617\n",
      "DAVIS - Alright (Official Music Video) 775\n",
      "MC Klinton - SHQIPE TRAPKING prod.OGRruga (Official Video HD) 6563\n",
      "Hez Hazmi - Biar Aku Pergi (Official Music Video) 92296\n",
      "VRKINGS - SNAKEBITE FT. HONEY CRUX | BHAGUMIA | OFFICIAL MUSIC VIDEO | LATEST HINDI RAP | 2019 942\n",
      "Hard Driver - Young Birds (Official Video) 52281\n",
      "ALBUM SONIYA VE Official || ADITYA SINGH || Music Video Song || 2019 album 2219\n",
      "Julz West - On My Own (Dance Music Video) 253\n",
      "Sule & Baby Shima - Terpisah Jarak Dan Waktu (Official Music Video NAGASWARA) #music 1613066\n",
      "Agung Pradanta - Kuat Ati ( Official Music Video ) 3752\n",
      "BANNED KPOP Music Videos for Stupid Reasons 503555\n",
      "MOUSTO CAMARA | Syli De Guinée | 🇬🇳Official Video 2019 | By Dj.IKK 301\n",
      "TIRANKE SIDIME | Syli De Guinée | 🇬🇳Official Video 2019 | By Dj IKK 2800\n",
      "GODDYS - AMBROSIA (OFFICIAL MUSIC VIDEO) - 2019 - 4K 1102\n",
      "Lil Nas X - Old Town Road (Lyrics) ft. Billy Ray Cyrus 2164049\n",
      "#065 - AEPHANEMER - Bloodline (OFFICIAL MUSIC VIDEO) | Reaction 16\n",
      "YAMA SEGA | Bonbon Sucré | 🇬🇳Official Video 2019 | By Dj IKK 23684\n",
      "Polo G - Lost Files (Music Video) 33\n",
      "SOLEO - Całowałaś Przytulałaś ☆ OFFICIAL VIDEO ☆ 86653\n",
      "Remi Moore - Greater Things (Official Music Video) 369\n",
      "AUGER - When We Are Apart (Official Video) 3064\n",
      "Scotti - Ijs (Official Music Video) 168\n",
      "CAESARIA - Floating Heads [Official Music Video] 1210\n",
      "VIBE | Adnan Sheikh | Official Music Video | 4K 5943\n",
      "Ready or Not (Fortnite Music Video) - 21 Kills 632\n",
      "Syahiba Saufa - Kangen Mantan (Official Music Video) 4914\n",
      "Madonna - God Control (Music Video) Trailer 194\n",
      "Wizkid Ft. Lil Wayne - Level Up (Official Music Video) 3480\n",
      "Celebs share behind-the-scenes photos from Taylor Swift's music video shoot l GMA 18305\n",
      "Hopeless (Niggas) (Official Music Video) 57\n",
      "Wizkid - Joro ft. Koffee (Official Music Video) 17941\n",
      "Reality Is Cold - Music Video ( Production by Mort Shybur ) 16389\n",
      "The Game Episode 7 (Rap Battle) Latest music video 2019 71\n",
      "Shawn Mendes, Camila Cabello - Señorita (Lyrics) Letra 1136225\n",
      "Drake - Omertà [ Music Video] 2019 935\n",
      "MUSIC VIDEO - I LIVE BY MY OWN ( MAKE IT BETTER ) - ORIGINAL SONG By ADRIAN NOVICKÝ 268\n"
     ]
    }
   ],
   "source": [
    "# Collect number of views\n",
    "while True:\n",
    "    coll = db['view_count']\n",
    "    for video in videos:\n",
    "        print(video['title'])\n",
    "        count = get_view_count(browser, video['url'])\n",
    "        coll.insert_one({\n",
    "            'title': video['title'],\n",
    "            'view_count': count['view_count'],\n",
    "            'timestamp': count['timestamp']\n",
    "        })\n",
    "    time.sleep(600)\n"
   ]
  },
  {
   "cell_type": "code",
   "execution_count": null,
   "metadata": {},
   "outputs": [],
   "source": [
    "browser.close()"
   ]
  }
 ],
 "metadata": {
  "kernelspec": {
   "display_name": "Python 3",
   "language": "python",
   "name": "python3"
  },
  "language_info": {
   "codemirror_mode": {
    "name": "ipython",
    "version": 3
   },
   "file_extension": ".py",
   "mimetype": "text/x-python",
   "name": "python",
   "nbconvert_exporter": "python",
   "pygments_lexer": "ipython3",
   "version": "3.7.3"
  }
 },
 "nbformat": 4,
 "nbformat_minor": 2
}
