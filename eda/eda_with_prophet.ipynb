{
 "cells": [
  {
   "cell_type": "markdown",
   "metadata": {},
   "source": [
    "## Prediction Model with Prophet"
   ]
  },
  {
   "cell_type": "code",
   "execution_count": 63,
   "metadata": {},
   "outputs": [],
   "source": [
    "# import common \n",
    "import sys\n",
    "sys.path.append('../common/')\n",
    "from functions import get_view_counts\n",
    "\n",
    "# import libraries\n",
    "import pandas as pd\n",
    "import numpy as np\n",
    "\n",
    "from pymongo import MongoClient\n",
    "from fbprophet import Prophet\n",
    "from matplotlib import pyplot as plt\n",
    "from matplotlib import dates as mdates"
   ]
  },
  {
   "cell_type": "markdown",
   "metadata": {},
   "source": [
    "### Make a dataframe from mongodb\n",
    "\n",
    "**Collections**\n",
    "* video_detail : contains title, url, published date, video_id of video\n",
    "* view_count : contains # of views, comments, likes"
   ]
  },
  {
   "cell_type": "code",
   "execution_count": 2,
   "metadata": {},
   "outputs": [],
   "source": [
    "# connect mongodb through ssh tunnel\n",
    "connection = MongoClient(port=47017)\n",
    "db = connection['youtube_scrap']"
   ]
  },
  {
   "cell_type": "markdown",
   "metadata": {},
   "source": [
    "### Load video detail to dataframe"
   ]
  },
  {
   "cell_type": "code",
   "execution_count": 3,
   "metadata": {},
   "outputs": [],
   "source": [
    "# load from mongodb\n",
    "video_coll = db['video_detail']\n",
    "video_cur = video_coll.find({})\n",
    "videos = [video for video in video_cur]"
   ]
  },
  {
   "cell_type": "code",
   "execution_count": 4,
   "metadata": {},
   "outputs": [],
   "source": [
    "# select a video\n",
    "video = videos[9]"
   ]
  },
  {
   "cell_type": "code",
   "execution_count": 5,
   "metadata": {},
   "outputs": [
    {
     "data": {
      "text/html": [
       "<div>\n",
       "<style scoped>\n",
       "    .dataframe tbody tr th:only-of-type {\n",
       "        vertical-align: middle;\n",
       "    }\n",
       "\n",
       "    .dataframe tbody tr th {\n",
       "        vertical-align: top;\n",
       "    }\n",
       "\n",
       "    .dataframe thead th {\n",
       "        text-align: right;\n",
       "    }\n",
       "</style>\n",
       "<table border=\"1\" class=\"dataframe\">\n",
       "  <thead>\n",
       "    <tr style=\"text-align: right;\">\n",
       "      <th></th>\n",
       "      <th>_id</th>\n",
       "      <th>comment_count</th>\n",
       "      <th>like_count</th>\n",
       "      <th>timestamp</th>\n",
       "      <th>title</th>\n",
       "      <th>video_id</th>\n",
       "      <th>view_count</th>\n",
       "    </tr>\n",
       "  </thead>\n",
       "  <tbody>\n",
       "    <tr>\n",
       "      <th>0</th>\n",
       "      <td>5d13b7a19ec6103a9817d75e</td>\n",
       "      <td>4495</td>\n",
       "      <td>183308</td>\n",
       "      <td>2019-06-26 18:21:16.925</td>\n",
       "      <td>Dream Glow (BTS World Original Soundtrack)</td>\n",
       "      <td>HwT9oKqfUxY</td>\n",
       "      <td>5505871</td>\n",
       "    </tr>\n",
       "    <tr>\n",
       "      <th>1</th>\n",
       "      <td>5d13c37b9ec6103a9817d89b</td>\n",
       "      <td>4497</td>\n",
       "      <td>183393</td>\n",
       "      <td>2019-06-26 19:11:51.844</td>\n",
       "      <td>Dream Glow (BTS World Original Soundtrack)</td>\n",
       "      <td>HwT9oKqfUxY</td>\n",
       "      <td>5509723</td>\n",
       "    </tr>\n",
       "    <tr>\n",
       "      <th>2</th>\n",
       "      <td>5d13c4779ec6103a9817d8af</td>\n",
       "      <td>4497</td>\n",
       "      <td>183397</td>\n",
       "      <td>2019-06-26 19:16:03.135</td>\n",
       "      <td>Dream Glow (BTS World Original Soundtrack)</td>\n",
       "      <td>HwT9oKqfUxY</td>\n",
       "      <td>5510424</td>\n",
       "    </tr>\n",
       "    <tr>\n",
       "      <th>3</th>\n",
       "      <td>5d13cdb89ec6103a9817d993</td>\n",
       "      <td>4498</td>\n",
       "      <td>183476</td>\n",
       "      <td>2019-06-26 19:55:32.016</td>\n",
       "      <td>Dream Glow (BTS World Original Soundtrack)</td>\n",
       "      <td>HwT9oKqfUxY</td>\n",
       "      <td>5514608</td>\n",
       "    </tr>\n",
       "    <tr>\n",
       "      <th>4</th>\n",
       "      <td>5d13d3ad9ec6103a9817da31</td>\n",
       "      <td>4501</td>\n",
       "      <td>183530</td>\n",
       "      <td>2019-06-26 20:20:57.911</td>\n",
       "      <td>Dream Glow (BTS World Original Soundtrack)</td>\n",
       "      <td>HwT9oKqfUxY</td>\n",
       "      <td>5517267</td>\n",
       "    </tr>\n",
       "  </tbody>\n",
       "</table>\n",
       "</div>"
      ],
      "text/plain": [
       "                        _id  comment_count  like_count  \\\n",
       "0  5d13b7a19ec6103a9817d75e           4495      183308   \n",
       "1  5d13c37b9ec6103a9817d89b           4497      183393   \n",
       "2  5d13c4779ec6103a9817d8af           4497      183397   \n",
       "3  5d13cdb89ec6103a9817d993           4498      183476   \n",
       "4  5d13d3ad9ec6103a9817da31           4501      183530   \n",
       "\n",
       "                timestamp                                       title  \\\n",
       "0 2019-06-26 18:21:16.925  Dream Glow (BTS World Original Soundtrack)   \n",
       "1 2019-06-26 19:11:51.844  Dream Glow (BTS World Original Soundtrack)   \n",
       "2 2019-06-26 19:16:03.135  Dream Glow (BTS World Original Soundtrack)   \n",
       "3 2019-06-26 19:55:32.016  Dream Glow (BTS World Original Soundtrack)   \n",
       "4 2019-06-26 20:20:57.911  Dream Glow (BTS World Original Soundtrack)   \n",
       "\n",
       "      video_id  view_count  \n",
       "0  HwT9oKqfUxY     5505871  \n",
       "1  HwT9oKqfUxY     5509723  \n",
       "2  HwT9oKqfUxY     5510424  \n",
       "3  HwT9oKqfUxY     5514608  \n",
       "4  HwT9oKqfUxY     5517267  "
      ]
     },
     "execution_count": 5,
     "metadata": {},
     "output_type": "execute_result"
    }
   ],
   "source": [
    "# get view_counts for selected video\n",
    "df = get_view_counts(db, video['video_id'])\n",
    "df.head()"
   ]
  },
  {
   "cell_type": "markdown",
   "metadata": {},
   "source": [
    "### Make a prediction with Prophet"
   ]
  },
  {
   "cell_type": "code",
   "execution_count": 15,
   "metadata": {},
   "outputs": [],
   "source": [
    "# initialize Prophet model\n",
    "m = Prophet()"
   ]
  },
  {
   "cell_type": "code",
   "execution_count": 16,
   "metadata": {},
   "outputs": [
    {
     "data": {
      "text/html": [
       "<div>\n",
       "<style scoped>\n",
       "    .dataframe tbody tr th:only-of-type {\n",
       "        vertical-align: middle;\n",
       "    }\n",
       "\n",
       "    .dataframe tbody tr th {\n",
       "        vertical-align: top;\n",
       "    }\n",
       "\n",
       "    .dataframe thead th {\n",
       "        text-align: right;\n",
       "    }\n",
       "</style>\n",
       "<table border=\"1\" class=\"dataframe\">\n",
       "  <thead>\n",
       "    <tr style=\"text-align: right;\">\n",
       "      <th></th>\n",
       "      <th>ds</th>\n",
       "      <th>y</th>\n",
       "    </tr>\n",
       "  </thead>\n",
       "  <tbody>\n",
       "    <tr>\n",
       "      <th>0</th>\n",
       "      <td>2019-06-26 18:21:16.925</td>\n",
       "      <td>5505871</td>\n",
       "    </tr>\n",
       "    <tr>\n",
       "      <th>1</th>\n",
       "      <td>2019-06-26 19:11:51.844</td>\n",
       "      <td>5509723</td>\n",
       "    </tr>\n",
       "    <tr>\n",
       "      <th>2</th>\n",
       "      <td>2019-06-26 19:16:03.135</td>\n",
       "      <td>5510424</td>\n",
       "    </tr>\n",
       "    <tr>\n",
       "      <th>3</th>\n",
       "      <td>2019-06-26 19:55:32.016</td>\n",
       "      <td>5514608</td>\n",
       "    </tr>\n",
       "    <tr>\n",
       "      <th>4</th>\n",
       "      <td>2019-06-26 20:20:57.911</td>\n",
       "      <td>5517267</td>\n",
       "    </tr>\n",
       "  </tbody>\n",
       "</table>\n",
       "</div>"
      ],
      "text/plain": [
       "                       ds        y\n",
       "0 2019-06-26 18:21:16.925  5505871\n",
       "1 2019-06-26 19:11:51.844  5509723\n",
       "2 2019-06-26 19:16:03.135  5510424\n",
       "3 2019-06-26 19:55:32.016  5514608\n",
       "4 2019-06-26 20:20:57.911  5517267"
      ]
     },
     "execution_count": 16,
     "metadata": {},
     "output_type": "execute_result"
    }
   ],
   "source": [
    "# prepare dataframe for Prophet\n",
    "est_df = df[['timestamp', 'view_count']]\n",
    "est_df.columns = ['ds', 'y']\n",
    "est_df.head()"
   ]
  },
  {
   "cell_type": "code",
   "execution_count": 17,
   "metadata": {},
   "outputs": [
    {
     "name": "stderr",
     "output_type": "stream",
     "text": [
      "INFO:fbprophet:Disabling yearly seasonality. Run prophet with yearly_seasonality=True to override this.\n",
      "INFO:fbprophet:Disabling weekly seasonality. Run prophet with weekly_seasonality=True to override this.\n",
      "/Users/teo/anaconda3/lib/python3.7/site-packages/pystan/misc.py:399: FutureWarning:\n",
      "\n",
      "Conversion of the second argument of issubdtype from `float` to `np.floating` is deprecated. In future, it will be treated as `np.float64 == np.dtype(float).type`.\n",
      "\n"
     ]
    },
    {
     "data": {
      "text/plain": [
       "<fbprophet.forecaster.Prophet at 0x1a27963ac8>"
      ]
     },
     "execution_count": 17,
     "metadata": {},
     "output_type": "execute_result"
    }
   ],
   "source": [
    "# fit to model\n",
    "m.fit(est_df)"
   ]
  },
  {
   "cell_type": "code",
   "execution_count": 18,
   "metadata": {},
   "outputs": [
    {
     "data": {
      "text/html": [
       "<div>\n",
       "<style scoped>\n",
       "    .dataframe tbody tr th:only-of-type {\n",
       "        vertical-align: middle;\n",
       "    }\n",
       "\n",
       "    .dataframe tbody tr th {\n",
       "        vertical-align: top;\n",
       "    }\n",
       "\n",
       "    .dataframe thead th {\n",
       "        text-align: right;\n",
       "    }\n",
       "</style>\n",
       "<table border=\"1\" class=\"dataframe\">\n",
       "  <thead>\n",
       "    <tr style=\"text-align: right;\">\n",
       "      <th></th>\n",
       "      <th>ds</th>\n",
       "    </tr>\n",
       "  </thead>\n",
       "  <tbody>\n",
       "    <tr>\n",
       "      <th>416</th>\n",
       "      <td>2019-07-05 14:51:50.606</td>\n",
       "    </tr>\n",
       "    <tr>\n",
       "      <th>417</th>\n",
       "      <td>2019-07-05 15:16:36.260</td>\n",
       "    </tr>\n",
       "    <tr>\n",
       "      <th>418</th>\n",
       "      <td>2019-07-06 15:16:36.260</td>\n",
       "    </tr>\n",
       "    <tr>\n",
       "      <th>419</th>\n",
       "      <td>2019-07-07 15:16:36.260</td>\n",
       "    </tr>\n",
       "    <tr>\n",
       "      <th>420</th>\n",
       "      <td>2019-07-08 15:16:36.260</td>\n",
       "    </tr>\n",
       "  </tbody>\n",
       "</table>\n",
       "</div>"
      ],
      "text/plain": [
       "                         ds\n",
       "416 2019-07-05 14:51:50.606\n",
       "417 2019-07-05 15:16:36.260\n",
       "418 2019-07-06 15:16:36.260\n",
       "419 2019-07-07 15:16:36.260\n",
       "420 2019-07-08 15:16:36.260"
      ]
     },
     "execution_count": 18,
     "metadata": {},
     "output_type": "execute_result"
    }
   ],
   "source": [
    "# make dataframe for estimatin after 3 days \n",
    "future = m.make_future_dataframe(periods=3)\n",
    "future.tail()"
   ]
  },
  {
   "cell_type": "code",
   "execution_count": 19,
   "metadata": {},
   "outputs": [],
   "source": [
    "# perform predict \n",
    "forecast = m.predict(future)"
   ]
  },
  {
   "cell_type": "code",
   "execution_count": 20,
   "metadata": {},
   "outputs": [
    {
     "data": {
      "text/html": [
       "<div>\n",
       "<style scoped>\n",
       "    .dataframe tbody tr th:only-of-type {\n",
       "        vertical-align: middle;\n",
       "    }\n",
       "\n",
       "    .dataframe tbody tr th {\n",
       "        vertical-align: top;\n",
       "    }\n",
       "\n",
       "    .dataframe thead th {\n",
       "        text-align: right;\n",
       "    }\n",
       "</style>\n",
       "<table border=\"1\" class=\"dataframe\">\n",
       "  <thead>\n",
       "    <tr style=\"text-align: right;\">\n",
       "      <th></th>\n",
       "      <th>ds</th>\n",
       "      <th>yhat</th>\n",
       "      <th>yhat_lower</th>\n",
       "      <th>yhat_upper</th>\n",
       "    </tr>\n",
       "  </thead>\n",
       "  <tbody>\n",
       "    <tr>\n",
       "      <th>416</th>\n",
       "      <td>2019-07-05 14:51:50.606</td>\n",
       "      <td>6.226641e+06</td>\n",
       "      <td>6.225496e+06</td>\n",
       "      <td>6.227793e+06</td>\n",
       "    </tr>\n",
       "    <tr>\n",
       "      <th>417</th>\n",
       "      <td>2019-07-05 15:16:36.260</td>\n",
       "      <td>6.227383e+06</td>\n",
       "      <td>6.226304e+06</td>\n",
       "      <td>6.228468e+06</td>\n",
       "    </tr>\n",
       "    <tr>\n",
       "      <th>418</th>\n",
       "      <td>2019-07-06 15:16:36.260</td>\n",
       "      <td>6.279944e+06</td>\n",
       "      <td>6.257622e+06</td>\n",
       "      <td>6.302100e+06</td>\n",
       "    </tr>\n",
       "    <tr>\n",
       "      <th>419</th>\n",
       "      <td>2019-07-07 15:16:36.260</td>\n",
       "      <td>6.332504e+06</td>\n",
       "      <td>6.264677e+06</td>\n",
       "      <td>6.401154e+06</td>\n",
       "    </tr>\n",
       "    <tr>\n",
       "      <th>420</th>\n",
       "      <td>2019-07-08 15:16:36.260</td>\n",
       "      <td>6.385065e+06</td>\n",
       "      <td>6.252293e+06</td>\n",
       "      <td>6.513669e+06</td>\n",
       "    </tr>\n",
       "  </tbody>\n",
       "</table>\n",
       "</div>"
      ],
      "text/plain": [
       "                         ds          yhat    yhat_lower    yhat_upper\n",
       "416 2019-07-05 14:51:50.606  6.226641e+06  6.225496e+06  6.227793e+06\n",
       "417 2019-07-05 15:16:36.260  6.227383e+06  6.226304e+06  6.228468e+06\n",
       "418 2019-07-06 15:16:36.260  6.279944e+06  6.257622e+06  6.302100e+06\n",
       "419 2019-07-07 15:16:36.260  6.332504e+06  6.264677e+06  6.401154e+06\n",
       "420 2019-07-08 15:16:36.260  6.385065e+06  6.252293e+06  6.513669e+06"
      ]
     },
     "execution_count": 20,
     "metadata": {},
     "output_type": "execute_result"
    }
   ],
   "source": [
    "# extracting some data\n",
    "forecast[['ds', 'yhat', 'yhat_lower', 'yhat_upper']].tail(5)"
   ]
  },
  {
   "cell_type": "code",
   "execution_count": 21,
   "metadata": {},
   "outputs": [
    {
     "data": {
      "image/png": "[encoded data removed]",
      "text/plain": [
       "<Figure size 720x432 with 1 Axes>"
      ]
     },
     "metadata": {},
     "output_type": "display_data"
    }
   ],
   "source": [
    "# Draw a chart with forecast (prophet function)\n",
    "fig1 = m.plot(forecast)"
   ]
  },
  {
   "cell_type": "markdown",
   "metadata": {},
   "source": [
    "### What's in the forecast"
   ]
  },
  {
   "cell_type": "code",
   "execution_count": 85,
   "metadata": {},
   "outputs": [
    {
     "data": {
      "text/html": [
       "<div>\n",
       "<style scoped>\n",
       "    .dataframe tbody tr th:only-of-type {\n",
       "        vertical-align: middle;\n",
       "    }\n",
       "\n",
       "    .dataframe tbody tr th {\n",
       "        vertical-align: top;\n",
       "    }\n",
       "\n",
       "    .dataframe thead th {\n",
       "        text-align: right;\n",
       "    }\n",
       "</style>\n",
       "<table border=\"1\" class=\"dataframe\">\n",
       "  <thead>\n",
       "    <tr style=\"text-align: right;\">\n",
       "      <th></th>\n",
       "      <th>ds</th>\n",
       "      <th>trend</th>\n",
       "      <th>yhat_lower</th>\n",
       "      <th>yhat_upper</th>\n",
       "      <th>trend_lower</th>\n",
       "      <th>trend_upper</th>\n",
       "      <th>additive_terms</th>\n",
       "      <th>additive_terms_lower</th>\n",
       "      <th>additive_terms_upper</th>\n",
       "      <th>daily</th>\n",
       "      <th>daily_lower</th>\n",
       "      <th>daily_upper</th>\n",
       "      <th>multiplicative_terms</th>\n",
       "      <th>multiplicative_terms_lower</th>\n",
       "      <th>multiplicative_terms_upper</th>\n",
       "      <th>yhat</th>\n",
       "    </tr>\n",
       "  </thead>\n",
       "  <tbody>\n",
       "    <tr>\n",
       "      <th>417</th>\n",
       "      <td>2019-07-05 15:16:36.260</td>\n",
       "      <td>6.230501e+06</td>\n",
       "      <td>6.226304e+06</td>\n",
       "      <td>6.228468e+06</td>\n",
       "      <td>6.230501e+06</td>\n",
       "      <td>6.230501e+06</td>\n",
       "      <td>-3118.106181</td>\n",
       "      <td>-3118.106181</td>\n",
       "      <td>-3118.106181</td>\n",
       "      <td>-3118.106181</td>\n",
       "      <td>-3118.106181</td>\n",
       "      <td>-3118.106181</td>\n",
       "      <td>0.0</td>\n",
       "      <td>0.0</td>\n",
       "      <td>0.0</td>\n",
       "      <td>6.227383e+06</td>\n",
       "    </tr>\n",
       "    <tr>\n",
       "      <th>418</th>\n",
       "      <td>2019-07-06 15:16:36.260</td>\n",
       "      <td>6.283062e+06</td>\n",
       "      <td>6.257622e+06</td>\n",
       "      <td>6.302100e+06</td>\n",
       "      <td>6.261055e+06</td>\n",
       "      <td>6.304883e+06</td>\n",
       "      <td>-3118.106181</td>\n",
       "      <td>-3118.106181</td>\n",
       "      <td>-3118.106181</td>\n",
       "      <td>-3118.106181</td>\n",
       "      <td>-3118.106181</td>\n",
       "      <td>-3118.106181</td>\n",
       "      <td>0.0</td>\n",
       "      <td>0.0</td>\n",
       "      <td>0.0</td>\n",
       "      <td>6.279944e+06</td>\n",
       "    </tr>\n",
       "    <tr>\n",
       "      <th>419</th>\n",
       "      <td>2019-07-07 15:16:36.260</td>\n",
       "      <td>6.335622e+06</td>\n",
       "      <td>6.264677e+06</td>\n",
       "      <td>6.401154e+06</td>\n",
       "      <td>6.268433e+06</td>\n",
       "      <td>6.404679e+06</td>\n",
       "      <td>-3118.106181</td>\n",
       "      <td>-3118.106181</td>\n",
       "      <td>-3118.106181</td>\n",
       "      <td>-3118.106181</td>\n",
       "      <td>-3118.106181</td>\n",
       "      <td>-3118.106181</td>\n",
       "      <td>0.0</td>\n",
       "      <td>0.0</td>\n",
       "      <td>0.0</td>\n",
       "      <td>6.332504e+06</td>\n",
       "    </tr>\n",
       "    <tr>\n",
       "      <th>420</th>\n",
       "      <td>2019-07-08 15:16:36.260</td>\n",
       "      <td>6.388183e+06</td>\n",
       "      <td>6.252293e+06</td>\n",
       "      <td>6.513669e+06</td>\n",
       "      <td>6.254768e+06</td>\n",
       "      <td>6.515821e+06</td>\n",
       "      <td>-3118.106181</td>\n",
       "      <td>-3118.106181</td>\n",
       "      <td>-3118.106181</td>\n",
       "      <td>-3118.106181</td>\n",
       "      <td>-3118.106181</td>\n",
       "      <td>-3118.106181</td>\n",
       "      <td>0.0</td>\n",
       "      <td>0.0</td>\n",
       "      <td>0.0</td>\n",
       "      <td>6.385065e+06</td>\n",
       "    </tr>\n",
       "  </tbody>\n",
       "</table>\n",
       "</div>"
      ],
      "text/plain": [
       "                         ds         trend    yhat_lower    yhat_upper  \\\n",
       "417 2019-07-05 15:16:36.260  6.230501e+06  6.226304e+06  6.228468e+06   \n",
       "418 2019-07-06 15:16:36.260  6.283062e+06  6.257622e+06  6.302100e+06   \n",
       "419 2019-07-07 15:16:36.260  6.335622e+06  6.264677e+06  6.401154e+06   \n",
       "420 2019-07-08 15:16:36.260  6.388183e+06  6.252293e+06  6.513669e+06   \n",
       "\n",
       "      trend_lower   trend_upper  additive_terms  additive_terms_lower  \\\n",
       "417  6.230501e+06  6.230501e+06    -3118.106181          -3118.106181   \n",
       "418  6.261055e+06  6.304883e+06    -3118.106181          -3118.106181   \n",
       "419  6.268433e+06  6.404679e+06    -3118.106181          -3118.106181   \n",
       "420  6.254768e+06  6.515821e+06    -3118.106181          -3118.106181   \n",
       "\n",
       "     additive_terms_upper        daily  daily_lower  daily_upper  \\\n",
       "417          -3118.106181 -3118.106181 -3118.106181 -3118.106181   \n",
       "418          -3118.106181 -3118.106181 -3118.106181 -3118.106181   \n",
       "419          -3118.106181 -3118.106181 -3118.106181 -3118.106181   \n",
       "420          -3118.106181 -3118.106181 -3118.106181 -3118.106181   \n",
       "\n",
       "     multiplicative_terms  multiplicative_terms_lower  \\\n",
       "417                   0.0                         0.0   \n",
       "418                   0.0                         0.0   \n",
       "419                   0.0                         0.0   \n",
       "420                   0.0                         0.0   \n",
       "\n",
       "     multiplicative_terms_upper          yhat  \n",
       "417                         0.0  6.227383e+06  \n",
       "418                         0.0  6.279944e+06  \n",
       "419                         0.0  6.332504e+06  \n",
       "420                         0.0  6.385065e+06  "
      ]
     },
     "execution_count": 85,
     "metadata": {},
     "output_type": "execute_result"
    }
   ],
   "source": [
    "# extract last 3 rows in forecast \n",
    "# (but one more row is needed for chart)\n",
    "df = forecast.tail(4)\n",
    "df"
   ]
  },
  {
   "cell_type": "code",
   "execution_count": 86,
   "metadata": {},
   "outputs": [
    {
     "data": {
      "image/png": "[encoded data removed]",
      "text/plain": [
       "<Figure size 576x432 with 1 Axes>"
      ]
     },
     "metadata": {
      "needs_background": "light"
     },
     "output_type": "display_data"
    }
   ],
   "source": [
    "# Draw chart with 3 values in forecast\n",
    "# yhat, yhat_upper, yhat_lower\n",
    "fig, ax = plt.subplots(figsize=(8, 6))\n",
    "\n",
    "ax.plot(df['ds'], df['yhat'], '--', label='estimate')\n",
    "ax.plot(df['ds'], df['yhat_lower'], '-', label='lower bound')\n",
    "ax.plot(df['ds'], df['yhat_upper'], '-', label='upper bound')\n",
    "\n",
    "hours = mdates.HourLocator(interval = 12)\n",
    "h_fmt = mdates.DateFormatter('%m%d-%H:%M')\n",
    "\n",
    "ax.xaxis.set_major_locator(hours)\n",
    "ax.xaxis.set_major_formatter(h_fmt)\n",
    "plt.legend()\n",
    "plt.show()"
   ]
  },
  {
   "cell_type": "markdown",
   "metadata": {},
   "source": [
    "### Chart for past + forecast"
   ]
  },
  {
   "cell_type": "code",
   "execution_count": 87,
   "metadata": {},
   "outputs": [
    {
     "data": {
      "image/png": "[encoded data removed]",
      "text/plain": [
       "<Figure size 576x432 with 1 Axes>"
      ]
     },
     "metadata": {
      "needs_background": "light"
     },
     "output_type": "display_data"
    }
   ],
   "source": [
    "# Draw chart with 3 values in forecast\n",
    "# yhat, yhat_upper, yhat_lower\n",
    "fig, ax = plt.subplots(figsize=(8, 6))\n",
    "\n",
    "ax.plot(est_df['ds'], est_df['y'], '-', label='past')\n",
    "\n",
    "ax.plot(df['ds'], df['yhat'], '--', label='estimate')\n",
    "ax.plot(df['ds'], df['yhat_lower'], '-', label='lower bound')\n",
    "ax.plot(df['ds'], df['yhat_upper'], '-', label='upper bound')\n",
    "\n",
    "# hours = mdates.HourLocator(interval = 24)\n",
    "# h_fmt = mdates.DateFormatter('%m%d-%H:%M')\n",
    "\n",
    "# ax.xaxis.set_major_locator(hours)\n",
    "# ax.xaxis.set_major_formatter(h_fmt)\n",
    "plt.legend()\n",
    "plt.show()"
   ]
  },
  {
   "cell_type": "code",
   "execution_count": null,
   "metadata": {},
   "outputs": [],
   "source": []
  },
  {
   "cell_type": "markdown",
   "metadata": {},
   "source": [
    "### Accuracy of estimation"
   ]
  },
  {
   "cell_type": "code",
   "execution_count": 88,
   "metadata": {},
   "outputs": [],
   "source": [
    "pass"
   ]
  },
  {
   "cell_type": "code",
   "execution_count": null,
   "metadata": {},
   "outputs": [],
   "source": []
  },
  {
   "cell_type": "code",
   "execution_count": null,
   "metadata": {},
   "outputs": [],
   "source": []
  },
  {
   "cell_type": "code",
   "execution_count": null,
   "metadata": {},
   "outputs": [],
   "source": []
  },
  {
   "cell_type": "code",
   "execution_count": null,
   "metadata": {},
   "outputs": [],
   "source": []
  }
 ],
 "metadata": {
  "kernelspec": {
   "display_name": "Python 3",
   "language": "python",
   "name": "python3"
  },
  "language_info": {
   "codemirror_mode": {
    "name": "ipython",
    "version": 3
   },
   "file_extension": ".py",
   "mimetype": "text/x-python",
   "name": "python",
   "nbconvert_exporter": "python",
   "pygments_lexer": "ipython3",
   "version": "3.7.3"
  }
 },
 "nbformat": 4,
 "nbformat_minor": 2
}
