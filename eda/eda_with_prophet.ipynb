{
 "cells": [
  {
   "cell_type": "markdown",
   "metadata": {},
   "source": [
    "## Prediction Model with Prophet"
   ]
  },
  {
   "cell_type": "code",
   "execution_count": 11,
   "metadata": {},
   "outputs": [],
   "source": [
    "# import common \n",
    "import sys\n",
    "sys.path.append('../common/')\n",
    "from functions import get_view_counts\n",
    "\n",
    "# import libraries\n",
    "import pandas as pd\n",
    "import numpy as np\n",
    "\n",
    "from pymongo import MongoClient\n",
    "from fbprophet import Prophet"
   ]
  },
  {
   "cell_type": "markdown",
   "metadata": {},
   "source": [
    "### Make a dataframe from mongodb\n",
    "\n",
    "**Collections**\n",
    "* video_detail : contains title, url, published date, video_id of video\n",
    "* view_count : contains # of views, comments, likes"
   ]
  },
  {
   "cell_type": "code",
   "execution_count": 5,
   "metadata": {},
   "outputs": [],
   "source": [
    "# connect mongodb through ssh tunnel\n",
    "connection = MongoClient(port=47017)\n",
    "db = connection['youtube_scrap']"
   ]
  },
  {
   "cell_type": "markdown",
   "metadata": {},
   "source": [
    "### Load video detail to dataframe"
   ]
  },
  {
   "cell_type": "code",
   "execution_count": 6,
   "metadata": {},
   "outputs": [],
   "source": [
    "# load from mongodb\n",
    "video_coll = db['video_detail']\n",
    "video_cur = video_coll.find({})\n",
    "videos = [video for video in video_cur]"
   ]
  },
  {
   "cell_type": "code",
   "execution_count": 52,
   "metadata": {},
   "outputs": [],
   "source": [
    "# select a video\n",
    "video = videos[9]"
   ]
  },
  {
   "cell_type": "code",
   "execution_count": 53,
   "metadata": {},
   "outputs": [
    {
     "data": {
      "text/html": [
       "<div>\n",
       "<style scoped>\n",
       "    .dataframe tbody tr th:only-of-type {\n",
       "        vertical-align: middle;\n",
       "    }\n",
       "\n",
       "    .dataframe tbody tr th {\n",
       "        vertical-align: top;\n",
       "    }\n",
       "\n",
       "    .dataframe thead th {\n",
       "        text-align: right;\n",
       "    }\n",
       "</style>\n",
       "<table border=\"1\" class=\"dataframe\">\n",
       "  <thead>\n",
       "    <tr style=\"text-align: right;\">\n",
       "      <th></th>\n",
       "      <th>_id</th>\n",
       "      <th>comment_count</th>\n",
       "      <th>like_count</th>\n",
       "      <th>timestamp</th>\n",
       "      <th>title</th>\n",
       "      <th>video_id</th>\n",
       "      <th>view_count</th>\n",
       "    </tr>\n",
       "  </thead>\n",
       "  <tbody>\n",
       "    <tr>\n",
       "      <th>0</th>\n",
       "      <td>5d13b7a19ec6103a9817d75e</td>\n",
       "      <td>4495</td>\n",
       "      <td>183308</td>\n",
       "      <td>2019-06-26 18:21:16.925</td>\n",
       "      <td>Dream Glow (BTS World Original Soundtrack)</td>\n",
       "      <td>HwT9oKqfUxY</td>\n",
       "      <td>5505871</td>\n",
       "    </tr>\n",
       "    <tr>\n",
       "      <th>1</th>\n",
       "      <td>5d13c37b9ec6103a9817d89b</td>\n",
       "      <td>4497</td>\n",
       "      <td>183393</td>\n",
       "      <td>2019-06-26 19:11:51.844</td>\n",
       "      <td>Dream Glow (BTS World Original Soundtrack)</td>\n",
       "      <td>HwT9oKqfUxY</td>\n",
       "      <td>5509723</td>\n",
       "    </tr>\n",
       "    <tr>\n",
       "      <th>2</th>\n",
       "      <td>5d13c4779ec6103a9817d8af</td>\n",
       "      <td>4497</td>\n",
       "      <td>183397</td>\n",
       "      <td>2019-06-26 19:16:03.135</td>\n",
       "      <td>Dream Glow (BTS World Original Soundtrack)</td>\n",
       "      <td>HwT9oKqfUxY</td>\n",
       "      <td>5510424</td>\n",
       "    </tr>\n",
       "    <tr>\n",
       "      <th>3</th>\n",
       "      <td>5d13cdb89ec6103a9817d993</td>\n",
       "      <td>4498</td>\n",
       "      <td>183476</td>\n",
       "      <td>2019-06-26 19:55:32.016</td>\n",
       "      <td>Dream Glow (BTS World Original Soundtrack)</td>\n",
       "      <td>HwT9oKqfUxY</td>\n",
       "      <td>5514608</td>\n",
       "    </tr>\n",
       "    <tr>\n",
       "      <th>4</th>\n",
       "      <td>5d13d3ad9ec6103a9817da31</td>\n",
       "      <td>4501</td>\n",
       "      <td>183530</td>\n",
       "      <td>2019-06-26 20:20:57.911</td>\n",
       "      <td>Dream Glow (BTS World Original Soundtrack)</td>\n",
       "      <td>HwT9oKqfUxY</td>\n",
       "      <td>5517267</td>\n",
       "    </tr>\n",
       "  </tbody>\n",
       "</table>\n",
       "</div>"
      ],
      "text/plain": [
       "                        _id  comment_count  like_count  \\\n",
       "0  5d13b7a19ec6103a9817d75e           4495      183308   \n",
       "1  5d13c37b9ec6103a9817d89b           4497      183393   \n",
       "2  5d13c4779ec6103a9817d8af           4497      183397   \n",
       "3  5d13cdb89ec6103a9817d993           4498      183476   \n",
       "4  5d13d3ad9ec6103a9817da31           4501      183530   \n",
       "\n",
       "                timestamp                                       title  \\\n",
       "0 2019-06-26 18:21:16.925  Dream Glow (BTS World Original Soundtrack)   \n",
       "1 2019-06-26 19:11:51.844  Dream Glow (BTS World Original Soundtrack)   \n",
       "2 2019-06-26 19:16:03.135  Dream Glow (BTS World Original Soundtrack)   \n",
       "3 2019-06-26 19:55:32.016  Dream Glow (BTS World Original Soundtrack)   \n",
       "4 2019-06-26 20:20:57.911  Dream Glow (BTS World Original Soundtrack)   \n",
       "\n",
       "      video_id  view_count  \n",
       "0  HwT9oKqfUxY     5505871  \n",
       "1  HwT9oKqfUxY     5509723  \n",
       "2  HwT9oKqfUxY     5510424  \n",
       "3  HwT9oKqfUxY     5514608  \n",
       "4  HwT9oKqfUxY     5517267  "
      ]
     },
     "execution_count": 53,
     "metadata": {},
     "output_type": "execute_result"
    }
   ],
   "source": [
    "# get view_counts for selected video\n",
    "df = get_view_counts(db, video['video_id'])\n",
    "df.head()"
   ]
  },
  {
   "cell_type": "markdown",
   "metadata": {},
   "source": [
    "### Make a prediction with Prophet"
   ]
  },
  {
   "cell_type": "code",
   "execution_count": 54,
   "metadata": {},
   "outputs": [],
   "source": [
    "# initialize Prophet model\n",
    "m = Prophet()"
   ]
  },
  {
   "cell_type": "code",
   "execution_count": 55,
   "metadata": {},
   "outputs": [
    {
     "data": {
      "text/html": [
       "<div>\n",
       "<style scoped>\n",
       "    .dataframe tbody tr th:only-of-type {\n",
       "        vertical-align: middle;\n",
       "    }\n",
       "\n",
       "    .dataframe tbody tr th {\n",
       "        vertical-align: top;\n",
       "    }\n",
       "\n",
       "    .dataframe thead th {\n",
       "        text-align: right;\n",
       "    }\n",
       "</style>\n",
       "<table border=\"1\" class=\"dataframe\">\n",
       "  <thead>\n",
       "    <tr style=\"text-align: right;\">\n",
       "      <th></th>\n",
       "      <th>ds</th>\n",
       "      <th>y</th>\n",
       "    </tr>\n",
       "  </thead>\n",
       "  <tbody>\n",
       "    <tr>\n",
       "      <th>0</th>\n",
       "      <td>2019-06-26 18:21:16.925</td>\n",
       "      <td>5505871</td>\n",
       "    </tr>\n",
       "    <tr>\n",
       "      <th>1</th>\n",
       "      <td>2019-06-26 19:11:51.844</td>\n",
       "      <td>5509723</td>\n",
       "    </tr>\n",
       "    <tr>\n",
       "      <th>2</th>\n",
       "      <td>2019-06-26 19:16:03.135</td>\n",
       "      <td>5510424</td>\n",
       "    </tr>\n",
       "    <tr>\n",
       "      <th>3</th>\n",
       "      <td>2019-06-26 19:55:32.016</td>\n",
       "      <td>5514608</td>\n",
       "    </tr>\n",
       "    <tr>\n",
       "      <th>4</th>\n",
       "      <td>2019-06-26 20:20:57.911</td>\n",
       "      <td>5517267</td>\n",
       "    </tr>\n",
       "  </tbody>\n",
       "</table>\n",
       "</div>"
      ],
      "text/plain": [
       "                       ds        y\n",
       "0 2019-06-26 18:21:16.925  5505871\n",
       "1 2019-06-26 19:11:51.844  5509723\n",
       "2 2019-06-26 19:16:03.135  5510424\n",
       "3 2019-06-26 19:55:32.016  5514608\n",
       "4 2019-06-26 20:20:57.911  5517267"
      ]
     },
     "execution_count": 55,
     "metadata": {},
     "output_type": "execute_result"
    }
   ],
   "source": [
    "# prepare dataframe for Prophet\n",
    "est_df = df[['timestamp', 'view_count']]\n",
    "est_df.columns = ['ds', 'y']\n",
    "est_df.head()"
   ]
  },
  {
   "cell_type": "code",
   "execution_count": 56,
   "metadata": {},
   "outputs": [
    {
     "name": "stderr",
     "output_type": "stream",
     "text": [
      "INFO:fbprophet:Disabling yearly seasonality. Run prophet with yearly_seasonality=True to override this.\n",
      "INFO:fbprophet:Disabling weekly seasonality. Run prophet with weekly_seasonality=True to override this.\n",
      "/Users/teo/anaconda3/lib/python3.7/site-packages/pystan/misc.py:399: FutureWarning: Conversion of the second argument of issubdtype from `float` to `np.floating` is deprecated. In future, it will be treated as `np.float64 == np.dtype(float).type`.\n",
      "  elif np.issubdtype(np.asarray(v).dtype, float):\n"
     ]
    },
    {
     "data": {
      "text/plain": [
       "<fbprophet.forecaster.Prophet at 0x107a3e5f8>"
      ]
     },
     "execution_count": 56,
     "metadata": {},
     "output_type": "execute_result"
    }
   ],
   "source": [
    "# fit to model\n",
    "m.fit(est_df)"
   ]
  },
  {
   "cell_type": "code",
   "execution_count": 57,
   "metadata": {},
   "outputs": [
    {
     "data": {
      "text/html": [
       "<div>\n",
       "<style scoped>\n",
       "    .dataframe tbody tr th:only-of-type {\n",
       "        vertical-align: middle;\n",
       "    }\n",
       "\n",
       "    .dataframe tbody tr th {\n",
       "        vertical-align: top;\n",
       "    }\n",
       "\n",
       "    .dataframe thead th {\n",
       "        text-align: right;\n",
       "    }\n",
       "</style>\n",
       "<table border=\"1\" class=\"dataframe\">\n",
       "  <thead>\n",
       "    <tr style=\"text-align: right;\">\n",
       "      <th></th>\n",
       "      <th>ds</th>\n",
       "    </tr>\n",
       "  </thead>\n",
       "  <tbody>\n",
       "    <tr>\n",
       "      <th>274</th>\n",
       "      <td>2019-07-02 18:45:13.221</td>\n",
       "    </tr>\n",
       "    <tr>\n",
       "      <th>275</th>\n",
       "      <td>2019-07-02 19:08:34.862</td>\n",
       "    </tr>\n",
       "    <tr>\n",
       "      <th>276</th>\n",
       "      <td>2019-07-03 19:08:34.862</td>\n",
       "    </tr>\n",
       "    <tr>\n",
       "      <th>277</th>\n",
       "      <td>2019-07-04 19:08:34.862</td>\n",
       "    </tr>\n",
       "    <tr>\n",
       "      <th>278</th>\n",
       "      <td>2019-07-05 19:08:34.862</td>\n",
       "    </tr>\n",
       "  </tbody>\n",
       "</table>\n",
       "</div>"
      ],
      "text/plain": [
       "                         ds\n",
       "274 2019-07-02 18:45:13.221\n",
       "275 2019-07-02 19:08:34.862\n",
       "276 2019-07-03 19:08:34.862\n",
       "277 2019-07-04 19:08:34.862\n",
       "278 2019-07-05 19:08:34.862"
      ]
     },
     "execution_count": 57,
     "metadata": {},
     "output_type": "execute_result"
    }
   ],
   "source": [
    "# make dataframe for estimatin after 3 days \n",
    "future = m.make_future_dataframe(periods=3)\n",
    "future.tail()"
   ]
  },
  {
   "cell_type": "code",
   "execution_count": 58,
   "metadata": {},
   "outputs": [],
   "source": [
    "# perform predict \n",
    "forecast = m.predict(future)"
   ]
  },
  {
   "cell_type": "code",
   "execution_count": 66,
   "metadata": {},
   "outputs": [
    {
     "data": {
      "text/html": [
       "<div>\n",
       "<style scoped>\n",
       "    .dataframe tbody tr th:only-of-type {\n",
       "        vertical-align: middle;\n",
       "    }\n",
       "\n",
       "    .dataframe tbody tr th {\n",
       "        vertical-align: top;\n",
       "    }\n",
       "\n",
       "    .dataframe thead th {\n",
       "        text-align: right;\n",
       "    }\n",
       "</style>\n",
       "<table border=\"1\" class=\"dataframe\">\n",
       "  <thead>\n",
       "    <tr style=\"text-align: right;\">\n",
       "      <th></th>\n",
       "      <th>ds</th>\n",
       "      <th>yhat</th>\n",
       "      <th>yhat_lower</th>\n",
       "      <th>yhat_upper</th>\n",
       "    </tr>\n",
       "  </thead>\n",
       "  <tbody>\n",
       "    <tr>\n",
       "      <th>274</th>\n",
       "      <td>2019-07-02 18:45:13.221</td>\n",
       "      <td>6.059606e+06</td>\n",
       "      <td>6.058804e+06</td>\n",
       "      <td>6.060433e+06</td>\n",
       "    </tr>\n",
       "    <tr>\n",
       "      <th>275</th>\n",
       "      <td>2019-07-02 19:08:34.862</td>\n",
       "      <td>6.060940e+06</td>\n",
       "      <td>6.060086e+06</td>\n",
       "      <td>6.061782e+06</td>\n",
       "    </tr>\n",
       "    <tr>\n",
       "      <th>276</th>\n",
       "      <td>2019-07-03 19:08:34.862</td>\n",
       "      <td>6.135711e+06</td>\n",
       "      <td>6.117751e+06</td>\n",
       "      <td>6.152986e+06</td>\n",
       "    </tr>\n",
       "    <tr>\n",
       "      <th>277</th>\n",
       "      <td>2019-07-04 19:08:34.862</td>\n",
       "      <td>6.210482e+06</td>\n",
       "      <td>6.155276e+06</td>\n",
       "      <td>6.262306e+06</td>\n",
       "    </tr>\n",
       "    <tr>\n",
       "      <th>278</th>\n",
       "      <td>2019-07-05 19:08:34.862</td>\n",
       "      <td>6.285253e+06</td>\n",
       "      <td>6.183072e+06</td>\n",
       "      <td>6.379929e+06</td>\n",
       "    </tr>\n",
       "  </tbody>\n",
       "</table>\n",
       "</div>"
      ],
      "text/plain": [
       "                         ds          yhat    yhat_lower    yhat_upper\n",
       "274 2019-07-02 18:45:13.221  6.059606e+06  6.058804e+06  6.060433e+06\n",
       "275 2019-07-02 19:08:34.862  6.060940e+06  6.060086e+06  6.061782e+06\n",
       "276 2019-07-03 19:08:34.862  6.135711e+06  6.117751e+06  6.152986e+06\n",
       "277 2019-07-04 19:08:34.862  6.210482e+06  6.155276e+06  6.262306e+06\n",
       "278 2019-07-05 19:08:34.862  6.285253e+06  6.183072e+06  6.379929e+06"
      ]
     },
     "execution_count": 66,
     "metadata": {},
     "output_type": "execute_result"
    }
   ],
   "source": [
    "# extracting some data\n",
    "forecast[['ds', 'yhat', 'yhat_lower', 'yhat_upper']].tail()"
   ]
  },
  {
   "cell_type": "code",
   "execution_count": 60,
   "metadata": {},
   "outputs": [
    {
     "data": {
      "image/png": "[encoded data removed]",
      "text/plain": [
       "<Figure size 720x432 with 1 Axes>"
      ]
     },
     "metadata": {},
     "output_type": "display_data"
    }
   ],
   "source": [
    "# Draw a chart with forecast\n",
    "fig1 = m.plot(forecast)"
   ]
  },
  {
   "cell_type": "markdown",
   "metadata": {},
   "source": [
    "### Accuracy of estimation"
   ]
  },
  {
   "cell_type": "code",
   "execution_count": null,
   "metadata": {},
   "outputs": [],
   "source": []
  }
 ],
 "metadata": {
  "kernelspec": {
   "display_name": "Python 3",
   "language": "python",
   "name": "python3"
  },
  "language_info": {
   "codemirror_mode": {
    "name": "ipython",
    "version": 3
   },
   "file_extension": ".py",
   "mimetype": "text/x-python",
   "name": "python",
   "nbconvert_exporter": "python",
   "pygments_lexer": "ipython3",
   "version": "3.7.3"
  }
 },
 "nbformat": 4,
 "nbformat_minor": 2
}
