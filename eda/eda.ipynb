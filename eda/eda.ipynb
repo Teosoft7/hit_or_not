{
 "cells": [
  {
   "cell_type": "markdown",
   "metadata": {},
   "source": [
    "## EDA with NLP method"
   ]
  },
  {
   "cell_type": "code",
   "execution_count": 1,
   "metadata": {},
   "outputs": [],
   "source": [
    "# import common functions\n",
    "import sys\n",
    "sys.path.append('../common/')\n",
    "from functions import get_view_counts\n",
    "\n",
    "import pandas as pd\n",
    "import numpy as np\n",
    "\n",
    "from pymongo import MongoClient "
   ]
  },
  {
   "cell_type": "markdown",
   "metadata": {},
   "source": [
    "### Make a dataframe from mongodb\n",
    "\n",
    "**Collections**\n",
    "* video_detail : contains title, url, published date, video_id of video\n",
    "* view_count : contains # of views, comments, likes\n",
    "* comments : contatins comments for video\n"
   ]
  },
  {
   "cell_type": "code",
   "execution_count": 2,
   "metadata": {},
   "outputs": [],
   "source": [
    "# connect mongodb through ssh tunnel\n",
    "connection = MongoClient(port=47017)\n",
    "db = connection['youtube_scrap']"
   ]
  },
  {
   "cell_type": "markdown",
   "metadata": {},
   "source": [
    "### Load video detail to dataframe"
   ]
  },
  {
   "cell_type": "code",
   "execution_count": 3,
   "metadata": {},
   "outputs": [],
   "source": [
    "# load from mongodb\n",
    "video_coll = db['video_detail']\n",
    "video_cur = video_coll.find({})\n",
    "videos = [video for video in video_cur]"
   ]
  },
  {
   "cell_type": "code",
   "execution_count": 4,
   "metadata": {},
   "outputs": [
    {
     "data": {
      "text/html": [
       "<div>\n",
       "<style scoped>\n",
       "    .dataframe tbody tr th:only-of-type {\n",
       "        vertical-align: middle;\n",
       "    }\n",
       "\n",
       "    .dataframe tbody tr th {\n",
       "        vertical-align: top;\n",
       "    }\n",
       "\n",
       "    .dataframe thead th {\n",
       "        text-align: right;\n",
       "    }\n",
       "</style>\n",
       "<table border=\"1\" class=\"dataframe\">\n",
       "  <thead>\n",
       "    <tr style=\"text-align: right;\">\n",
       "      <th></th>\n",
       "      <th>_id</th>\n",
       "      <th>has_comment</th>\n",
       "      <th>published</th>\n",
       "      <th>published_date</th>\n",
       "      <th>title</th>\n",
       "      <th>url</th>\n",
       "      <th>video_id</th>\n",
       "    </tr>\n",
       "  </thead>\n",
       "  <tbody>\n",
       "    <tr>\n",
       "      <th>0</th>\n",
       "      <td>5d13aed7e70a248460e5833f</td>\n",
       "      <td>Y</td>\n",
       "      <td>Jun 19, 2019</td>\n",
       "      <td>2019-06-19</td>\n",
       "      <td>Red Velvet 레드벨벳 '짐살라빔 (Zimzalabim)' MV</td>\n",
       "      <td>https://www.youtube.com/watch?v=YBnGBb1wg98</td>\n",
       "      <td>YBnGBb1wg98</td>\n",
       "    </tr>\n",
       "    <tr>\n",
       "      <th>1</th>\n",
       "      <td>5d13aedee70a248460e58340</td>\n",
       "      <td>Y</td>\n",
       "      <td>Apr 4, 2019</td>\n",
       "      <td>2019-04-04</td>\n",
       "      <td>BLACKPINK - 'Kill This Love' M/V</td>\n",
       "      <td>https://www.youtube.com/watch?v=2S24-y0Ij3Y</td>\n",
       "      <td>2S24-y0Ij3Y</td>\n",
       "    </tr>\n",
       "    <tr>\n",
       "      <th>2</th>\n",
       "      <td>5d13aee5e70a248460e58341</td>\n",
       "      <td>Y</td>\n",
       "      <td>Apr 12, 2019</td>\n",
       "      <td>2019-04-12</td>\n",
       "      <td>BTS (방탄소년단) '작은 것들을 위한 시 (Boy With Luv) feat. ...</td>\n",
       "      <td>https://www.youtube.com/watch?v=XsX3ATc3FbA</td>\n",
       "      <td>XsX3ATc3FbA</td>\n",
       "    </tr>\n",
       "    <tr>\n",
       "      <th>3</th>\n",
       "      <td>5d13aeebe70a248460e58342</td>\n",
       "      <td>Y</td>\n",
       "      <td>Jun 19, 2019</td>\n",
       "      <td>2019-06-19</td>\n",
       "      <td>Stray Kids \"부작용(Side Effects)\" M/V</td>\n",
       "      <td>https://www.youtube.com/watch?v=5rPluw_-Eb4</td>\n",
       "      <td>5rPluw_-Eb4</td>\n",
       "    </tr>\n",
       "    <tr>\n",
       "      <th>4</th>\n",
       "      <td>5d13aef1e70a248460e58343</td>\n",
       "      <td>Y</td>\n",
       "      <td>Jun 13, 2019</td>\n",
       "      <td>2019-06-13</td>\n",
       "      <td>SOMI (전소미) - 'BIRTHDAY' M/V</td>\n",
       "      <td>https://www.youtube.com/watch?v=oDJ4ct59NC4</td>\n",
       "      <td>oDJ4ct59NC4</td>\n",
       "    </tr>\n",
       "  </tbody>\n",
       "</table>\n",
       "</div>"
      ],
      "text/plain": [
       "                        _id has_comment     published published_date  \\\n",
       "0  5d13aed7e70a248460e5833f           Y  Jun 19, 2019     2019-06-19   \n",
       "1  5d13aedee70a248460e58340           Y   Apr 4, 2019     2019-04-04   \n",
       "2  5d13aee5e70a248460e58341           Y  Apr 12, 2019     2019-04-12   \n",
       "3  5d13aeebe70a248460e58342           Y  Jun 19, 2019     2019-06-19   \n",
       "4  5d13aef1e70a248460e58343           Y  Jun 13, 2019     2019-06-13   \n",
       "\n",
       "                                               title  \\\n",
       "0             Red Velvet 레드벨벳 '짐살라빔 (Zimzalabim)' MV   \n",
       "1                   BLACKPINK - 'Kill This Love' M/V   \n",
       "2  BTS (방탄소년단) '작은 것들을 위한 시 (Boy With Luv) feat. ...   \n",
       "3                 Stray Kids \"부작용(Side Effects)\" M/V   \n",
       "4                        SOMI (전소미) - 'BIRTHDAY' M/V   \n",
       "\n",
       "                                           url     video_id  \n",
       "0  https://www.youtube.com/watch?v=YBnGBb1wg98  YBnGBb1wg98  \n",
       "1  https://www.youtube.com/watch?v=2S24-y0Ij3Y  2S24-y0Ij3Y  \n",
       "2  https://www.youtube.com/watch?v=XsX3ATc3FbA  XsX3ATc3FbA  \n",
       "3  https://www.youtube.com/watch?v=5rPluw_-Eb4  5rPluw_-Eb4  \n",
       "4  https://www.youtube.com/watch?v=oDJ4ct59NC4  oDJ4ct59NC4  "
      ]
     },
     "execution_count": 4,
     "metadata": {},
     "output_type": "execute_result"
    }
   ],
   "source": [
    "# make a dataframe\n",
    "video_df = pd.DataFrame(videos)\n",
    "video_df.head()"
   ]
  },
  {
   "cell_type": "markdown",
   "metadata": {},
   "source": [
    "### Load comments to dataframe"
   ]
  },
  {
   "cell_type": "code",
   "execution_count": 5,
   "metadata": {},
   "outputs": [],
   "source": [
    "# load from mongodb\n",
    "comments_coll = db['comments']\n",
    "comments_cur = comments_coll.find({})\n",
    "comments = [comment for comment in comments_cur]"
   ]
  },
  {
   "cell_type": "code",
   "execution_count": 6,
   "metadata": {
    "scrolled": true
   },
   "outputs": [
    {
     "data": {
      "text/html": [
       "<div>\n",
       "<style scoped>\n",
       "    .dataframe tbody tr th:only-of-type {\n",
       "        vertical-align: middle;\n",
       "    }\n",
       "\n",
       "    .dataframe tbody tr th {\n",
       "        vertical-align: top;\n",
       "    }\n",
       "\n",
       "    .dataframe thead th {\n",
       "        text-align: right;\n",
       "    }\n",
       "</style>\n",
       "<table border=\"1\" class=\"dataframe\">\n",
       "  <thead>\n",
       "    <tr style=\"text-align: right;\">\n",
       "      <th></th>\n",
       "      <th>_id</th>\n",
       "      <th>comment</th>\n",
       "      <th>sentiment</th>\n",
       "      <th>video_id</th>\n",
       "    </tr>\n",
       "  </thead>\n",
       "  <tbody>\n",
       "    <tr>\n",
       "      <th>0</th>\n",
       "      <td>5d13bbade70a248460e583ee</td>\n",
       "      <td>How many international fans are here ?\\n\\n\\n\\n...</td>\n",
       "      <td>0.786539</td>\n",
       "      <td>YBnGBb1wg98</td>\n",
       "    </tr>\n",
       "    <tr>\n",
       "      <th>1</th>\n",
       "      <td>5d13bbaee70a248460e583ef</td>\n",
       "      <td>When the kpop world is influenzed by western s...</td>\n",
       "      <td>0.802004</td>\n",
       "      <td>YBnGBb1wg98</td>\n",
       "    </tr>\n",
       "    <tr>\n",
       "      <th>2</th>\n",
       "      <td>5d13bbaee70a248460e583f0</td>\n",
       "      <td>🎢Zimzalabim🎢\\nFull Daily Views (6pm KST)\\n\\nDa...</td>\n",
       "      <td>0.855145</td>\n",
       "      <td>YBnGBb1wg98</td>\n",
       "    </tr>\n",
       "    <tr>\n",
       "      <th>3</th>\n",
       "      <td>5d13bbaee70a248460e583f1</td>\n",
       "      <td>26M yayyy..!! The only one kpop i STAN RED VEL...</td>\n",
       "      <td>0.653234</td>\n",
       "      <td>YBnGBb1wg98</td>\n",
       "    </tr>\n",
       "    <tr>\n",
       "      <th>4</th>\n",
       "      <td>5d13bbaee70a248460e583f2</td>\n",
       "      <td>Some k-company: make their artist lipsinc to f...</td>\n",
       "      <td>0.880323</td>\n",
       "      <td>YBnGBb1wg98</td>\n",
       "    </tr>\n",
       "  </tbody>\n",
       "</table>\n",
       "</div>"
      ],
      "text/plain": [
       "                        _id  \\\n",
       "0  5d13bbade70a248460e583ee   \n",
       "1  5d13bbaee70a248460e583ef   \n",
       "2  5d13bbaee70a248460e583f0   \n",
       "3  5d13bbaee70a248460e583f1   \n",
       "4  5d13bbaee70a248460e583f2   \n",
       "\n",
       "                                             comment  sentiment     video_id  \n",
       "0  How many international fans are here ?\\n\\n\\n\\n...   0.786539  YBnGBb1wg98  \n",
       "1  When the kpop world is influenzed by western s...   0.802004  YBnGBb1wg98  \n",
       "2  🎢Zimzalabim🎢\\nFull Daily Views (6pm KST)\\n\\nDa...   0.855145  YBnGBb1wg98  \n",
       "3  26M yayyy..!! The only one kpop i STAN RED VEL...   0.653234  YBnGBb1wg98  \n",
       "4  Some k-company: make their artist lipsinc to f...   0.880323  YBnGBb1wg98  "
      ]
     },
     "execution_count": 6,
     "metadata": {},
     "output_type": "execute_result"
    }
   ],
   "source": [
    "# make a dataframe\n",
    "comments_df = pd.DataFrame(comments)\n",
    "comments_df.head()"
   ]
  },
  {
   "cell_type": "code",
   "execution_count": 7,
   "metadata": {},
   "outputs": [],
   "source": [
    "temp = pd.merge(video_df, comments_df, on='video_id')"
   ]
  },
  {
   "cell_type": "code",
   "execution_count": 8,
   "metadata": {},
   "outputs": [
    {
     "data": {
      "text/html": [
       "<div>\n",
       "<style scoped>\n",
       "    .dataframe tbody tr th:only-of-type {\n",
       "        vertical-align: middle;\n",
       "    }\n",
       "\n",
       "    .dataframe tbody tr th {\n",
       "        vertical-align: top;\n",
       "    }\n",
       "\n",
       "    .dataframe thead th {\n",
       "        text-align: right;\n",
       "    }\n",
       "</style>\n",
       "<table border=\"1\" class=\"dataframe\">\n",
       "  <thead>\n",
       "    <tr style=\"text-align: right;\">\n",
       "      <th></th>\n",
       "      <th>_id_x</th>\n",
       "      <th>has_comment</th>\n",
       "      <th>published</th>\n",
       "      <th>published_date</th>\n",
       "      <th>title</th>\n",
       "      <th>url</th>\n",
       "      <th>video_id</th>\n",
       "      <th>_id_y</th>\n",
       "      <th>comment</th>\n",
       "      <th>sentiment</th>\n",
       "    </tr>\n",
       "  </thead>\n",
       "  <tbody>\n",
       "    <tr>\n",
       "      <th>0</th>\n",
       "      <td>5d13aed7e70a248460e5833f</td>\n",
       "      <td>Y</td>\n",
       "      <td>Jun 19, 2019</td>\n",
       "      <td>2019-06-19</td>\n",
       "      <td>Red Velvet 레드벨벳 '짐살라빔 (Zimzalabim)' MV</td>\n",
       "      <td>https://www.youtube.com/watch?v=YBnGBb1wg98</td>\n",
       "      <td>YBnGBb1wg98</td>\n",
       "      <td>5d13bbade70a248460e583ee</td>\n",
       "      <td>How many international fans are here ?\\n\\n\\n\\n...</td>\n",
       "      <td>0.786539</td>\n",
       "    </tr>\n",
       "    <tr>\n",
       "      <th>1</th>\n",
       "      <td>5d13aed7e70a248460e5833f</td>\n",
       "      <td>Y</td>\n",
       "      <td>Jun 19, 2019</td>\n",
       "      <td>2019-06-19</td>\n",
       "      <td>Red Velvet 레드벨벳 '짐살라빔 (Zimzalabim)' MV</td>\n",
       "      <td>https://www.youtube.com/watch?v=YBnGBb1wg98</td>\n",
       "      <td>YBnGBb1wg98</td>\n",
       "      <td>5d13bbaee70a248460e583ef</td>\n",
       "      <td>When the kpop world is influenzed by western s...</td>\n",
       "      <td>0.802004</td>\n",
       "    </tr>\n",
       "    <tr>\n",
       "      <th>2</th>\n",
       "      <td>5d13aed7e70a248460e5833f</td>\n",
       "      <td>Y</td>\n",
       "      <td>Jun 19, 2019</td>\n",
       "      <td>2019-06-19</td>\n",
       "      <td>Red Velvet 레드벨벳 '짐살라빔 (Zimzalabim)' MV</td>\n",
       "      <td>https://www.youtube.com/watch?v=YBnGBb1wg98</td>\n",
       "      <td>YBnGBb1wg98</td>\n",
       "      <td>5d13bbaee70a248460e583f0</td>\n",
       "      <td>🎢Zimzalabim🎢\\nFull Daily Views (6pm KST)\\n\\nDa...</td>\n",
       "      <td>0.855145</td>\n",
       "    </tr>\n",
       "    <tr>\n",
       "      <th>3</th>\n",
       "      <td>5d13aed7e70a248460e5833f</td>\n",
       "      <td>Y</td>\n",
       "      <td>Jun 19, 2019</td>\n",
       "      <td>2019-06-19</td>\n",
       "      <td>Red Velvet 레드벨벳 '짐살라빔 (Zimzalabim)' MV</td>\n",
       "      <td>https://www.youtube.com/watch?v=YBnGBb1wg98</td>\n",
       "      <td>YBnGBb1wg98</td>\n",
       "      <td>5d13bbaee70a248460e583f1</td>\n",
       "      <td>26M yayyy..!! The only one kpop i STAN RED VEL...</td>\n",
       "      <td>0.653234</td>\n",
       "    </tr>\n",
       "    <tr>\n",
       "      <th>4</th>\n",
       "      <td>5d13aed7e70a248460e5833f</td>\n",
       "      <td>Y</td>\n",
       "      <td>Jun 19, 2019</td>\n",
       "      <td>2019-06-19</td>\n",
       "      <td>Red Velvet 레드벨벳 '짐살라빔 (Zimzalabim)' MV</td>\n",
       "      <td>https://www.youtube.com/watch?v=YBnGBb1wg98</td>\n",
       "      <td>YBnGBb1wg98</td>\n",
       "      <td>5d13bbaee70a248460e583f2</td>\n",
       "      <td>Some k-company: make their artist lipsinc to f...</td>\n",
       "      <td>0.880323</td>\n",
       "    </tr>\n",
       "  </tbody>\n",
       "</table>\n",
       "</div>"
      ],
      "text/plain": [
       "                      _id_x has_comment     published published_date  \\\n",
       "0  5d13aed7e70a248460e5833f           Y  Jun 19, 2019     2019-06-19   \n",
       "1  5d13aed7e70a248460e5833f           Y  Jun 19, 2019     2019-06-19   \n",
       "2  5d13aed7e70a248460e5833f           Y  Jun 19, 2019     2019-06-19   \n",
       "3  5d13aed7e70a248460e5833f           Y  Jun 19, 2019     2019-06-19   \n",
       "4  5d13aed7e70a248460e5833f           Y  Jun 19, 2019     2019-06-19   \n",
       "\n",
       "                                    title  \\\n",
       "0  Red Velvet 레드벨벳 '짐살라빔 (Zimzalabim)' MV   \n",
       "1  Red Velvet 레드벨벳 '짐살라빔 (Zimzalabim)' MV   \n",
       "2  Red Velvet 레드벨벳 '짐살라빔 (Zimzalabim)' MV   \n",
       "3  Red Velvet 레드벨벳 '짐살라빔 (Zimzalabim)' MV   \n",
       "4  Red Velvet 레드벨벳 '짐살라빔 (Zimzalabim)' MV   \n",
       "\n",
       "                                           url     video_id  \\\n",
       "0  https://www.youtube.com/watch?v=YBnGBb1wg98  YBnGBb1wg98   \n",
       "1  https://www.youtube.com/watch?v=YBnGBb1wg98  YBnGBb1wg98   \n",
       "2  https://www.youtube.com/watch?v=YBnGBb1wg98  YBnGBb1wg98   \n",
       "3  https://www.youtube.com/watch?v=YBnGBb1wg98  YBnGBb1wg98   \n",
       "4  https://www.youtube.com/watch?v=YBnGBb1wg98  YBnGBb1wg98   \n",
       "\n",
       "                      _id_y  \\\n",
       "0  5d13bbade70a248460e583ee   \n",
       "1  5d13bbaee70a248460e583ef   \n",
       "2  5d13bbaee70a248460e583f0   \n",
       "3  5d13bbaee70a248460e583f1   \n",
       "4  5d13bbaee70a248460e583f2   \n",
       "\n",
       "                                             comment  sentiment  \n",
       "0  How many international fans are here ?\\n\\n\\n\\n...   0.786539  \n",
       "1  When the kpop world is influenzed by western s...   0.802004  \n",
       "2  🎢Zimzalabim🎢\\nFull Daily Views (6pm KST)\\n\\nDa...   0.855145  \n",
       "3  26M yayyy..!! The only one kpop i STAN RED VEL...   0.653234  \n",
       "4  Some k-company: make their artist lipsinc to f...   0.880323  "
      ]
     },
     "execution_count": 8,
     "metadata": {},
     "output_type": "execute_result"
    }
   ],
   "source": [
    "temp.head()"
   ]
  },
  {
   "cell_type": "markdown",
   "metadata": {},
   "source": [
    "### Load view_count to dataframe"
   ]
  },
  {
   "cell_type": "code",
   "execution_count": 9,
   "metadata": {},
   "outputs": [
    {
     "data": {
      "text/plain": [
       "{'_id': ObjectId('5d13b6a99ec6103a9817d745'),\n",
       " 'title': '모모랜드(MOMOLAND) - 바나나차차(뽀로로 삽입곡) M/V',\n",
       " 'view_count': 502364,\n",
       " 'comment_count': 1530,\n",
       " 'like_count': 25277,\n",
       " 'timestamp': datetime.datetime(2019, 6, 26, 18, 17, 9, 330000),\n",
       " 'video_id': 'kxdEoCDzm-k'}"
      ]
     },
     "execution_count": 9,
     "metadata": {},
     "output_type": "execute_result"
    }
   ],
   "source": [
    "view_count_coll = db['view_count']\n",
    "view_count_cur = view_count_coll.find({})\n",
    "view_count_cur.next()"
   ]
  },
  {
   "cell_type": "code",
   "execution_count": 10,
   "metadata": {},
   "outputs": [],
   "source": [
    "# single video has a lot of view counts by time\n",
    "# need to get max value by title (need to change to video_id)\n",
    "view_max_count =[row for row in view_count_coll.aggregate([\n",
    "    {'$group' : {'_id':'$title', \n",
    "                 'view_count':{'$max':'$view_count'}, \n",
    "                 'like_count':{'$max':'$like_count'},\n",
    "                 'comment_count':{'$max':'$comment_count'},\n",
    "                }\n",
    "    }\n",
    "])]"
   ]
  },
  {
   "cell_type": "code",
   "execution_count": 11,
   "metadata": {},
   "outputs": [
    {
     "data": {
      "text/html": [
       "<div>\n",
       "<style scoped>\n",
       "    .dataframe tbody tr th:only-of-type {\n",
       "        vertical-align: middle;\n",
       "    }\n",
       "\n",
       "    .dataframe tbody tr th {\n",
       "        vertical-align: top;\n",
       "    }\n",
       "\n",
       "    .dataframe thead th {\n",
       "        text-align: right;\n",
       "    }\n",
       "</style>\n",
       "<table border=\"1\" class=\"dataframe\">\n",
       "  <thead>\n",
       "    <tr style=\"text-align: right;\">\n",
       "      <th></th>\n",
       "      <th>_id</th>\n",
       "      <th>comment_count</th>\n",
       "      <th>like_count</th>\n",
       "      <th>view_count</th>\n",
       "    </tr>\n",
       "  </thead>\n",
       "  <tbody>\n",
       "    <tr>\n",
       "      <th>0</th>\n",
       "      <td>EVERGLOW (에버글로우) - 봉봉쇼콜라 (Bon Bon Chocolat) MV</td>\n",
       "      <td>54397</td>\n",
       "      <td>907891</td>\n",
       "      <td>32747223</td>\n",
       "    </tr>\n",
       "    <tr>\n",
       "      <th>1</th>\n",
       "      <td>ONEWE(원위) '다 추억(Reminisce about All)' MV</td>\n",
       "      <td>1837</td>\n",
       "      <td>21177</td>\n",
       "      <td>130831</td>\n",
       "    </tr>\n",
       "    <tr>\n",
       "      <th>2</th>\n",
       "      <td>IZ*ONE (아이즈원) - '라비앙로즈 (La Vie en Rose)' MV Pe...</td>\n",
       "      <td>3185</td>\n",
       "      <td>133010</td>\n",
       "      <td>5017465</td>\n",
       "    </tr>\n",
       "    <tr>\n",
       "      <th>3</th>\n",
       "      <td>[MV] So!YoON!(황소윤) _ HOLIDAY</td>\n",
       "      <td>329</td>\n",
       "      <td>5333</td>\n",
       "      <td>140850</td>\n",
       "    </tr>\n",
       "    <tr>\n",
       "      <th>4</th>\n",
       "      <td>[MV] Yoon Mi Rae(윤미래) _ Don`t forget me(잊어가지마)...</td>\n",
       "      <td>265</td>\n",
       "      <td>7257</td>\n",
       "      <td>270020</td>\n",
       "    </tr>\n",
       "  </tbody>\n",
       "</table>\n",
       "</div>"
      ],
      "text/plain": [
       "                                                 _id  comment_count  \\\n",
       "0     EVERGLOW (에버글로우) - 봉봉쇼콜라 (Bon Bon Chocolat) MV          54397   \n",
       "1           ONEWE(원위) '다 추억(Reminisce about All)' MV           1837   \n",
       "2  IZ*ONE (아이즈원) - '라비앙로즈 (La Vie en Rose)' MV Pe...           3185   \n",
       "3                       [MV] So!YoON!(황소윤) _ HOLIDAY            329   \n",
       "4  [MV] Yoon Mi Rae(윤미래) _ Don`t forget me(잊어가지마)...            265   \n",
       "\n",
       "   like_count  view_count  \n",
       "0      907891    32747223  \n",
       "1       21177      130831  \n",
       "2      133010     5017465  \n",
       "3        5333      140850  \n",
       "4        7257      270020  "
      ]
     },
     "execution_count": 11,
     "metadata": {},
     "output_type": "execute_result"
    }
   ],
   "source": [
    "view_count_df = pd.DataFrame(view_max_count)\n",
    "view_count_df.head()"
   ]
  },
  {
   "cell_type": "code",
   "execution_count": 12,
   "metadata": {},
   "outputs": [
    {
     "data": {
      "text/html": [
       "<div>\n",
       "<style scoped>\n",
       "    .dataframe tbody tr th:only-of-type {\n",
       "        vertical-align: middle;\n",
       "    }\n",
       "\n",
       "    .dataframe tbody tr th {\n",
       "        vertical-align: top;\n",
       "    }\n",
       "\n",
       "    .dataframe thead th {\n",
       "        text-align: right;\n",
       "    }\n",
       "</style>\n",
       "<table border=\"1\" class=\"dataframe\">\n",
       "  <thead>\n",
       "    <tr style=\"text-align: right;\">\n",
       "      <th></th>\n",
       "      <th>title</th>\n",
       "      <th>comment_count</th>\n",
       "      <th>like_count</th>\n",
       "      <th>view_count</th>\n",
       "    </tr>\n",
       "  </thead>\n",
       "  <tbody>\n",
       "    <tr>\n",
       "      <th>0</th>\n",
       "      <td>EVERGLOW (에버글로우) - 봉봉쇼콜라 (Bon Bon Chocolat) MV</td>\n",
       "      <td>54397</td>\n",
       "      <td>907891</td>\n",
       "      <td>32747223</td>\n",
       "    </tr>\n",
       "    <tr>\n",
       "      <th>1</th>\n",
       "      <td>ONEWE(원위) '다 추억(Reminisce about All)' MV</td>\n",
       "      <td>1837</td>\n",
       "      <td>21177</td>\n",
       "      <td>130831</td>\n",
       "    </tr>\n",
       "    <tr>\n",
       "      <th>2</th>\n",
       "      <td>IZ*ONE (아이즈원) - '라비앙로즈 (La Vie en Rose)' MV Pe...</td>\n",
       "      <td>3185</td>\n",
       "      <td>133010</td>\n",
       "      <td>5017465</td>\n",
       "    </tr>\n",
       "    <tr>\n",
       "      <th>3</th>\n",
       "      <td>[MV] So!YoON!(황소윤) _ HOLIDAY</td>\n",
       "      <td>329</td>\n",
       "      <td>5333</td>\n",
       "      <td>140850</td>\n",
       "    </tr>\n",
       "    <tr>\n",
       "      <th>4</th>\n",
       "      <td>[MV] Yoon Mi Rae(윤미래) _ Don`t forget me(잊어가지마)...</td>\n",
       "      <td>265</td>\n",
       "      <td>7257</td>\n",
       "      <td>270020</td>\n",
       "    </tr>\n",
       "  </tbody>\n",
       "</table>\n",
       "</div>"
      ],
      "text/plain": [
       "                                               title  comment_count  \\\n",
       "0     EVERGLOW (에버글로우) - 봉봉쇼콜라 (Bon Bon Chocolat) MV          54397   \n",
       "1           ONEWE(원위) '다 추억(Reminisce about All)' MV           1837   \n",
       "2  IZ*ONE (아이즈원) - '라비앙로즈 (La Vie en Rose)' MV Pe...           3185   \n",
       "3                       [MV] So!YoON!(황소윤) _ HOLIDAY            329   \n",
       "4  [MV] Yoon Mi Rae(윤미래) _ Don`t forget me(잊어가지마)...            265   \n",
       "\n",
       "   like_count  view_count  \n",
       "0      907891    32747223  \n",
       "1       21177      130831  \n",
       "2      133010     5017465  \n",
       "3        5333      140850  \n",
       "4        7257      270020  "
      ]
     },
     "execution_count": 12,
     "metadata": {},
     "output_type": "execute_result"
    }
   ],
   "source": [
    "view_count_df.columns = ['title', 'comment_count', 'like_count', 'view_count']\n",
    "view_count_df.head()"
   ]
  },
  {
   "cell_type": "code",
   "execution_count": 13,
   "metadata": {},
   "outputs": [
    {
     "data": {
      "text/html": [
       "<div>\n",
       "<style scoped>\n",
       "    .dataframe tbody tr th:only-of-type {\n",
       "        vertical-align: middle;\n",
       "    }\n",
       "\n",
       "    .dataframe tbody tr th {\n",
       "        vertical-align: top;\n",
       "    }\n",
       "\n",
       "    .dataframe thead th {\n",
       "        text-align: right;\n",
       "    }\n",
       "</style>\n",
       "<table border=\"1\" class=\"dataframe\">\n",
       "  <thead>\n",
       "    <tr style=\"text-align: right;\">\n",
       "      <th></th>\n",
       "      <th>_id_x</th>\n",
       "      <th>has_comment</th>\n",
       "      <th>published</th>\n",
       "      <th>published_date</th>\n",
       "      <th>title</th>\n",
       "      <th>url</th>\n",
       "      <th>video_id</th>\n",
       "      <th>_id_y</th>\n",
       "      <th>comment</th>\n",
       "      <th>sentiment</th>\n",
       "      <th>comment_count</th>\n",
       "      <th>like_count</th>\n",
       "      <th>view_count</th>\n",
       "    </tr>\n",
       "  </thead>\n",
       "  <tbody>\n",
       "    <tr>\n",
       "      <th>0</th>\n",
       "      <td>5d13aed7e70a248460e5833f</td>\n",
       "      <td>Y</td>\n",
       "      <td>Jun 19, 2019</td>\n",
       "      <td>2019-06-19</td>\n",
       "      <td>Red Velvet 레드벨벳 '짐살라빔 (Zimzalabim)' MV</td>\n",
       "      <td>https://www.youtube.com/watch?v=YBnGBb1wg98</td>\n",
       "      <td>YBnGBb1wg98</td>\n",
       "      <td>5d13bbade70a248460e583ee</td>\n",
       "      <td>How many international fans are here ?\\n\\n\\n\\n...</td>\n",
       "      <td>0.786539</td>\n",
       "      <td>164559</td>\n",
       "      <td>1596901</td>\n",
       "      <td>26850555</td>\n",
       "    </tr>\n",
       "    <tr>\n",
       "      <th>1</th>\n",
       "      <td>5d13aed7e70a248460e5833f</td>\n",
       "      <td>Y</td>\n",
       "      <td>Jun 19, 2019</td>\n",
       "      <td>2019-06-19</td>\n",
       "      <td>Red Velvet 레드벨벳 '짐살라빔 (Zimzalabim)' MV</td>\n",
       "      <td>https://www.youtube.com/watch?v=YBnGBb1wg98</td>\n",
       "      <td>YBnGBb1wg98</td>\n",
       "      <td>5d13bbaee70a248460e583ef</td>\n",
       "      <td>When the kpop world is influenzed by western s...</td>\n",
       "      <td>0.802004</td>\n",
       "      <td>164559</td>\n",
       "      <td>1596901</td>\n",
       "      <td>26850555</td>\n",
       "    </tr>\n",
       "    <tr>\n",
       "      <th>2</th>\n",
       "      <td>5d13aed7e70a248460e5833f</td>\n",
       "      <td>Y</td>\n",
       "      <td>Jun 19, 2019</td>\n",
       "      <td>2019-06-19</td>\n",
       "      <td>Red Velvet 레드벨벳 '짐살라빔 (Zimzalabim)' MV</td>\n",
       "      <td>https://www.youtube.com/watch?v=YBnGBb1wg98</td>\n",
       "      <td>YBnGBb1wg98</td>\n",
       "      <td>5d13bbaee70a248460e583f0</td>\n",
       "      <td>🎢Zimzalabim🎢\\nFull Daily Views (6pm KST)\\n\\nDa...</td>\n",
       "      <td>0.855145</td>\n",
       "      <td>164559</td>\n",
       "      <td>1596901</td>\n",
       "      <td>26850555</td>\n",
       "    </tr>\n",
       "    <tr>\n",
       "      <th>3</th>\n",
       "      <td>5d13aed7e70a248460e5833f</td>\n",
       "      <td>Y</td>\n",
       "      <td>Jun 19, 2019</td>\n",
       "      <td>2019-06-19</td>\n",
       "      <td>Red Velvet 레드벨벳 '짐살라빔 (Zimzalabim)' MV</td>\n",
       "      <td>https://www.youtube.com/watch?v=YBnGBb1wg98</td>\n",
       "      <td>YBnGBb1wg98</td>\n",
       "      <td>5d13bbaee70a248460e583f1</td>\n",
       "      <td>26M yayyy..!! The only one kpop i STAN RED VEL...</td>\n",
       "      <td>0.653234</td>\n",
       "      <td>164559</td>\n",
       "      <td>1596901</td>\n",
       "      <td>26850555</td>\n",
       "    </tr>\n",
       "    <tr>\n",
       "      <th>4</th>\n",
       "      <td>5d13aed7e70a248460e5833f</td>\n",
       "      <td>Y</td>\n",
       "      <td>Jun 19, 2019</td>\n",
       "      <td>2019-06-19</td>\n",
       "      <td>Red Velvet 레드벨벳 '짐살라빔 (Zimzalabim)' MV</td>\n",
       "      <td>https://www.youtube.com/watch?v=YBnGBb1wg98</td>\n",
       "      <td>YBnGBb1wg98</td>\n",
       "      <td>5d13bbaee70a248460e583f2</td>\n",
       "      <td>Some k-company: make their artist lipsinc to f...</td>\n",
       "      <td>0.880323</td>\n",
       "      <td>164559</td>\n",
       "      <td>1596901</td>\n",
       "      <td>26850555</td>\n",
       "    </tr>\n",
       "  </tbody>\n",
       "</table>\n",
       "</div>"
      ],
      "text/plain": [
       "                      _id_x has_comment     published published_date  \\\n",
       "0  5d13aed7e70a248460e5833f           Y  Jun 19, 2019     2019-06-19   \n",
       "1  5d13aed7e70a248460e5833f           Y  Jun 19, 2019     2019-06-19   \n",
       "2  5d13aed7e70a248460e5833f           Y  Jun 19, 2019     2019-06-19   \n",
       "3  5d13aed7e70a248460e5833f           Y  Jun 19, 2019     2019-06-19   \n",
       "4  5d13aed7e70a248460e5833f           Y  Jun 19, 2019     2019-06-19   \n",
       "\n",
       "                                    title  \\\n",
       "0  Red Velvet 레드벨벳 '짐살라빔 (Zimzalabim)' MV   \n",
       "1  Red Velvet 레드벨벳 '짐살라빔 (Zimzalabim)' MV   \n",
       "2  Red Velvet 레드벨벳 '짐살라빔 (Zimzalabim)' MV   \n",
       "3  Red Velvet 레드벨벳 '짐살라빔 (Zimzalabim)' MV   \n",
       "4  Red Velvet 레드벨벳 '짐살라빔 (Zimzalabim)' MV   \n",
       "\n",
       "                                           url     video_id  \\\n",
       "0  https://www.youtube.com/watch?v=YBnGBb1wg98  YBnGBb1wg98   \n",
       "1  https://www.youtube.com/watch?v=YBnGBb1wg98  YBnGBb1wg98   \n",
       "2  https://www.youtube.com/watch?v=YBnGBb1wg98  YBnGBb1wg98   \n",
       "3  https://www.youtube.com/watch?v=YBnGBb1wg98  YBnGBb1wg98   \n",
       "4  https://www.youtube.com/watch?v=YBnGBb1wg98  YBnGBb1wg98   \n",
       "\n",
       "                      _id_y  \\\n",
       "0  5d13bbade70a248460e583ee   \n",
       "1  5d13bbaee70a248460e583ef   \n",
       "2  5d13bbaee70a248460e583f0   \n",
       "3  5d13bbaee70a248460e583f1   \n",
       "4  5d13bbaee70a248460e583f2   \n",
       "\n",
       "                                             comment  sentiment  \\\n",
       "0  How many international fans are here ?\\n\\n\\n\\n...   0.786539   \n",
       "1  When the kpop world is influenzed by western s...   0.802004   \n",
       "2  🎢Zimzalabim🎢\\nFull Daily Views (6pm KST)\\n\\nDa...   0.855145   \n",
       "3  26M yayyy..!! The only one kpop i STAN RED VEL...   0.653234   \n",
       "4  Some k-company: make their artist lipsinc to f...   0.880323   \n",
       "\n",
       "   comment_count  like_count  view_count  \n",
       "0         164559     1596901    26850555  \n",
       "1         164559     1596901    26850555  \n",
       "2         164559     1596901    26850555  \n",
       "3         164559     1596901    26850555  \n",
       "4         164559     1596901    26850555  "
      ]
     },
     "execution_count": 13,
     "metadata": {},
     "output_type": "execute_result"
    }
   ],
   "source": [
    "# merge with temp dataframe\n",
    "df = pd.merge(temp, view_count_df, on='title')\n",
    "df.head()"
   ]
  },
  {
   "cell_type": "markdown",
   "metadata": {},
   "source": [
    "## First spaghetti model"
   ]
  },
  {
   "cell_type": "markdown",
   "metadata": {},
   "source": [
    "### Make a simple model with basic TFIDF & Linear Regression"
   ]
  },
  {
   "cell_type": "code",
   "execution_count": 14,
   "metadata": {},
   "outputs": [],
   "source": [
    "# import prerequisties\n",
    "from sklearn.feature_extraction.text import TfidfVectorizer\n",
    "from sklearn.feature_extraction import stop_words\n",
    "from sklearn.model_selection import train_test_split\n",
    "from sklearn.linear_model import LinearRegression\n",
    "from sklearn.metrics import r2_score\n",
    "from sklearn.pipeline import Pipeline\n"
   ]
  },
  {
   "cell_type": "code",
   "execution_count": 15,
   "metadata": {},
   "outputs": [],
   "source": [
    "X = df['comment']"
   ]
  },
  {
   "cell_type": "code",
   "execution_count": 16,
   "metadata": {},
   "outputs": [],
   "source": [
    "y = df['view_count']"
   ]
  },
  {
   "cell_type": "code",
   "execution_count": 17,
   "metadata": {},
   "outputs": [],
   "source": [
    "# Parameters for TF-IDF vectorize\n",
    "ngrams_1 = {\n",
    "    'ngram_range': (1, 1),\n",
    "    'stop_words': 'english',\n",
    "    'dtype': 'int32',\n",
    "    'strip_accents': 'unicode',\n",
    "    'decode_error': 'replace',\n",
    "    'analyzer': 'word',\n",
    "    'min_df': 2\n",
    "}"
   ]
  },
  {
   "cell_type": "code",
   "execution_count": 18,
   "metadata": {},
   "outputs": [],
   "source": [
    "# Pipeline TFIDF & LinearRegression\n",
    "pp_first = Pipeline([\n",
    "    ('tfidf', TfidfVectorizer(ngrams_1)),\n",
    "    ('classifier', LinearRegression())\n",
    "])"
   ]
  },
  {
   "cell_type": "code",
   "execution_count": 19,
   "metadata": {},
   "outputs": [],
   "source": [
    "# Split train & test data\n",
    "X_train, X_test, y_train, y_test = train_test_split(X, y, \n",
    "                                                    test_size=0.2, \n",
    "                                                    random_state=27)"
   ]
  },
  {
   "cell_type": "code",
   "execution_count": 20,
   "metadata": {},
   "outputs": [
    {
     "data": {
      "text/plain": [
       "Pipeline(memory=None,\n",
       "     steps=[('tfidf', TfidfVectorizer(analyzer='word', binary=False, decode_error='strict',\n",
       "        dtype=<class 'numpy.float64'>, encoding='utf-8',\n",
       "        input={'ngram_range': (1, 1), 'stop_words': 'english', 'dtype': 'int32', 'strip_accents': 'unicode', 'decode_error': 'replace', 'analyzer': 'word', ...ssifier', LinearRegression(copy_X=True, fit_intercept=True, n_jobs=None,\n",
       "         normalize=False))])"
      ]
     },
     "execution_count": 20,
     "metadata": {},
     "output_type": "execute_result"
    }
   ],
   "source": [
    "pp_first.fit(X_train, y_train)"
   ]
  },
  {
   "cell_type": "code",
   "execution_count": 21,
   "metadata": {},
   "outputs": [
    {
     "data": {
      "text/plain": [
       "0.8574741864694009"
      ]
     },
     "execution_count": 21,
     "metadata": {},
     "output_type": "execute_result"
    }
   ],
   "source": [
    "pp_first.score(X_train, y_train)"
   ]
  },
  {
   "cell_type": "code",
   "execution_count": 22,
   "metadata": {},
   "outputs": [
    {
     "data": {
      "text/plain": [
       "-0.5816135499537327"
      ]
     },
     "execution_count": 22,
     "metadata": {},
     "output_type": "execute_result"
    }
   ],
   "source": [
    "pp_first.score(X_test, y_test)"
   ]
  },
  {
   "cell_type": "markdown",
   "metadata": {},
   "source": [
    "<span style='color:red'> **Too Bad Score, find another way** </span>"
   ]
  },
  {
   "cell_type": "markdown",
   "metadata": {},
   "source": [
    "### Set sentiment score to comments"
   ]
  },
  {
   "cell_type": "code",
   "execution_count": 23,
   "metadata": {},
   "outputs": [],
   "source": [
    "from textblob import TextBlob\n",
    "from textblob.sentiments import NaiveBayesAnalyzer\n",
    "\n",
    "from datetime import datetime"
   ]
  },
  {
   "cell_type": "code",
   "execution_count": 24,
   "metadata": {},
   "outputs": [
    {
     "data": {
      "text/plain": [
       "Sentiment(classification='pos', p_pos=0.7865389082121107, p_neg=0.21346109178788916)"
      ]
     },
     "execution_count": 24,
     "metadata": {},
     "output_type": "execute_result"
    }
   ],
   "source": [
    "sentiment = TextBlob(comments_df.loc[0, 'comment'], \n",
    "                     analyzer=NaiveBayesAnalyzer()).sentiment\n",
    "sentiment"
   ]
  },
  {
   "cell_type": "code",
   "execution_count": 25,
   "metadata": {},
   "outputs": [],
   "source": [
    "# It takes sooooooo long time. Run it with cloud server\n",
    "\n",
    "# coll = db['comments']\n",
    "# cur = coll.find({ 'sentiment' : { '$exists': False } }).limit(100)\n",
    "# comments = [comment for comment in cur]\n",
    "\n",
    "# for i, comment in enumerate(comments):\n",
    "#     sentiment = TextBlob(comment['comment'], analyzer=NaiveBayesAnalyzer()).sentiment\n",
    "#     coll.update_one({\"_id\": comment[\"_id\"]}, \n",
    "#         {\"$set\": {\"sentiment\": sentiment.p_pos}})\n",
    "\n",
    "#     print(datetime.now(), i, comment['comment'][:10], sentiment.p_pos)\n",
    "pass"
   ]
  },
  {
   "cell_type": "code",
   "execution_count": 26,
   "metadata": {},
   "outputs": [
    {
     "name": "stdout",
     "output_type": "stream",
     "text": [
      "<class 'pandas.core.frame.DataFrame'>\n",
      "RangeIndex: 29764 entries, 0 to 29763\n",
      "Data columns (total 4 columns):\n",
      "_id          29764 non-null object\n",
      "comment      29764 non-null object\n",
      "sentiment    27870 non-null float64\n",
      "video_id     29764 non-null object\n",
      "dtypes: float64(1), object(3)\n",
      "memory usage: 930.2+ KB\n"
     ]
    }
   ],
   "source": [
    "comments_df.info()"
   ]
  },
  {
   "cell_type": "code",
   "execution_count": 27,
   "metadata": {},
   "outputs": [],
   "source": [
    "# Set NA to 0.5 (netual)\n",
    "comments_df['sentiment'].fillna(0.5, inplace=True)"
   ]
  },
  {
   "cell_type": "code",
   "execution_count": 28,
   "metadata": {},
   "outputs": [],
   "source": [
    "sentiment_df = comments_df.groupby('video_id').mean()"
   ]
  },
  {
   "cell_type": "code",
   "execution_count": 29,
   "metadata": {},
   "outputs": [
    {
     "data": {
      "text/plain": [
       "259"
      ]
     },
     "execution_count": 29,
     "metadata": {},
     "output_type": "execute_result"
    }
   ],
   "source": [
    "temp_df = pd.merge(video_df, sentiment_df, on='video_id')\n",
    "len(temp_df)"
   ]
  },
  {
   "cell_type": "code",
   "execution_count": 30,
   "metadata": {},
   "outputs": [],
   "source": [
    "df = pd.merge(temp_df, view_count_df, on='title')"
   ]
  },
  {
   "cell_type": "code",
   "execution_count": 31,
   "metadata": {},
   "outputs": [
    {
     "data": {
      "text/plain": [
       "172"
      ]
     },
     "execution_count": 31,
     "metadata": {},
     "output_type": "execute_result"
    }
   ],
   "source": [
    "len(df)"
   ]
  },
  {
   "cell_type": "markdown",
   "metadata": {},
   "source": [
    "### Make a new model with numeric features"
   ]
  },
  {
   "cell_type": "code",
   "execution_count": 32,
   "metadata": {},
   "outputs": [
    {
     "data": {
      "text/html": [
       "<div>\n",
       "<style scoped>\n",
       "    .dataframe tbody tr th:only-of-type {\n",
       "        vertical-align: middle;\n",
       "    }\n",
       "\n",
       "    .dataframe tbody tr th {\n",
       "        vertical-align: top;\n",
       "    }\n",
       "\n",
       "    .dataframe thead th {\n",
       "        text-align: right;\n",
       "    }\n",
       "</style>\n",
       "<table border=\"1\" class=\"dataframe\">\n",
       "  <thead>\n",
       "    <tr style=\"text-align: right;\">\n",
       "      <th></th>\n",
       "      <th>_id</th>\n",
       "      <th>has_comment</th>\n",
       "      <th>published</th>\n",
       "      <th>published_date</th>\n",
       "      <th>title</th>\n",
       "      <th>url</th>\n",
       "      <th>video_id</th>\n",
       "      <th>sentiment</th>\n",
       "      <th>comment_count</th>\n",
       "      <th>like_count</th>\n",
       "      <th>view_count</th>\n",
       "    </tr>\n",
       "  </thead>\n",
       "  <tbody>\n",
       "    <tr>\n",
       "      <th>0</th>\n",
       "      <td>5d13aed7e70a248460e5833f</td>\n",
       "      <td>Y</td>\n",
       "      <td>Jun 19, 2019</td>\n",
       "      <td>2019-06-19</td>\n",
       "      <td>Red Velvet 레드벨벳 '짐살라빔 (Zimzalabim)' MV</td>\n",
       "      <td>https://www.youtube.com/watch?v=YBnGBb1wg98</td>\n",
       "      <td>YBnGBb1wg98</td>\n",
       "      <td>0.662094</td>\n",
       "      <td>164559</td>\n",
       "      <td>1596901</td>\n",
       "      <td>26850555</td>\n",
       "    </tr>\n",
       "  </tbody>\n",
       "</table>\n",
       "</div>"
      ],
      "text/plain": [
       "                        _id has_comment     published published_date  \\\n",
       "0  5d13aed7e70a248460e5833f           Y  Jun 19, 2019     2019-06-19   \n",
       "\n",
       "                                    title  \\\n",
       "0  Red Velvet 레드벨벳 '짐살라빔 (Zimzalabim)' MV   \n",
       "\n",
       "                                           url     video_id  sentiment  \\\n",
       "0  https://www.youtube.com/watch?v=YBnGBb1wg98  YBnGBb1wg98   0.662094   \n",
       "\n",
       "   comment_count  like_count  view_count  \n",
       "0         164559     1596901    26850555  "
      ]
     },
     "execution_count": 32,
     "metadata": {},
     "output_type": "execute_result"
    }
   ],
   "source": [
    "df.head(1)"
   ]
  },
  {
   "cell_type": "code",
   "execution_count": 33,
   "metadata": {},
   "outputs": [
    {
     "name": "stdout",
     "output_type": "stream",
     "text": [
      "<class 'pandas.core.frame.DataFrame'>\n",
      "Int64Index: 172 entries, 0 to 171\n",
      "Data columns (total 11 columns):\n",
      "_id               172 non-null object\n",
      "has_comment       172 non-null object\n",
      "published         172 non-null object\n",
      "published_date    172 non-null datetime64[ns]\n",
      "title             172 non-null object\n",
      "url               172 non-null object\n",
      "video_id          172 non-null object\n",
      "sentiment         172 non-null float64\n",
      "comment_count     172 non-null int64\n",
      "like_count        172 non-null int64\n",
      "view_count        172 non-null int64\n",
      "dtypes: datetime64[ns](1), float64(1), int64(3), object(6)\n",
      "memory usage: 16.1+ KB\n"
     ]
    }
   ],
   "source": [
    "df.info()"
   ]
  },
  {
   "cell_type": "markdown",
   "metadata": {},
   "source": [
    "#### Dataset with comment_count, like_count, and sentiment"
   ]
  },
  {
   "cell_type": "code",
   "execution_count": 34,
   "metadata": {},
   "outputs": [],
   "source": [
    "X = df[['comment_count', 'like_count', 'sentiment']]"
   ]
  },
  {
   "cell_type": "code",
   "execution_count": 35,
   "metadata": {},
   "outputs": [],
   "source": [
    "y = df['view_count']"
   ]
  },
  {
   "cell_type": "code",
   "execution_count": 36,
   "metadata": {},
   "outputs": [],
   "source": [
    "X_train, X_test, y_train, y_test = train_test_split(X, y, \n",
    "                                                    test_size=0.2, \n",
    "                                                    random_state=27)"
   ]
  },
  {
   "cell_type": "markdown",
   "metadata": {},
   "source": [
    "#### Using Linear Regression Model"
   ]
  },
  {
   "cell_type": "code",
   "execution_count": 37,
   "metadata": {},
   "outputs": [],
   "source": [
    "lr = LinearRegression()"
   ]
  },
  {
   "cell_type": "code",
   "execution_count": 38,
   "metadata": {},
   "outputs": [
    {
     "data": {
      "text/plain": [
       "LinearRegression(copy_X=True, fit_intercept=True, n_jobs=None,\n",
       "         normalize=False)"
      ]
     },
     "execution_count": 38,
     "metadata": {},
     "output_type": "execute_result"
    }
   ],
   "source": [
    "lr.fit(X_train, y_train)"
   ]
  },
  {
   "cell_type": "code",
   "execution_count": 39,
   "metadata": {},
   "outputs": [
    {
     "data": {
      "text/plain": [
       "0.7977008691967251"
      ]
     },
     "execution_count": 39,
     "metadata": {},
     "output_type": "execute_result"
    }
   ],
   "source": [
    "lr.score(X_test, y_test)"
   ]
  },
  {
   "cell_type": "code",
   "execution_count": 40,
   "metadata": {},
   "outputs": [
    {
     "data": {
      "text/plain": [
       "0.7082374558383007"
      ]
     },
     "execution_count": 40,
     "metadata": {},
     "output_type": "execute_result"
    }
   ],
   "source": [
    "lr.score(X_train, y_train)"
   ]
  },
  {
   "cell_type": "code",
   "execution_count": 41,
   "metadata": {},
   "outputs": [
    {
     "data": {
      "text/plain": [
       "array([-1.10884419e+02,  7.51777094e+01, -2.35276340e+08])"
      ]
     },
     "execution_count": 41,
     "metadata": {},
     "output_type": "execute_result"
    }
   ],
   "source": [
    "lr.coef_"
   ]
  },
  {
   "cell_type": "markdown",
   "metadata": {},
   "source": [
    "<span style='color:blue'> **Not bad, but too small dataset, find more ways to go** </span>"
   ]
  },
  {
   "cell_type": "markdown",
   "metadata": {},
   "source": [
    "## Prediction Model with Prophet"
   ]
  },
  {
   "cell_type": "code",
   "execution_count": 42,
   "metadata": {},
   "outputs": [],
   "source": [
    "from fbprophet import Prophet\n",
    "from matplotlib import pyplot as plt\n",
    "from matplotlib import dates as mdates"
   ]
  },
  {
   "cell_type": "markdown",
   "metadata": {},
   "source": [
    "### Make a dataframe from mongodb\n",
    "\n",
    "**Collections**\n",
    "* video_detail : contains title, url, published date, video_id of video\n",
    "* view_count : contains # of views, comments, likes"
   ]
  },
  {
   "cell_type": "code",
   "execution_count": 43,
   "metadata": {},
   "outputs": [],
   "source": [
    "# connect mongodb through ssh tunnel\n",
    "connection = MongoClient(port=47017)\n",
    "db = connection['youtube_scrap']"
   ]
  },
  {
   "cell_type": "markdown",
   "metadata": {},
   "source": [
    "### Load video detail to dataframe"
   ]
  },
  {
   "cell_type": "code",
   "execution_count": 44,
   "metadata": {},
   "outputs": [],
   "source": [
    "# load from mongodb\n",
    "video_coll = db['video_detail']\n",
    "video_cur = video_coll.find({})\n",
    "videos = [video for video in video_cur]"
   ]
  },
  {
   "cell_type": "code",
   "execution_count": 45,
   "metadata": {},
   "outputs": [],
   "source": [
    "# select a video\n",
    "video = videos[9]"
   ]
  },
  {
   "cell_type": "code",
   "execution_count": 46,
   "metadata": {},
   "outputs": [
    {
     "data": {
      "text/html": [
       "<div>\n",
       "<style scoped>\n",
       "    .dataframe tbody tr th:only-of-type {\n",
       "        vertical-align: middle;\n",
       "    }\n",
       "\n",
       "    .dataframe tbody tr th {\n",
       "        vertical-align: top;\n",
       "    }\n",
       "\n",
       "    .dataframe thead th {\n",
       "        text-align: right;\n",
       "    }\n",
       "</style>\n",
       "<table border=\"1\" class=\"dataframe\">\n",
       "  <thead>\n",
       "    <tr style=\"text-align: right;\">\n",
       "      <th></th>\n",
       "      <th>_id</th>\n",
       "      <th>comment_count</th>\n",
       "      <th>like_count</th>\n",
       "      <th>timestamp</th>\n",
       "      <th>title</th>\n",
       "      <th>video_id</th>\n",
       "      <th>view_count</th>\n",
       "    </tr>\n",
       "  </thead>\n",
       "  <tbody>\n",
       "    <tr>\n",
       "      <th>0</th>\n",
       "      <td>5d13b7a19ec6103a9817d75e</td>\n",
       "      <td>4495</td>\n",
       "      <td>183308</td>\n",
       "      <td>2019-06-26 18:21:16.925</td>\n",
       "      <td>Dream Glow (BTS World Original Soundtrack)</td>\n",
       "      <td>HwT9oKqfUxY</td>\n",
       "      <td>5505871</td>\n",
       "    </tr>\n",
       "    <tr>\n",
       "      <th>1</th>\n",
       "      <td>5d13c37b9ec6103a9817d89b</td>\n",
       "      <td>4497</td>\n",
       "      <td>183393</td>\n",
       "      <td>2019-06-26 19:11:51.844</td>\n",
       "      <td>Dream Glow (BTS World Original Soundtrack)</td>\n",
       "      <td>HwT9oKqfUxY</td>\n",
       "      <td>5509723</td>\n",
       "    </tr>\n",
       "    <tr>\n",
       "      <th>2</th>\n",
       "      <td>5d13c4779ec6103a9817d8af</td>\n",
       "      <td>4497</td>\n",
       "      <td>183397</td>\n",
       "      <td>2019-06-26 19:16:03.135</td>\n",
       "      <td>Dream Glow (BTS World Original Soundtrack)</td>\n",
       "      <td>HwT9oKqfUxY</td>\n",
       "      <td>5510424</td>\n",
       "    </tr>\n",
       "    <tr>\n",
       "      <th>3</th>\n",
       "      <td>5d13cdb89ec6103a9817d993</td>\n",
       "      <td>4498</td>\n",
       "      <td>183476</td>\n",
       "      <td>2019-06-26 19:55:32.016</td>\n",
       "      <td>Dream Glow (BTS World Original Soundtrack)</td>\n",
       "      <td>HwT9oKqfUxY</td>\n",
       "      <td>5514608</td>\n",
       "    </tr>\n",
       "    <tr>\n",
       "      <th>4</th>\n",
       "      <td>5d13d3ad9ec6103a9817da31</td>\n",
       "      <td>4501</td>\n",
       "      <td>183530</td>\n",
       "      <td>2019-06-26 20:20:57.911</td>\n",
       "      <td>Dream Glow (BTS World Original Soundtrack)</td>\n",
       "      <td>HwT9oKqfUxY</td>\n",
       "      <td>5517267</td>\n",
       "    </tr>\n",
       "  </tbody>\n",
       "</table>\n",
       "</div>"
      ],
      "text/plain": [
       "                        _id  comment_count  like_count  \\\n",
       "0  5d13b7a19ec6103a9817d75e           4495      183308   \n",
       "1  5d13c37b9ec6103a9817d89b           4497      183393   \n",
       "2  5d13c4779ec6103a9817d8af           4497      183397   \n",
       "3  5d13cdb89ec6103a9817d993           4498      183476   \n",
       "4  5d13d3ad9ec6103a9817da31           4501      183530   \n",
       "\n",
       "                timestamp                                       title  \\\n",
       "0 2019-06-26 18:21:16.925  Dream Glow (BTS World Original Soundtrack)   \n",
       "1 2019-06-26 19:11:51.844  Dream Glow (BTS World Original Soundtrack)   \n",
       "2 2019-06-26 19:16:03.135  Dream Glow (BTS World Original Soundtrack)   \n",
       "3 2019-06-26 19:55:32.016  Dream Glow (BTS World Original Soundtrack)   \n",
       "4 2019-06-26 20:20:57.911  Dream Glow (BTS World Original Soundtrack)   \n",
       "\n",
       "      video_id  view_count  \n",
       "0  HwT9oKqfUxY     5505871  \n",
       "1  HwT9oKqfUxY     5509723  \n",
       "2  HwT9oKqfUxY     5510424  \n",
       "3  HwT9oKqfUxY     5514608  \n",
       "4  HwT9oKqfUxY     5517267  "
      ]
     },
     "execution_count": 46,
     "metadata": {},
     "output_type": "execute_result"
    }
   ],
   "source": [
    "# get view_counts for selected video\n",
    "df = get_view_counts(db, video['video_id'])\n",
    "df.head()"
   ]
  },
  {
   "cell_type": "markdown",
   "metadata": {},
   "source": [
    "### Make a prediction with Prophet"
   ]
  },
  {
   "cell_type": "code",
   "execution_count": 47,
   "metadata": {},
   "outputs": [],
   "source": [
    "# initialize Prophet model\n",
    "m = Prophet()"
   ]
  },
  {
   "cell_type": "code",
   "execution_count": 48,
   "metadata": {},
   "outputs": [
    {
     "data": {
      "text/html": [
       "<div>\n",
       "<style scoped>\n",
       "    .dataframe tbody tr th:only-of-type {\n",
       "        vertical-align: middle;\n",
       "    }\n",
       "\n",
       "    .dataframe tbody tr th {\n",
       "        vertical-align: top;\n",
       "    }\n",
       "\n",
       "    .dataframe thead th {\n",
       "        text-align: right;\n",
       "    }\n",
       "</style>\n",
       "<table border=\"1\" class=\"dataframe\">\n",
       "  <thead>\n",
       "    <tr style=\"text-align: right;\">\n",
       "      <th></th>\n",
       "      <th>ds</th>\n",
       "      <th>y</th>\n",
       "    </tr>\n",
       "  </thead>\n",
       "  <tbody>\n",
       "    <tr>\n",
       "      <th>0</th>\n",
       "      <td>2019-06-26 18:21:16.925</td>\n",
       "      <td>5505871</td>\n",
       "    </tr>\n",
       "    <tr>\n",
       "      <th>1</th>\n",
       "      <td>2019-06-26 19:11:51.844</td>\n",
       "      <td>5509723</td>\n",
       "    </tr>\n",
       "    <tr>\n",
       "      <th>2</th>\n",
       "      <td>2019-06-26 19:16:03.135</td>\n",
       "      <td>5510424</td>\n",
       "    </tr>\n",
       "    <tr>\n",
       "      <th>3</th>\n",
       "      <td>2019-06-26 19:55:32.016</td>\n",
       "      <td>5514608</td>\n",
       "    </tr>\n",
       "    <tr>\n",
       "      <th>4</th>\n",
       "      <td>2019-06-26 20:20:57.911</td>\n",
       "      <td>5517267</td>\n",
       "    </tr>\n",
       "  </tbody>\n",
       "</table>\n",
       "</div>"
      ],
      "text/plain": [
       "                       ds        y\n",
       "0 2019-06-26 18:21:16.925  5505871\n",
       "1 2019-06-26 19:11:51.844  5509723\n",
       "2 2019-06-26 19:16:03.135  5510424\n",
       "3 2019-06-26 19:55:32.016  5514608\n",
       "4 2019-06-26 20:20:57.911  5517267"
      ]
     },
     "execution_count": 48,
     "metadata": {},
     "output_type": "execute_result"
    }
   ],
   "source": [
    "# prepare dataframe for Prophet\n",
    "est_df = df[['timestamp', 'view_count']]\n",
    "est_df.columns = ['ds', 'y']\n",
    "est_df.head()"
   ]
  },
  {
   "cell_type": "code",
   "execution_count": 49,
   "metadata": {},
   "outputs": [
    {
     "name": "stderr",
     "output_type": "stream",
     "text": [
      "INFO:fbprophet:Disabling yearly seasonality. Run prophet with yearly_seasonality=True to override this.\n",
      "/Users/teo/anaconda3/lib/python3.7/site-packages/pystan/misc.py:399: FutureWarning:\n",
      "\n",
      "Conversion of the second argument of issubdtype from `float` to `np.floating` is deprecated. In future, it will be treated as `np.float64 == np.dtype(float).type`.\n",
      "\n"
     ]
    },
    {
     "data": {
      "text/plain": [
       "<fbprophet.forecaster.Prophet at 0x1a28b8d160>"
      ]
     },
     "execution_count": 49,
     "metadata": {},
     "output_type": "execute_result"
    }
   ],
   "source": [
    "# fit to model\n",
    "m.fit(est_df)"
   ]
  },
  {
   "cell_type": "code",
   "execution_count": 50,
   "metadata": {},
   "outputs": [
    {
     "data": {
      "text/html": [
       "<div>\n",
       "<style scoped>\n",
       "    .dataframe tbody tr th:only-of-type {\n",
       "        vertical-align: middle;\n",
       "    }\n",
       "\n",
       "    .dataframe tbody tr th {\n",
       "        vertical-align: top;\n",
       "    }\n",
       "\n",
       "    .dataframe thead th {\n",
       "        text-align: right;\n",
       "    }\n",
       "</style>\n",
       "<table border=\"1\" class=\"dataframe\">\n",
       "  <thead>\n",
       "    <tr style=\"text-align: right;\">\n",
       "      <th></th>\n",
       "      <th>ds</th>\n",
       "    </tr>\n",
       "  </thead>\n",
       "  <tbody>\n",
       "    <tr>\n",
       "      <th>586</th>\n",
       "      <td>2019-07-11 16:04:15.549</td>\n",
       "    </tr>\n",
       "    <tr>\n",
       "      <th>587</th>\n",
       "      <td>2019-07-11 16:13:17.502</td>\n",
       "    </tr>\n",
       "    <tr>\n",
       "      <th>588</th>\n",
       "      <td>2019-07-12 16:13:17.502</td>\n",
       "    </tr>\n",
       "    <tr>\n",
       "      <th>589</th>\n",
       "      <td>2019-07-13 16:13:17.502</td>\n",
       "    </tr>\n",
       "    <tr>\n",
       "      <th>590</th>\n",
       "      <td>2019-07-14 16:13:17.502</td>\n",
       "    </tr>\n",
       "  </tbody>\n",
       "</table>\n",
       "</div>"
      ],
      "text/plain": [
       "                         ds\n",
       "586 2019-07-11 16:04:15.549\n",
       "587 2019-07-11 16:13:17.502\n",
       "588 2019-07-12 16:13:17.502\n",
       "589 2019-07-13 16:13:17.502\n",
       "590 2019-07-14 16:13:17.502"
      ]
     },
     "execution_count": 50,
     "metadata": {},
     "output_type": "execute_result"
    }
   ],
   "source": [
    "# make dataframe for estimatin after 3 days \n",
    "future = m.make_future_dataframe(periods=3)\n",
    "future.tail()"
   ]
  },
  {
   "cell_type": "code",
   "execution_count": 51,
   "metadata": {},
   "outputs": [],
   "source": [
    "# perform predict \n",
    "forecast = m.predict(future)"
   ]
  },
  {
   "cell_type": "code",
   "execution_count": 52,
   "metadata": {},
   "outputs": [
    {
     "data": {
      "text/html": [
       "<div>\n",
       "<style scoped>\n",
       "    .dataframe tbody tr th:only-of-type {\n",
       "        vertical-align: middle;\n",
       "    }\n",
       "\n",
       "    .dataframe tbody tr th {\n",
       "        vertical-align: top;\n",
       "    }\n",
       "\n",
       "    .dataframe thead th {\n",
       "        text-align: right;\n",
       "    }\n",
       "</style>\n",
       "<table border=\"1\" class=\"dataframe\">\n",
       "  <thead>\n",
       "    <tr style=\"text-align: right;\">\n",
       "      <th></th>\n",
       "      <th>ds</th>\n",
       "      <th>yhat</th>\n",
       "      <th>yhat_lower</th>\n",
       "      <th>yhat_upper</th>\n",
       "    </tr>\n",
       "  </thead>\n",
       "  <tbody>\n",
       "    <tr>\n",
       "      <th>586</th>\n",
       "      <td>2019-07-11 16:04:15.549</td>\n",
       "      <td>6.485274e+06</td>\n",
       "      <td>6.484173e+06</td>\n",
       "      <td>6.486462e+06</td>\n",
       "    </tr>\n",
       "    <tr>\n",
       "      <th>587</th>\n",
       "      <td>2019-07-11 16:13:17.502</td>\n",
       "      <td>6.485532e+06</td>\n",
       "      <td>6.484376e+06</td>\n",
       "      <td>6.486658e+06</td>\n",
       "    </tr>\n",
       "    <tr>\n",
       "      <th>588</th>\n",
       "      <td>2019-07-12 16:13:17.502</td>\n",
       "      <td>6.527750e+06</td>\n",
       "      <td>6.516863e+06</td>\n",
       "      <td>6.539778e+06</td>\n",
       "    </tr>\n",
       "    <tr>\n",
       "      <th>589</th>\n",
       "      <td>2019-07-13 16:13:17.502</td>\n",
       "      <td>6.572677e+06</td>\n",
       "      <td>6.535580e+06</td>\n",
       "      <td>6.612606e+06</td>\n",
       "    </tr>\n",
       "    <tr>\n",
       "      <th>590</th>\n",
       "      <td>2019-07-14 16:13:17.502</td>\n",
       "      <td>6.616788e+06</td>\n",
       "      <td>6.546981e+06</td>\n",
       "      <td>6.691389e+06</td>\n",
       "    </tr>\n",
       "  </tbody>\n",
       "</table>\n",
       "</div>"
      ],
      "text/plain": [
       "                         ds          yhat    yhat_lower    yhat_upper\n",
       "586 2019-07-11 16:04:15.549  6.485274e+06  6.484173e+06  6.486462e+06\n",
       "587 2019-07-11 16:13:17.502  6.485532e+06  6.484376e+06  6.486658e+06\n",
       "588 2019-07-12 16:13:17.502  6.527750e+06  6.516863e+06  6.539778e+06\n",
       "589 2019-07-13 16:13:17.502  6.572677e+06  6.535580e+06  6.612606e+06\n",
       "590 2019-07-14 16:13:17.502  6.616788e+06  6.546981e+06  6.691389e+06"
      ]
     },
     "execution_count": 52,
     "metadata": {},
     "output_type": "execute_result"
    }
   ],
   "source": [
    "# extracting some data\n",
    "forecast[['ds', 'yhat', 'yhat_lower', 'yhat_upper']].tail(5)"
   ]
  },
  {
   "cell_type": "code",
   "execution_count": 53,
   "metadata": {},
   "outputs": [
    {
     "data": {
      "image/png": "[encoded data removed]",
      "text/plain": [
       "<Figure size 720x432 with 1 Axes>"
      ]
     },
     "metadata": {},
     "output_type": "display_data"
    }
   ],
   "source": [
    "# Draw a chart with forecast (prophet function)\n",
    "fig1 = m.plot(forecast)"
   ]
  },
  {
   "cell_type": "markdown",
   "metadata": {},
   "source": [
    "### What's inside forecast"
   ]
  },
  {
   "cell_type": "code",
   "execution_count": 54,
   "metadata": {},
   "outputs": [
    {
     "data": {
      "text/html": [
       "<div>\n",
       "<style scoped>\n",
       "    .dataframe tbody tr th:only-of-type {\n",
       "        vertical-align: middle;\n",
       "    }\n",
       "\n",
       "    .dataframe tbody tr th {\n",
       "        vertical-align: top;\n",
       "    }\n",
       "\n",
       "    .dataframe thead th {\n",
       "        text-align: right;\n",
       "    }\n",
       "</style>\n",
       "<table border=\"1\" class=\"dataframe\">\n",
       "  <thead>\n",
       "    <tr style=\"text-align: right;\">\n",
       "      <th></th>\n",
       "      <th>ds</th>\n",
       "      <th>trend</th>\n",
       "      <th>yhat_lower</th>\n",
       "      <th>yhat_upper</th>\n",
       "      <th>trend_lower</th>\n",
       "      <th>trend_upper</th>\n",
       "      <th>additive_terms</th>\n",
       "      <th>additive_terms_lower</th>\n",
       "      <th>additive_terms_upper</th>\n",
       "      <th>daily</th>\n",
       "      <th>daily_lower</th>\n",
       "      <th>daily_upper</th>\n",
       "      <th>weekly</th>\n",
       "      <th>weekly_lower</th>\n",
       "      <th>weekly_upper</th>\n",
       "      <th>multiplicative_terms</th>\n",
       "      <th>multiplicative_terms_lower</th>\n",
       "      <th>multiplicative_terms_upper</th>\n",
       "      <th>yhat</th>\n",
       "    </tr>\n",
       "  </thead>\n",
       "  <tbody>\n",
       "    <tr>\n",
       "      <th>587</th>\n",
       "      <td>2019-07-11 16:13:17.502</td>\n",
       "      <td>6.490545e+06</td>\n",
       "      <td>6.484376e+06</td>\n",
       "      <td>6.486658e+06</td>\n",
       "      <td>6.490545e+06</td>\n",
       "      <td>6.490545e+06</td>\n",
       "      <td>-5012.735950</td>\n",
       "      <td>-5012.735950</td>\n",
       "      <td>-5012.735950</td>\n",
       "      <td>-3862.07454</td>\n",
       "      <td>-3862.07454</td>\n",
       "      <td>-3862.07454</td>\n",
       "      <td>-1150.661411</td>\n",
       "      <td>-1150.661411</td>\n",
       "      <td>-1150.661411</td>\n",
       "      <td>0.0</td>\n",
       "      <td>0.0</td>\n",
       "      <td>0.0</td>\n",
       "      <td>6.485532e+06</td>\n",
       "    </tr>\n",
       "    <tr>\n",
       "      <th>588</th>\n",
       "      <td>2019-07-12 16:13:17.502</td>\n",
       "      <td>6.533251e+06</td>\n",
       "      <td>6.516863e+06</td>\n",
       "      <td>6.539778e+06</td>\n",
       "      <td>6.522320e+06</td>\n",
       "      <td>6.545072e+06</td>\n",
       "      <td>-5500.874890</td>\n",
       "      <td>-5500.874890</td>\n",
       "      <td>-5500.874890</td>\n",
       "      <td>-3862.07454</td>\n",
       "      <td>-3862.07454</td>\n",
       "      <td>-3862.07454</td>\n",
       "      <td>-1638.800350</td>\n",
       "      <td>-1638.800350</td>\n",
       "      <td>-1638.800350</td>\n",
       "      <td>0.0</td>\n",
       "      <td>0.0</td>\n",
       "      <td>0.0</td>\n",
       "      <td>6.527750e+06</td>\n",
       "    </tr>\n",
       "    <tr>\n",
       "      <th>589</th>\n",
       "      <td>2019-07-13 16:13:17.502</td>\n",
       "      <td>6.575956e+06</td>\n",
       "      <td>6.535580e+06</td>\n",
       "      <td>6.612606e+06</td>\n",
       "      <td>6.538847e+06</td>\n",
       "      <td>6.616098e+06</td>\n",
       "      <td>-3278.827712</td>\n",
       "      <td>-3278.827712</td>\n",
       "      <td>-3278.827712</td>\n",
       "      <td>-3862.07454</td>\n",
       "      <td>-3862.07454</td>\n",
       "      <td>-3862.07454</td>\n",
       "      <td>583.246828</td>\n",
       "      <td>583.246828</td>\n",
       "      <td>583.246828</td>\n",
       "      <td>0.0</td>\n",
       "      <td>0.0</td>\n",
       "      <td>0.0</td>\n",
       "      <td>6.572677e+06</td>\n",
       "    </tr>\n",
       "    <tr>\n",
       "      <th>590</th>\n",
       "      <td>2019-07-14 16:13:17.502</td>\n",
       "      <td>6.618662e+06</td>\n",
       "      <td>6.546981e+06</td>\n",
       "      <td>6.691389e+06</td>\n",
       "      <td>6.548478e+06</td>\n",
       "      <td>6.693398e+06</td>\n",
       "      <td>-1874.085494</td>\n",
       "      <td>-1874.085494</td>\n",
       "      <td>-1874.085494</td>\n",
       "      <td>-3862.07454</td>\n",
       "      <td>-3862.07454</td>\n",
       "      <td>-3862.07454</td>\n",
       "      <td>1987.989046</td>\n",
       "      <td>1987.989046</td>\n",
       "      <td>1987.989046</td>\n",
       "      <td>0.0</td>\n",
       "      <td>0.0</td>\n",
       "      <td>0.0</td>\n",
       "      <td>6.616788e+06</td>\n",
       "    </tr>\n",
       "  </tbody>\n",
       "</table>\n",
       "</div>"
      ],
      "text/plain": [
       "                         ds         trend    yhat_lower    yhat_upper  \\\n",
       "587 2019-07-11 16:13:17.502  6.490545e+06  6.484376e+06  6.486658e+06   \n",
       "588 2019-07-12 16:13:17.502  6.533251e+06  6.516863e+06  6.539778e+06   \n",
       "589 2019-07-13 16:13:17.502  6.575956e+06  6.535580e+06  6.612606e+06   \n",
       "590 2019-07-14 16:13:17.502  6.618662e+06  6.546981e+06  6.691389e+06   \n",
       "\n",
       "      trend_lower   trend_upper  additive_terms  additive_terms_lower  \\\n",
       "587  6.490545e+06  6.490545e+06    -5012.735950          -5012.735950   \n",
       "588  6.522320e+06  6.545072e+06    -5500.874890          -5500.874890   \n",
       "589  6.538847e+06  6.616098e+06    -3278.827712          -3278.827712   \n",
       "590  6.548478e+06  6.693398e+06    -1874.085494          -1874.085494   \n",
       "\n",
       "     additive_terms_upper       daily  daily_lower  daily_upper       weekly  \\\n",
       "587          -5012.735950 -3862.07454  -3862.07454  -3862.07454 -1150.661411   \n",
       "588          -5500.874890 -3862.07454  -3862.07454  -3862.07454 -1638.800350   \n",
       "589          -3278.827712 -3862.07454  -3862.07454  -3862.07454   583.246828   \n",
       "590          -1874.085494 -3862.07454  -3862.07454  -3862.07454  1987.989046   \n",
       "\n",
       "     weekly_lower  weekly_upper  multiplicative_terms  \\\n",
       "587  -1150.661411  -1150.661411                   0.0   \n",
       "588  -1638.800350  -1638.800350                   0.0   \n",
       "589    583.246828    583.246828                   0.0   \n",
       "590   1987.989046   1987.989046                   0.0   \n",
       "\n",
       "     multiplicative_terms_lower  multiplicative_terms_upper          yhat  \n",
       "587                         0.0                         0.0  6.485532e+06  \n",
       "588                         0.0                         0.0  6.527750e+06  \n",
       "589                         0.0                         0.0  6.572677e+06  \n",
       "590                         0.0                         0.0  6.616788e+06  "
      ]
     },
     "execution_count": 54,
     "metadata": {},
     "output_type": "execute_result"
    }
   ],
   "source": [
    "# extract last 3 rows in forecast \n",
    "# (but one more row is needed for chart)\n",
    "df = forecast.tail(4)\n",
    "df"
   ]
  },
  {
   "cell_type": "code",
   "execution_count": 55,
   "metadata": {},
   "outputs": [
    {
     "data": {
      "image/png": "[encoded data removed]",
      "text/plain": [
       "<Figure size 576x432 with 1 Axes>"
      ]
     },
     "metadata": {
      "needs_background": "light"
     },
     "output_type": "display_data"
    }
   ],
   "source": [
    "# Draw chart with 3 values in forecast\n",
    "# yhat, yhat_upper, yhat_lower\n",
    "fig, ax = plt.subplots(figsize=(8, 6))\n",
    "\n",
    "ax.plot(df['ds'], df['yhat'], '--', label='estimate')\n",
    "ax.plot(df['ds'], df['yhat_lower'], '-', label='lower bound')\n",
    "ax.plot(df['ds'], df['yhat_upper'], '-', label='upper bound')\n",
    "\n",
    "hours = mdates.HourLocator(interval = 12)\n",
    "h_fmt = mdates.DateFormatter('%m%d-%H:%M')\n",
    "\n",
    "ax.xaxis.set_major_locator(hours)\n",
    "ax.xaxis.set_major_formatter(h_fmt)\n",
    "plt.legend()\n",
    "plt.show()"
   ]
  },
  {
   "cell_type": "markdown",
   "metadata": {},
   "source": [
    "### Chart for past + forecast"
   ]
  },
  {
   "cell_type": "code",
   "execution_count": 61,
   "metadata": {},
   "outputs": [
    {
     "data": {
      "image/png": "[encoded data removed]",
      "text/plain": [
       "<Figure size 576x432 with 1 Axes>"
      ]
     },
     "metadata": {
      "needs_background": "light"
     },
     "output_type": "display_data"
    }
   ],
   "source": [
    "# Draw chart with 3 values in forecast\n",
    "# yhat, yhat_upper, yhat_lower\n",
    "fig, ax = plt.subplots(figsize=(8, 6))\n",
    "\n",
    "ax.plot(forecast['ds'], forecast['yhat'], '-', label='count')\n",
    "ax.plot(df['ds'], df['yhat'], '--', label='estimate')\n",
    "ax.plot(df['ds'], df['yhat_lower'], '-', label='lower bound')\n",
    "ax.plot(df['ds'], df['yhat_upper'], '-', label='upper bound')\n",
    "\n",
    "fig.suptitle('View Count Change')\n",
    "ax.set_xlabel('Date')\n",
    "ax.set_ylabel('Views')\n",
    "hours = mdates.HourLocator(interval = 48)\n",
    "h_fmt = mdates.DateFormatter('%m%d')\n",
    "\n",
    "ax.xaxis.set_major_locator(hours)\n",
    "ax.xaxis.set_major_formatter(h_fmt)\n",
    "plt.legend()\n",
    "plt.show()"
   ]
  },
  {
   "cell_type": "code",
   "execution_count": 57,
   "metadata": {},
   "outputs": [
    {
     "data": {
      "text/plain": [
       "6616787.829358322"
      ]
     },
     "execution_count": 57,
     "metadata": {},
     "output_type": "execute_result"
    }
   ],
   "source": [
    "# Get a prediction after 3 days\n",
    "forecast['yhat'].tail(1).values[0]"
   ]
  },
  {
   "cell_type": "code",
   "execution_count": null,
   "metadata": {},
   "outputs": [],
   "source": []
  },
  {
   "cell_type": "code",
   "execution_count": null,
   "metadata": {},
   "outputs": [],
   "source": []
  },
  {
   "cell_type": "code",
   "execution_count": null,
   "metadata": {},
   "outputs": [],
   "source": []
  }
 ],
 "metadata": {
  "kernelspec": {
   "display_name": "Python 3",
   "language": "python",
   "name": "python3"
  },
  "language_info": {
   "codemirror_mode": {
    "name": "ipython",
    "version": 3
   },
   "file_extension": ".py",
   "mimetype": "text/x-python",
   "name": "python",
   "nbconvert_exporter": "python",
   "pygments_lexer": "ipython3",
   "version": "3.7.3"
  }
 },
 "nbformat": 4,
 "nbformat_minor": 2
}
